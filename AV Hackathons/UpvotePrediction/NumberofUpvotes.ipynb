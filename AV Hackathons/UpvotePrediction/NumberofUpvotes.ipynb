{
 "cells": [
  {
   "cell_type": "markdown",
   "metadata": {},
   "source": [
    "# Predict Number of Upvotes"
   ]
  },
  {
   "cell_type": "markdown",
   "metadata": {},
   "source": [
    "#### Problem description"
   ]
  },
  {
   "cell_type": "markdown",
   "metadata": {},
   "source": [
    "An online question and answer platform has hired you as a data scientist to identify the best question authors on the platform. This identification will bring more insight into increasing the user engagement. Given the tag of the question, number of views received, number of answers, username and reputation of the question author, the problem requires you to predict the upvote count that the question will receive.\n"
   ]
  },
  {
   "cell_type": "markdown",
   "metadata": {},
   "source": [
    "<b>Approach:</b>\n",
    "\n",
    "1) Data Exploration  \n",
    "2) Data summarization and correlation metrics  \n",
    "3) Hypotheses on what features could be important  \n",
    "4) Feature engineering 1  \n",
    "5) Training naive models  \n",
    "6) Grid search on naive models  \n",
    "7) Feature Engineering 2  \n",
    "8) Running models on engineered features  \n",
    "9) Ensemble models  \n",
    "10) Neural Networks  \n",
    "11) Conclusion  \n",
    "    \n",
    "    "
   ]
  },
  {
   "cell_type": "markdown",
   "metadata": {},
   "source": [
    " "
   ]
  },
  {
   "cell_type": "code",
   "execution_count": 1,
   "metadata": {},
   "outputs": [],
   "source": [
    "from sklearn.tree import DecisionTreeRegressor\n",
    "from sklearn.model_selection import cross_val_score, cross_validate\n",
    "from sklearn.metrics import classification_report\n",
    "from sklearn.metrics import mean_absolute_error, mean_squared_error\n",
    "from sklearn.linear_model import ElasticNet, Lasso, Ridge, SGDRegressor\n",
    "from sklearn.ensemble import BaggingRegressor, GradientBoostingRegressor, AdaBoostRegressor, RandomForestRegressor"
   ]
  },
  {
   "cell_type": "code",
   "execution_count": 2,
   "metadata": {},
   "outputs": [],
   "source": [
    "import pandas as pd, numpy as np"
   ]
  },
  {
   "cell_type": "code",
   "execution_count": 3,
   "metadata": {},
   "outputs": [],
   "source": [
    "train = pd.read_csv(\"train.csv\")"
   ]
  },
  {
   "cell_type": "code",
   "execution_count": 4,
   "metadata": {},
   "outputs": [],
   "source": [
    "test = pd.read_csv(\"test.csv\")"
   ]
  },
  {
   "cell_type": "code",
   "execution_count": 5,
   "metadata": {},
   "outputs": [
    {
     "name": "stdout",
     "output_type": "stream",
     "text": [
      "<class 'pandas.core.frame.DataFrame'>\n",
      "RangeIndex: 330045 entries, 0 to 330044\n",
      "Data columns (total 7 columns):\n",
      " #   Column      Non-Null Count   Dtype \n",
      "---  ------      --------------   ----- \n",
      " 0   ID          330045 non-null  int64 \n",
      " 1   Tag         330045 non-null  object\n",
      " 2   Reputation  330045 non-null  int64 \n",
      " 3   Answers     330045 non-null  int64 \n",
      " 4   Username    330045 non-null  int64 \n",
      " 5   Views       330045 non-null  int64 \n",
      " 6   Upvotes     330045 non-null  int64 \n",
      "dtypes: int64(6), object(1)\n",
      "memory usage: 17.6+ MB\n"
     ]
    }
   ],
   "source": [
    "train.info()"
   ]
  },
  {
   "cell_type": "code",
   "execution_count": 6,
   "metadata": {},
   "outputs": [
    {
     "data": {
      "text/html": [
       "<div>\n",
       "<style scoped>\n",
       "    .dataframe tbody tr th:only-of-type {\n",
       "        vertical-align: middle;\n",
       "    }\n",
       "\n",
       "    .dataframe tbody tr th {\n",
       "        vertical-align: top;\n",
       "    }\n",
       "\n",
       "    .dataframe thead th {\n",
       "        text-align: right;\n",
       "    }\n",
       "</style>\n",
       "<table border=\"1\" class=\"dataframe\">\n",
       "  <thead>\n",
       "    <tr style=\"text-align: right;\">\n",
       "      <th></th>\n",
       "      <th>ID</th>\n",
       "      <th>Reputation</th>\n",
       "      <th>Answers</th>\n",
       "      <th>Username</th>\n",
       "      <th>Views</th>\n",
       "      <th>Upvotes</th>\n",
       "    </tr>\n",
       "  </thead>\n",
       "  <tbody>\n",
       "    <tr>\n",
       "      <th>count</th>\n",
       "      <td>330045.000000</td>\n",
       "      <td>3.300450e+05</td>\n",
       "      <td>330045.000000</td>\n",
       "      <td>330045.000000</td>\n",
       "      <td>3.300450e+05</td>\n",
       "      <td>330045.000000</td>\n",
       "    </tr>\n",
       "    <tr>\n",
       "      <th>mean</th>\n",
       "      <td>235748.682789</td>\n",
       "      <td>7.773147e+03</td>\n",
       "      <td>3.917672</td>\n",
       "      <td>81442.888803</td>\n",
       "      <td>2.964507e+04</td>\n",
       "      <td>337.505358</td>\n",
       "    </tr>\n",
       "    <tr>\n",
       "      <th>std</th>\n",
       "      <td>136039.418471</td>\n",
       "      <td>2.706141e+04</td>\n",
       "      <td>3.579515</td>\n",
       "      <td>49215.100730</td>\n",
       "      <td>8.095646e+04</td>\n",
       "      <td>3592.441135</td>\n",
       "    </tr>\n",
       "    <tr>\n",
       "      <th>min</th>\n",
       "      <td>1.000000</td>\n",
       "      <td>0.000000e+00</td>\n",
       "      <td>0.000000</td>\n",
       "      <td>0.000000</td>\n",
       "      <td>9.000000e+00</td>\n",
       "      <td>0.000000</td>\n",
       "    </tr>\n",
       "    <tr>\n",
       "      <th>25%</th>\n",
       "      <td>117909.000000</td>\n",
       "      <td>2.820000e+02</td>\n",
       "      <td>2.000000</td>\n",
       "      <td>39808.000000</td>\n",
       "      <td>2.594000e+03</td>\n",
       "      <td>8.000000</td>\n",
       "    </tr>\n",
       "    <tr>\n",
       "      <th>50%</th>\n",
       "      <td>235699.000000</td>\n",
       "      <td>1.236000e+03</td>\n",
       "      <td>3.000000</td>\n",
       "      <td>79010.000000</td>\n",
       "      <td>8.954000e+03</td>\n",
       "      <td>28.000000</td>\n",
       "    </tr>\n",
       "    <tr>\n",
       "      <th>75%</th>\n",
       "      <td>353620.000000</td>\n",
       "      <td>5.118000e+03</td>\n",
       "      <td>5.000000</td>\n",
       "      <td>122559.000000</td>\n",
       "      <td>2.687000e+04</td>\n",
       "      <td>107.000000</td>\n",
       "    </tr>\n",
       "    <tr>\n",
       "      <th>max</th>\n",
       "      <td>471493.000000</td>\n",
       "      <td>1.042428e+06</td>\n",
       "      <td>76.000000</td>\n",
       "      <td>175738.000000</td>\n",
       "      <td>5.231058e+06</td>\n",
       "      <td>615278.000000</td>\n",
       "    </tr>\n",
       "  </tbody>\n",
       "</table>\n",
       "</div>"
      ],
      "text/plain": [
       "                  ID    Reputation        Answers       Username  \\\n",
       "count  330045.000000  3.300450e+05  330045.000000  330045.000000   \n",
       "mean   235748.682789  7.773147e+03       3.917672   81442.888803   \n",
       "std    136039.418471  2.706141e+04       3.579515   49215.100730   \n",
       "min         1.000000  0.000000e+00       0.000000       0.000000   \n",
       "25%    117909.000000  2.820000e+02       2.000000   39808.000000   \n",
       "50%    235699.000000  1.236000e+03       3.000000   79010.000000   \n",
       "75%    353620.000000  5.118000e+03       5.000000  122559.000000   \n",
       "max    471493.000000  1.042428e+06      76.000000  175738.000000   \n",
       "\n",
       "              Views        Upvotes  \n",
       "count  3.300450e+05  330045.000000  \n",
       "mean   2.964507e+04     337.505358  \n",
       "std    8.095646e+04    3592.441135  \n",
       "min    9.000000e+00       0.000000  \n",
       "25%    2.594000e+03       8.000000  \n",
       "50%    8.954000e+03      28.000000  \n",
       "75%    2.687000e+04     107.000000  \n",
       "max    5.231058e+06  615278.000000  "
      ]
     },
     "execution_count": 6,
     "metadata": {},
     "output_type": "execute_result"
    }
   ],
   "source": [
    "train.describe()"
   ]
  },
  {
   "cell_type": "code",
   "execution_count": 7,
   "metadata": {},
   "outputs": [
    {
     "data": {
      "text/html": [
       "<div>\n",
       "<style scoped>\n",
       "    .dataframe tbody tr th:only-of-type {\n",
       "        vertical-align: middle;\n",
       "    }\n",
       "\n",
       "    .dataframe tbody tr th {\n",
       "        vertical-align: top;\n",
       "    }\n",
       "\n",
       "    .dataframe thead th {\n",
       "        text-align: right;\n",
       "    }\n",
       "</style>\n",
       "<table border=\"1\" class=\"dataframe\">\n",
       "  <thead>\n",
       "    <tr style=\"text-align: right;\">\n",
       "      <th></th>\n",
       "      <th>ID</th>\n",
       "      <th>Reputation</th>\n",
       "      <th>Answers</th>\n",
       "      <th>Username</th>\n",
       "      <th>Views</th>\n",
       "    </tr>\n",
       "  </thead>\n",
       "  <tbody>\n",
       "    <tr>\n",
       "      <th>count</th>\n",
       "      <td>141448.000000</td>\n",
       "      <td>1.414480e+05</td>\n",
       "      <td>141448.000000</td>\n",
       "      <td>141448.000000</td>\n",
       "      <td>1.414480e+05</td>\n",
       "    </tr>\n",
       "    <tr>\n",
       "      <th>mean</th>\n",
       "      <td>235743.073497</td>\n",
       "      <td>7.920927e+03</td>\n",
       "      <td>3.914873</td>\n",
       "      <td>81348.231117</td>\n",
       "      <td>2.984633e+04</td>\n",
       "    </tr>\n",
       "    <tr>\n",
       "      <th>std</th>\n",
       "      <td>136269.867118</td>\n",
       "      <td>2.791072e+04</td>\n",
       "      <td>3.577460</td>\n",
       "      <td>49046.098215</td>\n",
       "      <td>8.034374e+04</td>\n",
       "    </tr>\n",
       "    <tr>\n",
       "      <th>min</th>\n",
       "      <td>7.000000</td>\n",
       "      <td>0.000000e+00</td>\n",
       "      <td>0.000000</td>\n",
       "      <td>4.000000</td>\n",
       "      <td>9.000000e+00</td>\n",
       "    </tr>\n",
       "    <tr>\n",
       "      <th>25%</th>\n",
       "      <td>117797.000000</td>\n",
       "      <td>2.860000e+02</td>\n",
       "      <td>2.000000</td>\n",
       "      <td>40222.750000</td>\n",
       "      <td>2.608000e+03</td>\n",
       "    </tr>\n",
       "    <tr>\n",
       "      <th>50%</th>\n",
       "      <td>235830.000000</td>\n",
       "      <td>1.245000e+03</td>\n",
       "      <td>3.000000</td>\n",
       "      <td>78795.500000</td>\n",
       "      <td>8.977000e+03</td>\n",
       "    </tr>\n",
       "    <tr>\n",
       "      <th>75%</th>\n",
       "      <td>353616.000000</td>\n",
       "      <td>5.123000e+03</td>\n",
       "      <td>5.000000</td>\n",
       "      <td>122149.000000</td>\n",
       "      <td>2.698925e+04</td>\n",
       "    </tr>\n",
       "    <tr>\n",
       "      <th>max</th>\n",
       "      <td>471488.000000</td>\n",
       "      <td>1.042428e+06</td>\n",
       "      <td>73.000000</td>\n",
       "      <td>175737.000000</td>\n",
       "      <td>5.004669e+06</td>\n",
       "    </tr>\n",
       "  </tbody>\n",
       "</table>\n",
       "</div>"
      ],
      "text/plain": [
       "                  ID    Reputation        Answers       Username         Views\n",
       "count  141448.000000  1.414480e+05  141448.000000  141448.000000  1.414480e+05\n",
       "mean   235743.073497  7.920927e+03       3.914873   81348.231117  2.984633e+04\n",
       "std    136269.867118  2.791072e+04       3.577460   49046.098215  8.034374e+04\n",
       "min         7.000000  0.000000e+00       0.000000       4.000000  9.000000e+00\n",
       "25%    117797.000000  2.860000e+02       2.000000   40222.750000  2.608000e+03\n",
       "50%    235830.000000  1.245000e+03       3.000000   78795.500000  8.977000e+03\n",
       "75%    353616.000000  5.123000e+03       5.000000  122149.000000  2.698925e+04\n",
       "max    471488.000000  1.042428e+06      73.000000  175737.000000  5.004669e+06"
      ]
     },
     "execution_count": 7,
     "metadata": {},
     "output_type": "execute_result"
    }
   ],
   "source": [
    "test.describe()"
   ]
  },
  {
   "cell_type": "code",
   "execution_count": 8,
   "metadata": {},
   "outputs": [
    {
     "data": {
      "text/html": [
       "<div>\n",
       "<style scoped>\n",
       "    .dataframe tbody tr th:only-of-type {\n",
       "        vertical-align: middle;\n",
       "    }\n",
       "\n",
       "    .dataframe tbody tr th {\n",
       "        vertical-align: top;\n",
       "    }\n",
       "\n",
       "    .dataframe thead th {\n",
       "        text-align: right;\n",
       "    }\n",
       "</style>\n",
       "<table border=\"1\" class=\"dataframe\">\n",
       "  <thead>\n",
       "    <tr style=\"text-align: right;\">\n",
       "      <th></th>\n",
       "      <th>ID</th>\n",
       "      <th>Reputation</th>\n",
       "      <th>Answers</th>\n",
       "      <th>Username</th>\n",
       "      <th>Views</th>\n",
       "      <th>Upvotes</th>\n",
       "    </tr>\n",
       "  </thead>\n",
       "  <tbody>\n",
       "    <tr>\n",
       "      <th>ID</th>\n",
       "      <td>1.000000</td>\n",
       "      <td>0.008546</td>\n",
       "      <td>0.017448</td>\n",
       "      <td>0.000628</td>\n",
       "      <td>0.017400</td>\n",
       "      <td>0.006328</td>\n",
       "    </tr>\n",
       "    <tr>\n",
       "      <th>Reputation</th>\n",
       "      <td>0.008546</td>\n",
       "      <td>1.000000</td>\n",
       "      <td>0.066504</td>\n",
       "      <td>-0.041019</td>\n",
       "      <td>0.036455</td>\n",
       "      <td>0.266710</td>\n",
       "    </tr>\n",
       "    <tr>\n",
       "      <th>Answers</th>\n",
       "      <td>0.017448</td>\n",
       "      <td>0.066504</td>\n",
       "      <td>1.000000</td>\n",
       "      <td>-0.012197</td>\n",
       "      <td>0.498642</td>\n",
       "      <td>0.202033</td>\n",
       "    </tr>\n",
       "    <tr>\n",
       "      <th>Username</th>\n",
       "      <td>0.000628</td>\n",
       "      <td>-0.041019</td>\n",
       "      <td>-0.012197</td>\n",
       "      <td>1.000000</td>\n",
       "      <td>0.002306</td>\n",
       "      <td>-0.011970</td>\n",
       "    </tr>\n",
       "    <tr>\n",
       "      <th>Views</th>\n",
       "      <td>0.017400</td>\n",
       "      <td>0.036455</td>\n",
       "      <td>0.498642</td>\n",
       "      <td>0.002306</td>\n",
       "      <td>1.000000</td>\n",
       "      <td>0.437336</td>\n",
       "    </tr>\n",
       "    <tr>\n",
       "      <th>Upvotes</th>\n",
       "      <td>0.006328</td>\n",
       "      <td>0.266710</td>\n",
       "      <td>0.202033</td>\n",
       "      <td>-0.011970</td>\n",
       "      <td>0.437336</td>\n",
       "      <td>1.000000</td>\n",
       "    </tr>\n",
       "  </tbody>\n",
       "</table>\n",
       "</div>"
      ],
      "text/plain": [
       "                  ID  Reputation   Answers  Username     Views   Upvotes\n",
       "ID          1.000000    0.008546  0.017448  0.000628  0.017400  0.006328\n",
       "Reputation  0.008546    1.000000  0.066504 -0.041019  0.036455  0.266710\n",
       "Answers     0.017448    0.066504  1.000000 -0.012197  0.498642  0.202033\n",
       "Username    0.000628   -0.041019 -0.012197  1.000000  0.002306 -0.011970\n",
       "Views       0.017400    0.036455  0.498642  0.002306  1.000000  0.437336\n",
       "Upvotes     0.006328    0.266710  0.202033 -0.011970  0.437336  1.000000"
      ]
     },
     "execution_count": 8,
     "metadata": {},
     "output_type": "execute_result"
    }
   ],
   "source": [
    "train.corr()"
   ]
  },
  {
   "cell_type": "code",
   "execution_count": 9,
   "metadata": {},
   "outputs": [],
   "source": [
    "import seaborn as sn\n",
    "import matplotlib.pyplot as plt"
   ]
  },
  {
   "cell_type": "code",
   "execution_count": 10,
   "metadata": {},
   "outputs": [
    {
     "data": {
      "image/png": "[encoded data removed]",
      "text/plain": [
       "<Figure size 432x288 with 2 Axes>"
      ]
     },
     "metadata": {
      "needs_background": "light"
     },
     "output_type": "display_data"
    }
   ],
   "source": [
    "sn.heatmap(train[['Reputation', 'Answers', 'Views', 'Upvotes']].corr(), annot=True)\n",
    "plt.show()"
   ]
  },
  {
   "cell_type": "code",
   "execution_count": 11,
   "metadata": {},
   "outputs": [
    {
     "data": {
      "image/png": "[encoded data removed]",
      "text/plain": [
       "<Figure size 1152x864 with 4 Axes>"
      ]
     },
     "metadata": {
      "needs_background": "light"
     },
     "output_type": "display_data"
    }
   ],
   "source": [
    "plt.figure(figsize = (16,12))\n",
    "plt.subplot(1,4,1)\n",
    "train[['Reputation']].boxplot()\n",
    "plt.subplot(1,4,2)\n",
    "train[['Answers']].boxplot()\n",
    "plt.subplot(1,4,3)\n",
    "train[['Views']].boxplot()\n",
    "plt.subplot(1,4,4)\n",
    "train[['Upvotes']].boxplot()\n",
    "\n",
    "\n",
    "plt.show()"
   ]
  },
  {
   "cell_type": "code",
   "execution_count": 12,
   "metadata": {},
   "outputs": [
    {
     "data": {
      "image/png": "[encoded data removed]",
      "text/plain": [
       "<Figure size 432x288 with 2 Axes>"
      ]
     },
     "metadata": {
      "needs_background": "light"
     },
     "output_type": "display_data"
    }
   ],
   "source": [
    "sn.heatmap(test[['Reputation', 'Answers', 'Views']].corr(), annot=True)\n",
    "plt.show()"
   ]
  },
  {
   "cell_type": "code",
   "execution_count": 13,
   "metadata": {},
   "outputs": [
    {
     "data": {
      "image/png": "[encoded data removed]",
      "text/plain": [
       "<Figure size 1152x864 with 3 Axes>"
      ]
     },
     "metadata": {
      "needs_background": "light"
     },
     "output_type": "display_data"
    }
   ],
   "source": [
    "plt.figure(figsize = (16,12))\n",
    "plt.subplot(1,3,1)\n",
    "test[['Reputation']].boxplot()\n",
    "plt.subplot(1,3,2)\n",
    "test[['Answers']].boxplot()\n",
    "plt.subplot(1,3,3)\n",
    "test[['Views']].boxplot()\n",
    "\n",
    "plt.show()"
   ]
  },
  {
   "cell_type": "code",
   "execution_count": 14,
   "metadata": {},
   "outputs": [],
   "source": [
    "pd.set_option('display.float_format', lambda x: '%.2f' % x)"
   ]
  },
  {
   "cell_type": "code",
   "execution_count": 15,
   "metadata": {
    "scrolled": true
   },
   "outputs": [
    {
     "data": {
      "text/html": [
       "<div>\n",
       "<style scoped>\n",
       "    .dataframe tbody tr th:only-of-type {\n",
       "        vertical-align: middle;\n",
       "    }\n",
       "\n",
       "    .dataframe tbody tr th {\n",
       "        vertical-align: top;\n",
       "    }\n",
       "\n",
       "    .dataframe thead th {\n",
       "        text-align: right;\n",
       "    }\n",
       "</style>\n",
       "<table border=\"1\" class=\"dataframe\">\n",
       "  <thead>\n",
       "    <tr style=\"text-align: right;\">\n",
       "      <th></th>\n",
       "      <th>Tag</th>\n",
       "      <th>a</th>\n",
       "      <th>c</th>\n",
       "      <th>h</th>\n",
       "      <th>i</th>\n",
       "      <th>j</th>\n",
       "      <th>o</th>\n",
       "      <th>p</th>\n",
       "      <th>r</th>\n",
       "      <th>s</th>\n",
       "      <th>x</th>\n",
       "    </tr>\n",
       "  </thead>\n",
       "  <tbody>\n",
       "    <tr>\n",
       "      <th rowspan=\"8\" valign=\"top\">ID</th>\n",
       "      <th>count</th>\n",
       "      <td>31695.00</td>\n",
       "      <td>72458.00</td>\n",
       "      <td>20564.00</td>\n",
       "      <td>32400.00</td>\n",
       "      <td>72232.00</td>\n",
       "      <td>14546.00</td>\n",
       "      <td>43407.00</td>\n",
       "      <td>12442.00</td>\n",
       "      <td>23323.00</td>\n",
       "      <td>6978.00</td>\n",
       "    </tr>\n",
       "    <tr>\n",
       "      <th>mean</th>\n",
       "      <td>239590.35</td>\n",
       "      <td>237971.01</td>\n",
       "      <td>236766.82</td>\n",
       "      <td>220363.25</td>\n",
       "      <td>237764.33</td>\n",
       "      <td>236318.98</td>\n",
       "      <td>237951.32</td>\n",
       "      <td>236191.36</td>\n",
       "      <td>232761.90</td>\n",
       "      <td>237098.15</td>\n",
       "    </tr>\n",
       "    <tr>\n",
       "      <th>std</th>\n",
       "      <td>134852.00</td>\n",
       "      <td>135463.81</td>\n",
       "      <td>135517.35</td>\n",
       "      <td>138577.13</td>\n",
       "      <td>136108.06</td>\n",
       "      <td>136632.13</td>\n",
       "      <td>135129.39</td>\n",
       "      <td>135782.65</td>\n",
       "      <td>136387.16</td>\n",
       "      <td>135216.89</td>\n",
       "    </tr>\n",
       "    <tr>\n",
       "      <th>min</th>\n",
       "      <td>8.00</td>\n",
       "      <td>2.00</td>\n",
       "      <td>50.00</td>\n",
       "      <td>45.00</td>\n",
       "      <td>1.00</td>\n",
       "      <td>24.00</td>\n",
       "      <td>3.00</td>\n",
       "      <td>37.00</td>\n",
       "      <td>6.00</td>\n",
       "      <td>124.00</td>\n",
       "    </tr>\n",
       "    <tr>\n",
       "      <th>25%</th>\n",
       "      <td>124391.50</td>\n",
       "      <td>121625.75</td>\n",
       "      <td>119965.75</td>\n",
       "      <td>96069.50</td>\n",
       "      <td>120293.25</td>\n",
       "      <td>117761.25</td>\n",
       "      <td>122507.00</td>\n",
       "      <td>118207.25</td>\n",
       "      <td>115230.00</td>\n",
       "      <td>121516.50</td>\n",
       "    </tr>\n",
       "    <tr>\n",
       "      <th>50%</th>\n",
       "      <td>241846.00</td>\n",
       "      <td>239311.50</td>\n",
       "      <td>236767.50</td>\n",
       "      <td>209093.50</td>\n",
       "      <td>239113.50</td>\n",
       "      <td>236986.00</td>\n",
       "      <td>239075.00</td>\n",
       "      <td>236425.00</td>\n",
       "      <td>229399.00</td>\n",
       "      <td>236870.00</td>\n",
       "    </tr>\n",
       "    <tr>\n",
       "      <th>75%</th>\n",
       "      <td>353699.00</td>\n",
       "      <td>354858.50</td>\n",
       "      <td>353733.50</td>\n",
       "      <td>347671.75</td>\n",
       "      <td>355174.25</td>\n",
       "      <td>354068.25</td>\n",
       "      <td>354430.00</td>\n",
       "      <td>353090.00</td>\n",
       "      <td>353094.50</td>\n",
       "      <td>351804.50</td>\n",
       "    </tr>\n",
       "    <tr>\n",
       "      <th>max</th>\n",
       "      <td>471493.00</td>\n",
       "      <td>471489.00</td>\n",
       "      <td>471413.00</td>\n",
       "      <td>471491.00</td>\n",
       "      <td>471485.00</td>\n",
       "      <td>471461.00</td>\n",
       "      <td>471492.00</td>\n",
       "      <td>471430.00</td>\n",
       "      <td>471366.00</td>\n",
       "      <td>471476.00</td>\n",
       "    </tr>\n",
       "    <tr>\n",
       "      <th rowspan=\"8\" valign=\"top\">Reputation</th>\n",
       "      <th>count</th>\n",
       "      <td>31695.00</td>\n",
       "      <td>72458.00</td>\n",
       "      <td>20564.00</td>\n",
       "      <td>32400.00</td>\n",
       "      <td>72232.00</td>\n",
       "      <td>14546.00</td>\n",
       "      <td>43407.00</td>\n",
       "      <td>12442.00</td>\n",
       "      <td>23323.00</td>\n",
       "      <td>6978.00</td>\n",
       "    </tr>\n",
       "    <tr>\n",
       "      <th>mean</th>\n",
       "      <td>6065.17</td>\n",
       "      <td>10566.42</td>\n",
       "      <td>6985.07</td>\n",
       "      <td>5238.88</td>\n",
       "      <td>8285.53</td>\n",
       "      <td>5656.76</td>\n",
       "      <td>8062.05</td>\n",
       "      <td>5290.28</td>\n",
       "      <td>6545.66</td>\n",
       "      <td>6456.16</td>\n",
       "    </tr>\n",
       "    <tr>\n",
       "      <th>std</th>\n",
       "      <td>24177.15</td>\n",
       "      <td>34647.71</td>\n",
       "      <td>25169.46</td>\n",
       "      <td>14956.31</td>\n",
       "      <td>28043.53</td>\n",
       "      <td>14406.16</td>\n",
       "      <td>27833.85</td>\n",
       "      <td>15691.41</td>\n",
       "      <td>25258.91</td>\n",
       "      <td>22174.39</td>\n",
       "    </tr>\n",
       "    <tr>\n",
       "      <th>min</th>\n",
       "      <td>0.00</td>\n",
       "      <td>0.00</td>\n",
       "      <td>0.00</td>\n",
       "      <td>0.00</td>\n",
       "      <td>0.00</td>\n",
       "      <td>0.00</td>\n",
       "      <td>0.00</td>\n",
       "      <td>0.00</td>\n",
       "      <td>0.00</td>\n",
       "      <td>0.00</td>\n",
       "    </tr>\n",
       "    <tr>\n",
       "      <th>25%</th>\n",
       "      <td>269.00</td>\n",
       "      <td>343.00</td>\n",
       "      <td>166.00</td>\n",
       "      <td>318.00</td>\n",
       "      <td>327.00</td>\n",
       "      <td>366.00</td>\n",
       "      <td>228.00</td>\n",
       "      <td>147.00</td>\n",
       "      <td>171.00</td>\n",
       "      <td>139.00</td>\n",
       "    </tr>\n",
       "    <tr>\n",
       "      <th>50%</th>\n",
       "      <td>1098.00</td>\n",
       "      <td>1629.50</td>\n",
       "      <td>984.00</td>\n",
       "      <td>1243.00</td>\n",
       "      <td>1376.00</td>\n",
       "      <td>1464.00</td>\n",
       "      <td>1120.00</td>\n",
       "      <td>702.00</td>\n",
       "      <td>895.00</td>\n",
       "      <td>901.50</td>\n",
       "    </tr>\n",
       "    <tr>\n",
       "      <th>75%</th>\n",
       "      <td>4064.50</td>\n",
       "      <td>6900.00</td>\n",
       "      <td>4304.25</td>\n",
       "      <td>4421.00</td>\n",
       "      <td>5542.00</td>\n",
       "      <td>5257.00</td>\n",
       "      <td>4897.00</td>\n",
       "      <td>3226.00</td>\n",
       "      <td>3774.00</td>\n",
       "      <td>4211.75</td>\n",
       "    </tr>\n",
       "    <tr>\n",
       "      <th>max</th>\n",
       "      <td>793888.00</td>\n",
       "      <td>1042428.00</td>\n",
       "      <td>613664.00</td>\n",
       "      <td>492627.00</td>\n",
       "      <td>813364.00</td>\n",
       "      <td>492597.00</td>\n",
       "      <td>662735.00</td>\n",
       "      <td>380958.00</td>\n",
       "      <td>813374.00</td>\n",
       "      <td>554106.00</td>\n",
       "    </tr>\n",
       "    <tr>\n",
       "      <th rowspan=\"8\" valign=\"top\">Answers</th>\n",
       "      <th>count</th>\n",
       "      <td>31695.00</td>\n",
       "      <td>72458.00</td>\n",
       "      <td>20564.00</td>\n",
       "      <td>32400.00</td>\n",
       "      <td>72232.00</td>\n",
       "      <td>14546.00</td>\n",
       "      <td>43407.00</td>\n",
       "      <td>12442.00</td>\n",
       "      <td>23323.00</td>\n",
       "      <td>6978.00</td>\n",
       "    </tr>\n",
       "    <tr>\n",
       "      <th>mean</th>\n",
       "      <td>4.26</td>\n",
       "      <td>4.05</td>\n",
       "      <td>3.78</td>\n",
       "      <td>3.68</td>\n",
       "      <td>4.35</td>\n",
       "      <td>3.38</td>\n",
       "      <td>3.98</td>\n",
       "      <td>2.30</td>\n",
       "      <td>3.60</td>\n",
       "      <td>2.77</td>\n",
       "    </tr>\n",
       "    <tr>\n",
       "      <th>std</th>\n",
       "      <td>4.00</td>\n",
       "      <td>3.40</td>\n",
       "      <td>3.35</td>\n",
       "      <td>3.64</td>\n",
       "      <td>3.99</td>\n",
       "      <td>3.13</td>\n",
       "      <td>3.41</td>\n",
       "      <td>1.78</td>\n",
       "      <td>3.46</td>\n",
       "      <td>2.35</td>\n",
       "    </tr>\n",
       "    <tr>\n",
       "      <th>min</th>\n",
       "      <td>0.00</td>\n",
       "      <td>0.00</td>\n",
       "      <td>0.00</td>\n",
       "      <td>0.00</td>\n",
       "      <td>0.00</td>\n",
       "      <td>0.00</td>\n",
       "      <td>0.00</td>\n",
       "      <td>0.00</td>\n",
       "      <td>0.00</td>\n",
       "      <td>0.00</td>\n",
       "    </tr>\n",
       "    <tr>\n",
       "      <th>25%</th>\n",
       "      <td>2.00</td>\n",
       "      <td>2.00</td>\n",
       "      <td>2.00</td>\n",
       "      <td>2.00</td>\n",
       "      <td>2.00</td>\n",
       "      <td>2.00</td>\n",
       "      <td>2.00</td>\n",
       "      <td>1.00</td>\n",
       "      <td>2.00</td>\n",
       "      <td>1.00</td>\n",
       "    </tr>\n",
       "    <tr>\n",
       "      <th>50%</th>\n",
       "      <td>3.00</td>\n",
       "      <td>3.00</td>\n",
       "      <td>3.00</td>\n",
       "      <td>3.00</td>\n",
       "      <td>3.00</td>\n",
       "      <td>3.00</td>\n",
       "      <td>3.00</td>\n",
       "      <td>2.00</td>\n",
       "      <td>3.00</td>\n",
       "      <td>2.00</td>\n",
       "    </tr>\n",
       "    <tr>\n",
       "      <th>75%</th>\n",
       "      <td>5.00</td>\n",
       "      <td>5.00</td>\n",
       "      <td>5.00</td>\n",
       "      <td>4.00</td>\n",
       "      <td>5.00</td>\n",
       "      <td>4.00</td>\n",
       "      <td>5.00</td>\n",
       "      <td>3.00</td>\n",
       "      <td>4.00</td>\n",
       "      <td>3.00</td>\n",
       "    </tr>\n",
       "    <tr>\n",
       "      <th>max</th>\n",
       "      <td>66.00</td>\n",
       "      <td>61.00</td>\n",
       "      <td>76.00</td>\n",
       "      <td>54.00</td>\n",
       "      <td>62.00</td>\n",
       "      <td>42.00</td>\n",
       "      <td>57.00</td>\n",
       "      <td>28.00</td>\n",
       "      <td>54.00</td>\n",
       "      <td>32.00</td>\n",
       "    </tr>\n",
       "    <tr>\n",
       "      <th rowspan=\"8\" valign=\"top\">Username</th>\n",
       "      <th>count</th>\n",
       "      <td>31695.00</td>\n",
       "      <td>72458.00</td>\n",
       "      <td>20564.00</td>\n",
       "      <td>32400.00</td>\n",
       "      <td>72232.00</td>\n",
       "      <td>14546.00</td>\n",
       "      <td>43407.00</td>\n",
       "      <td>12442.00</td>\n",
       "      <td>23323.00</td>\n",
       "      <td>6978.00</td>\n",
       "    </tr>\n",
       "    <tr>\n",
       "      <th>mean</th>\n",
       "      <td>81496.35</td>\n",
       "      <td>80334.96</td>\n",
       "      <td>81933.63</td>\n",
       "      <td>78998.21</td>\n",
       "      <td>81861.39</td>\n",
       "      <td>79516.51</td>\n",
       "      <td>84852.30</td>\n",
       "      <td>85050.55</td>\n",
       "      <td>79245.88</td>\n",
       "      <td>81995.14</td>\n",
       "    </tr>\n",
       "    <tr>\n",
       "      <th>std</th>\n",
       "      <td>49200.97</td>\n",
       "      <td>48874.87</td>\n",
       "      <td>49521.51</td>\n",
       "      <td>48496.36</td>\n",
       "      <td>49162.47</td>\n",
       "      <td>48625.47</td>\n",
       "      <td>49963.10</td>\n",
       "      <td>50481.22</td>\n",
       "      <td>48971.69</td>\n",
       "      <td>49188.55</td>\n",
       "    </tr>\n",
       "    <tr>\n",
       "      <th>min</th>\n",
       "      <td>2.00</td>\n",
       "      <td>0.00</td>\n",
       "      <td>65.00</td>\n",
       "      <td>5.00</td>\n",
       "      <td>1.00</td>\n",
       "      <td>17.00</td>\n",
       "      <td>12.00</td>\n",
       "      <td>58.00</td>\n",
       "      <td>60.00</td>\n",
       "      <td>41.00</td>\n",
       "    </tr>\n",
       "    <tr>\n",
       "      <th>25%</th>\n",
       "      <td>39510.00</td>\n",
       "      <td>39503.25</td>\n",
       "      <td>40333.00</td>\n",
       "      <td>37315.50</td>\n",
       "      <td>40559.00</td>\n",
       "      <td>38076.50</td>\n",
       "      <td>41889.00</td>\n",
       "      <td>41596.50</td>\n",
       "      <td>37430.00</td>\n",
       "      <td>40685.50</td>\n",
       "    </tr>\n",
       "    <tr>\n",
       "      <th>50%</th>\n",
       "      <td>79096.00</td>\n",
       "      <td>77063.50</td>\n",
       "      <td>79375.50</td>\n",
       "      <td>76728.00</td>\n",
       "      <td>79638.00</td>\n",
       "      <td>78001.00</td>\n",
       "      <td>84019.00</td>\n",
       "      <td>82225.00</td>\n",
       "      <td>75014.00</td>\n",
       "      <td>79642.50</td>\n",
       "    </tr>\n",
       "    <tr>\n",
       "      <th>75%</th>\n",
       "      <td>122140.00</td>\n",
       "      <td>120346.75</td>\n",
       "      <td>123313.75</td>\n",
       "      <td>119490.00</td>\n",
       "      <td>122946.00</td>\n",
       "      <td>120034.00</td>\n",
       "      <td>127460.00</td>\n",
       "      <td>129178.00</td>\n",
       "      <td>119143.50</td>\n",
       "      <td>123573.75</td>\n",
       "    </tr>\n",
       "    <tr>\n",
       "      <th>max</th>\n",
       "      <td>175728.00</td>\n",
       "      <td>175734.00</td>\n",
       "      <td>175729.00</td>\n",
       "      <td>175732.00</td>\n",
       "      <td>175738.00</td>\n",
       "      <td>175708.00</td>\n",
       "      <td>175736.00</td>\n",
       "      <td>175724.00</td>\n",
       "      <td>175710.00</td>\n",
       "      <td>175672.00</td>\n",
       "    </tr>\n",
       "    <tr>\n",
       "      <th rowspan=\"8\" valign=\"top\">Views</th>\n",
       "      <th>count</th>\n",
       "      <td>31695.00</td>\n",
       "      <td>72458.00</td>\n",
       "      <td>20564.00</td>\n",
       "      <td>32400.00</td>\n",
       "      <td>72232.00</td>\n",
       "      <td>14546.00</td>\n",
       "      <td>43407.00</td>\n",
       "      <td>12442.00</td>\n",
       "      <td>23323.00</td>\n",
       "      <td>6978.00</td>\n",
       "    </tr>\n",
       "    <tr>\n",
       "      <th>mean</th>\n",
       "      <td>31800.92</td>\n",
       "      <td>26746.68</td>\n",
       "      <td>33948.96</td>\n",
       "      <td>15806.68</td>\n",
       "      <td>43291.21</td>\n",
       "      <td>13504.65</td>\n",
       "      <td>33184.98</td>\n",
       "      <td>12033.06</td>\n",
       "      <td>25807.08</td>\n",
       "      <td>16119.25</td>\n",
       "    </tr>\n",
       "    <tr>\n",
       "      <th>std</th>\n",
       "      <td>78193.97</td>\n",
       "      <td>64808.03</td>\n",
       "      <td>94089.51</td>\n",
       "      <td>29315.39</td>\n",
       "      <td>108631.63</td>\n",
       "      <td>27551.95</td>\n",
       "      <td>94709.76</td>\n",
       "      <td>35389.57</td>\n",
       "      <td>79178.61</td>\n",
       "      <td>37708.49</td>\n",
       "    </tr>\n",
       "    <tr>\n",
       "      <th>min</th>\n",
       "      <td>18.00</td>\n",
       "      <td>15.00</td>\n",
       "      <td>11.00</td>\n",
       "      <td>21.00</td>\n",
       "      <td>9.00</td>\n",
       "      <td>20.00</td>\n",
       "      <td>16.00</td>\n",
       "      <td>26.00</td>\n",
       "      <td>18.00</td>\n",
       "      <td>22.00</td>\n",
       "    </tr>\n",
       "    <tr>\n",
       "      <th>25%</th>\n",
       "      <td>4371.00</td>\n",
       "      <td>2302.00</td>\n",
       "      <td>1912.75</td>\n",
       "      <td>2417.00</td>\n",
       "      <td>4541.00</td>\n",
       "      <td>1883.25</td>\n",
       "      <td>3241.50</td>\n",
       "      <td>856.25</td>\n",
       "      <td>1381.00</td>\n",
       "      <td>1551.75</td>\n",
       "    </tr>\n",
       "    <tr>\n",
       "      <th>50%</th>\n",
       "      <td>12822.00</td>\n",
       "      <td>8405.00</td>\n",
       "      <td>8111.00</td>\n",
       "      <td>6246.50</td>\n",
       "      <td>14471.00</td>\n",
       "      <td>5033.00</td>\n",
       "      <td>10382.00</td>\n",
       "      <td>2865.00</td>\n",
       "      <td>5721.00</td>\n",
       "      <td>5027.00</td>\n",
       "    </tr>\n",
       "    <tr>\n",
       "      <th>75%</th>\n",
       "      <td>32387.50</td>\n",
       "      <td>25584.75</td>\n",
       "      <td>28524.00</td>\n",
       "      <td>16422.00</td>\n",
       "      <td>40594.25</td>\n",
       "      <td>13229.50</td>\n",
       "      <td>29138.00</td>\n",
       "      <td>9406.00</td>\n",
       "      <td>21406.50</td>\n",
       "      <td>14889.75</td>\n",
       "    </tr>\n",
       "    <tr>\n",
       "      <th>max</th>\n",
       "      <td>4858537.00</td>\n",
       "      <td>2144703.00</td>\n",
       "      <td>4417626.00</td>\n",
       "      <td>579839.00</td>\n",
       "      <td>5231058.00</td>\n",
       "      <td>737568.00</td>\n",
       "      <td>2969255.00</td>\n",
       "      <td>998645.00</td>\n",
       "      <td>3384984.00</td>\n",
       "      <td>908388.00</td>\n",
       "    </tr>\n",
       "    <tr>\n",
       "      <th rowspan=\"8\" valign=\"top\">Upvotes</th>\n",
       "      <th>count</th>\n",
       "      <td>31695.00</td>\n",
       "      <td>72458.00</td>\n",
       "      <td>20564.00</td>\n",
       "      <td>32400.00</td>\n",
       "      <td>72232.00</td>\n",
       "      <td>14546.00</td>\n",
       "      <td>43407.00</td>\n",
       "      <td>12442.00</td>\n",
       "      <td>23323.00</td>\n",
       "      <td>6978.00</td>\n",
       "    </tr>\n",
       "    <tr>\n",
       "      <th>mean</th>\n",
       "      <td>316.46</td>\n",
       "      <td>327.57</td>\n",
       "      <td>384.72</td>\n",
       "      <td>117.39</td>\n",
       "      <td>540.36</td>\n",
       "      <td>112.16</td>\n",
       "      <td>407.35</td>\n",
       "      <td>79.03</td>\n",
       "      <td>237.03</td>\n",
       "      <td>151.26</td>\n",
       "    </tr>\n",
       "    <tr>\n",
       "      <th>std</th>\n",
       "      <td>3106.29</td>\n",
       "      <td>2822.39</td>\n",
       "      <td>4290.59</td>\n",
       "      <td>570.53</td>\n",
       "      <td>5661.36</td>\n",
       "      <td>668.12</td>\n",
       "      <td>3648.07</td>\n",
       "      <td>461.00</td>\n",
       "      <td>1771.10</td>\n",
       "      <td>882.42</td>\n",
       "    </tr>\n",
       "    <tr>\n",
       "      <th>min</th>\n",
       "      <td>0.00</td>\n",
       "      <td>0.00</td>\n",
       "      <td>0.00</td>\n",
       "      <td>0.00</td>\n",
       "      <td>0.00</td>\n",
       "      <td>0.00</td>\n",
       "      <td>0.00</td>\n",
       "      <td>0.00</td>\n",
       "      <td>0.00</td>\n",
       "      <td>0.00</td>\n",
       "    </tr>\n",
       "    <tr>\n",
       "      <th>25%</th>\n",
       "      <td>12.00</td>\n",
       "      <td>9.00</td>\n",
       "      <td>5.00</td>\n",
       "      <td>7.00</td>\n",
       "      <td>12.00</td>\n",
       "      <td>5.00</td>\n",
       "      <td>9.00</td>\n",
       "      <td>4.00</td>\n",
       "      <td>5.00</td>\n",
       "      <td>4.00</td>\n",
       "    </tr>\n",
       "    <tr>\n",
       "      <th>50%</th>\n",
       "      <td>35.00</td>\n",
       "      <td>33.00</td>\n",
       "      <td>20.00</td>\n",
       "      <td>20.00</td>\n",
       "      <td>42.00</td>\n",
       "      <td>17.00</td>\n",
       "      <td>30.00</td>\n",
       "      <td>11.00</td>\n",
       "      <td>16.00</td>\n",
       "      <td>13.00</td>\n",
       "    </tr>\n",
       "    <tr>\n",
       "      <th>75%</th>\n",
       "      <td>115.00</td>\n",
       "      <td>127.00</td>\n",
       "      <td>95.25</td>\n",
       "      <td>66.00</td>\n",
       "      <td>169.00</td>\n",
       "      <td>59.00</td>\n",
       "      <td>115.00</td>\n",
       "      <td>34.00</td>\n",
       "      <td>66.00</td>\n",
       "      <td>51.00</td>\n",
       "    </tr>\n",
       "    <tr>\n",
       "      <th>max</th>\n",
       "      <td>308308.00</td>\n",
       "      <td>360073.00</td>\n",
       "      <td>445709.00</td>\n",
       "      <td>25986.00</td>\n",
       "      <td>615278.00</td>\n",
       "      <td>39270.00</td>\n",
       "      <td>286529.00</td>\n",
       "      <td>21055.00</td>\n",
       "      <td>108013.00</td>\n",
       "      <td>23231.00</td>\n",
       "    </tr>\n",
       "  </tbody>\n",
       "</table>\n",
       "</div>"
      ],
      "text/plain": [
       "Tag                       a          c          h         i          j  \\\n",
       "ID         count   31695.00   72458.00   20564.00  32400.00   72232.00   \n",
       "           mean   239590.35  237971.01  236766.82 220363.25  237764.33   \n",
       "           std    134852.00  135463.81  135517.35 138577.13  136108.06   \n",
       "           min         8.00       2.00      50.00     45.00       1.00   \n",
       "           25%    124391.50  121625.75  119965.75  96069.50  120293.25   \n",
       "           50%    241846.00  239311.50  236767.50 209093.50  239113.50   \n",
       "           75%    353699.00  354858.50  353733.50 347671.75  355174.25   \n",
       "           max    471493.00  471489.00  471413.00 471491.00  471485.00   \n",
       "Reputation count   31695.00   72458.00   20564.00  32400.00   72232.00   \n",
       "           mean     6065.17   10566.42    6985.07   5238.88    8285.53   \n",
       "           std     24177.15   34647.71   25169.46  14956.31   28043.53   \n",
       "           min         0.00       0.00       0.00      0.00       0.00   \n",
       "           25%       269.00     343.00     166.00    318.00     327.00   \n",
       "           50%      1098.00    1629.50     984.00   1243.00    1376.00   \n",
       "           75%      4064.50    6900.00    4304.25   4421.00    5542.00   \n",
       "           max    793888.00 1042428.00  613664.00 492627.00  813364.00   \n",
       "Answers    count   31695.00   72458.00   20564.00  32400.00   72232.00   \n",
       "           mean        4.26       4.05       3.78      3.68       4.35   \n",
       "           std         4.00       3.40       3.35      3.64       3.99   \n",
       "           min         0.00       0.00       0.00      0.00       0.00   \n",
       "           25%         2.00       2.00       2.00      2.00       2.00   \n",
       "           50%         3.00       3.00       3.00      3.00       3.00   \n",
       "           75%         5.00       5.00       5.00      4.00       5.00   \n",
       "           max        66.00      61.00      76.00     54.00      62.00   \n",
       "Username   count   31695.00   72458.00   20564.00  32400.00   72232.00   \n",
       "           mean    81496.35   80334.96   81933.63  78998.21   81861.39   \n",
       "           std     49200.97   48874.87   49521.51  48496.36   49162.47   \n",
       "           min         2.00       0.00      65.00      5.00       1.00   \n",
       "           25%     39510.00   39503.25   40333.00  37315.50   40559.00   \n",
       "           50%     79096.00   77063.50   79375.50  76728.00   79638.00   \n",
       "           75%    122140.00  120346.75  123313.75 119490.00  122946.00   \n",
       "           max    175728.00  175734.00  175729.00 175732.00  175738.00   \n",
       "Views      count   31695.00   72458.00   20564.00  32400.00   72232.00   \n",
       "           mean    31800.92   26746.68   33948.96  15806.68   43291.21   \n",
       "           std     78193.97   64808.03   94089.51  29315.39  108631.63   \n",
       "           min        18.00      15.00      11.00     21.00       9.00   \n",
       "           25%      4371.00    2302.00    1912.75   2417.00    4541.00   \n",
       "           50%     12822.00    8405.00    8111.00   6246.50   14471.00   \n",
       "           75%     32387.50   25584.75   28524.00  16422.00   40594.25   \n",
       "           max   4858537.00 2144703.00 4417626.00 579839.00 5231058.00   \n",
       "Upvotes    count   31695.00   72458.00   20564.00  32400.00   72232.00   \n",
       "           mean      316.46     327.57     384.72    117.39     540.36   \n",
       "           std      3106.29    2822.39    4290.59    570.53    5661.36   \n",
       "           min         0.00       0.00       0.00      0.00       0.00   \n",
       "           25%        12.00       9.00       5.00      7.00      12.00   \n",
       "           50%        35.00      33.00      20.00     20.00      42.00   \n",
       "           75%       115.00     127.00      95.25     66.00     169.00   \n",
       "           max    308308.00  360073.00  445709.00  25986.00  615278.00   \n",
       "\n",
       "Tag                      o          p         r          s         x  \n",
       "ID         count  14546.00   43407.00  12442.00   23323.00   6978.00  \n",
       "           mean  236318.98  237951.32 236191.36  232761.90 237098.15  \n",
       "           std   136632.13  135129.39 135782.65  136387.16 135216.89  \n",
       "           min       24.00       3.00     37.00       6.00    124.00  \n",
       "           25%   117761.25  122507.00 118207.25  115230.00 121516.50  \n",
       "           50%   236986.00  239075.00 236425.00  229399.00 236870.00  \n",
       "           75%   354068.25  354430.00 353090.00  353094.50 351804.50  \n",
       "           max   471461.00  471492.00 471430.00  471366.00 471476.00  \n",
       "Reputation count  14546.00   43407.00  12442.00   23323.00   6978.00  \n",
       "           mean    5656.76    8062.05   5290.28    6545.66   6456.16  \n",
       "           std    14406.16   27833.85  15691.41   25258.91  22174.39  \n",
       "           min        0.00       0.00      0.00       0.00      0.00  \n",
       "           25%      366.00     228.00    147.00     171.00    139.00  \n",
       "           50%     1464.00    1120.00    702.00     895.00    901.50  \n",
       "           75%     5257.00    4897.00   3226.00    3774.00   4211.75  \n",
       "           max   492597.00  662735.00 380958.00  813374.00 554106.00  \n",
       "Answers    count  14546.00   43407.00  12442.00   23323.00   6978.00  \n",
       "           mean       3.38       3.98      2.30       3.60      2.77  \n",
       "           std        3.13       3.41      1.78       3.46      2.35  \n",
       "           min        0.00       0.00      0.00       0.00      0.00  \n",
       "           25%        2.00       2.00      1.00       2.00      1.00  \n",
       "           50%        3.00       3.00      2.00       3.00      2.00  \n",
       "           75%        4.00       5.00      3.00       4.00      3.00  \n",
       "           max       42.00      57.00     28.00      54.00     32.00  \n",
       "Username   count  14546.00   43407.00  12442.00   23323.00   6978.00  \n",
       "           mean   79516.51   84852.30  85050.55   79245.88  81995.14  \n",
       "           std    48625.47   49963.10  50481.22   48971.69  49188.55  \n",
       "           min       17.00      12.00     58.00      60.00     41.00  \n",
       "           25%    38076.50   41889.00  41596.50   37430.00  40685.50  \n",
       "           50%    78001.00   84019.00  82225.00   75014.00  79642.50  \n",
       "           75%   120034.00  127460.00 129178.00  119143.50 123573.75  \n",
       "           max   175708.00  175736.00 175724.00  175710.00 175672.00  \n",
       "Views      count  14546.00   43407.00  12442.00   23323.00   6978.00  \n",
       "           mean   13504.65   33184.98  12033.06   25807.08  16119.25  \n",
       "           std    27551.95   94709.76  35389.57   79178.61  37708.49  \n",
       "           min       20.00      16.00     26.00      18.00     22.00  \n",
       "           25%     1883.25    3241.50    856.25    1381.00   1551.75  \n",
       "           50%     5033.00   10382.00   2865.00    5721.00   5027.00  \n",
       "           75%    13229.50   29138.00   9406.00   21406.50  14889.75  \n",
       "           max   737568.00 2969255.00 998645.00 3384984.00 908388.00  \n",
       "Upvotes    count  14546.00   43407.00  12442.00   23323.00   6978.00  \n",
       "           mean     112.16     407.35     79.03     237.03    151.26  \n",
       "           std      668.12    3648.07    461.00    1771.10    882.42  \n",
       "           min        0.00       0.00      0.00       0.00      0.00  \n",
       "           25%        5.00       9.00      4.00       5.00      4.00  \n",
       "           50%       17.00      30.00     11.00      16.00     13.00  \n",
       "           75%       59.00     115.00     34.00      66.00     51.00  \n",
       "           max    39270.00  286529.00  21055.00  108013.00  23231.00  "
      ]
     },
     "execution_count": 15,
     "metadata": {},
     "output_type": "execute_result"
    }
   ],
   "source": [
    "np.transpose(train.groupby('Tag').describe())"
   ]
  },
  {
   "cell_type": "code",
   "execution_count": 16,
   "metadata": {},
   "outputs": [
    {
     "data": {
      "image/png": "[encoded data removed]",
      "text/plain": [
       "<Figure size 1152x1152 with 5 Axes>"
      ]
     },
     "metadata": {
      "needs_background": "light"
     },
     "output_type": "display_data"
    }
   ],
   "source": [
    "plt.figure(figsize = (16,16))\n",
    "plt.subplot(5,1,1)\n",
    "train.groupby('Tag')['Reputation'].mean().plot.bar()\n",
    "plt.ylabel('Reputation')\n",
    "plt.subplot(5,1,2)\n",
    "train.groupby('Tag')['Views'].mean().plot.bar()\n",
    "plt.ylabel('Views')\n",
    "plt.subplot(5,1,3)\n",
    "train.groupby('Tag')['Answers'].mean().plot.bar()\n",
    "plt.ylabel('Answers')\n",
    "plt.subplot(5,1,4)\n",
    "train.groupby('Tag')['Upvotes'].mean().plot.bar()\n",
    "plt.ylabel('Upvotes')\n",
    "plt.subplot(5,1,5)\n",
    "train.groupby('Tag')['Username'].count().plot.bar()\n",
    "plt.ylabel('Users')\n",
    "\n",
    "plt.show()"
   ]
  },
  {
   "cell_type": "code",
   "execution_count": null,
   "metadata": {},
   "outputs": [],
   "source": []
  },
  {
   "cell_type": "code",
   "execution_count": null,
   "metadata": {},
   "outputs": [],
   "source": []
  },
  {
   "cell_type": "code",
   "execution_count": null,
   "metadata": {},
   "outputs": [],
   "source": [
    "\n"
   ]
  },
  {
   "cell_type": "code",
   "execution_count": null,
   "metadata": {},
   "outputs": [],
   "source": []
  },
  {
   "cell_type": "markdown",
   "metadata": {},
   "source": [
    "## Modeling"
   ]
  },
  {
   "cell_type": "markdown",
   "metadata": {},
   "source": [
    "Models used and why? {TBU}"
   ]
  },
  {
   "cell_type": "markdown",
   "metadata": {},
   "source": [
    "Encoding the categorical column"
   ]
  },
  {
   "cell_type": "code",
   "execution_count": 20,
   "metadata": {},
   "outputs": [
    {
     "data": {
      "text/plain": [
       "array(['a', 'c', 'r', 'j', 'p', 's', 'h', 'o', 'i', 'x'], dtype=object)"
      ]
     },
     "execution_count": 20,
     "metadata": {},
     "output_type": "execute_result"
    }
   ],
   "source": [
    "train.Tag.unique()"
   ]
  },
  {
   "cell_type": "code",
   "execution_count": 21,
   "metadata": {},
   "outputs": [
    {
     "data": {
      "text/plain": [
       "array(['a', 'c', 'i', 'x', 's', 'p', 'o', 'j', 'h', 'r'], dtype=object)"
      ]
     },
     "execution_count": 21,
     "metadata": {},
     "output_type": "execute_result"
    }
   ],
   "source": [
    "test.Tag.unique()"
   ]
  },
  {
   "cell_type": "code",
   "execution_count": 22,
   "metadata": {},
   "outputs": [],
   "source": [
    "ohe = pd.get_dummies(train.Tag)\n",
    "ohe_test = pd.get_dummies(test.Tag)"
   ]
  },
  {
   "cell_type": "code",
   "execution_count": 23,
   "metadata": {},
   "outputs": [
    {
     "data": {
      "text/plain": [
       "(        a  c  h  i  j  o  p  r  s  x\n",
       " 0       1  0  0  0  0  0  0  0  0  0\n",
       " 1       1  0  0  0  0  0  0  0  0  0\n",
       " 2       0  1  0  0  0  0  0  0  0  0\n",
       " 3       1  0  0  0  0  0  0  0  0  0\n",
       " 4       0  1  0  0  0  0  0  0  0  0\n",
       " ...    .. .. .. .. .. .. .. .. .. ..\n",
       " 330040  0  1  0  0  0  0  0  0  0  0\n",
       " 330041  0  1  0  0  0  0  0  0  0  0\n",
       " 330042  0  1  0  0  0  0  0  0  0  0\n",
       " 330043  0  0  0  0  1  0  0  0  0  0\n",
       " 330044  0  0  0  0  1  0  0  0  0  0\n",
       " \n",
       " [330045 rows x 10 columns],\n",
       "         a  c  h  i  j  o  p  r  s  x\n",
       " 0       1  0  0  0  0  0  0  0  0  0\n",
       " 1       0  1  0  0  0  0  0  0  0  0\n",
       " 2       0  0  0  1  0  0  0  0  0  0\n",
       " 3       0  0  0  1  0  0  0  0  0  0\n",
       " 4       0  0  0  1  0  0  0  0  0  0\n",
       " ...    .. .. .. .. .. .. .. .. .. ..\n",
       " 141443  0  0  0  0  1  0  0  0  0  0\n",
       " 141444  0  0  0  0  1  0  0  0  0  0\n",
       " 141445  0  0  0  0  0  0  1  0  0  0\n",
       " 141446  0  0  0  0  0  1  0  0  0  0\n",
       " 141447  1  0  0  0  0  0  0  0  0  0\n",
       " \n",
       " [141448 rows x 10 columns])"
      ]
     },
     "execution_count": 23,
     "metadata": {},
     "output_type": "execute_result"
    }
   ],
   "source": [
    "ohe, ohe_test"
   ]
  },
  {
   "cell_type": "code",
   "execution_count": 24,
   "metadata": {},
   "outputs": [
    {
     "data": {
      "text/plain": [
       "((330045, 7), (141448, 6))"
      ]
     },
     "execution_count": 24,
     "metadata": {},
     "output_type": "execute_result"
    }
   ],
   "source": [
    "train.shape, test.shape"
   ]
  },
  {
   "cell_type": "code",
   "execution_count": 25,
   "metadata": {},
   "outputs": [],
   "source": [
    "#train2 = pd.concat([train, ohe], axis = 1)\n",
    "test2 = pd.concat([test, ohe_test], axis = 1)"
   ]
  },
  {
   "cell_type": "code",
   "execution_count": null,
   "metadata": {},
   "outputs": [],
   "source": []
  },
  {
   "cell_type": "code",
   "execution_count": 26,
   "metadata": {},
   "outputs": [
    {
     "data": {
      "text/plain": [
       "(Index(['ID', 'Tag', 'Reputation', 'Answers', 'Username', 'Views', 'Upvotes',\n",
       "        'a', 'c', 'h', 'i', 'j', 'o', 'p', 'r', 's', 'x'],\n",
       "       dtype='object'),\n",
       " Index(['ID', 'Tag', 'Reputation', 'Answers', 'Username', 'Views', 'a', 'c',\n",
       "        'h', 'i', 'j', 'o', 'p', 'r', 's', 'x'],\n",
       "       dtype='object'))"
      ]
     },
     "execution_count": 26,
     "metadata": {},
     "output_type": "execute_result"
    }
   ],
   "source": [
    "(train2.columns, test2.columns)"
   ]
  },
  {
   "cell_type": "code",
   "execution_count": 219,
   "metadata": {},
   "outputs": [],
   "source": [
    "xtrain2 = pd.concat([train2.iloc[:,:6],train2.iloc[:,7:]], axis = 1)\n",
    "xtrain2.drop(['ID','Tag','Username'],axis =1,  inplace = True)\n",
    "xtest2 = pd.concat([test2.iloc[:,:6],test2.iloc[:,6:]], axis = 1)\n",
    "xtest2.drop(['ID','Tag','Username'],axis =1,  inplace = True)"
   ]
  },
  {
   "cell_type": "code",
   "execution_count": 38,
   "metadata": {},
   "outputs": [],
   "source": [
    "ytrain2 = train2.iloc[:,6].ravel()"
   ]
  },
  {
   "cell_type": "code",
   "execution_count": 220,
   "metadata": {},
   "outputs": [
    {
     "data": {
      "text/plain": [
       "((330045, 13), (330045,), (141448, 13))"
      ]
     },
     "execution_count": 220,
     "metadata": {},
     "output_type": "execute_result"
    }
   ],
   "source": [
    "xtrain2.shape, ytrain2.shape, xtest2.shape"
   ]
  },
  {
   "cell_type": "markdown",
   "metadata": {},
   "source": [
    "#### Setting K folds"
   ]
  },
  {
   "cell_type": "code",
   "execution_count": 160,
   "metadata": {},
   "outputs": [],
   "source": [
    "from sklearn.model_selection import StratifiedKFold, KFold"
   ]
  },
  {
   "cell_type": "code",
   "execution_count": 41,
   "metadata": {},
   "outputs": [],
   "source": [
    "skf = StratifiedKFold(n_splits = 5, shuffle=True, random_state=123)"
   ]
  },
  {
   "cell_type": "code",
   "execution_count": 318,
   "metadata": {},
   "outputs": [],
   "source": [
    "kf = KFold(n_splits=20, shuffle=True, random_state=123)"
   ]
  },
  {
   "cell_type": "code",
   "execution_count": null,
   "metadata": {},
   "outputs": [],
   "source": []
  },
  {
   "cell_type": "markdown",
   "metadata": {},
   "source": [
    "#### Running the models"
   ]
  },
  {
   "cell_type": "markdown",
   "metadata": {},
   "source": [
    " Random Forest "
   ]
  },
  {
   "cell_type": "code",
   "execution_count": 143,
   "metadata": {},
   "outputs": [
    {
     "data": {
      "text/plain": [
       "(array([-1519.77211081, -1231.23997933, -1193.53353075, -1025.3389772 ,\n",
       "        -1717.54839069]),\n",
       " -1337.4865977540796)"
      ]
     },
     "execution_count": 143,
     "metadata": {},
     "output_type": "execute_result"
    }
   ],
   "source": [
    "reg = RandomForestRegressor(n_estimators = 100)\n",
    "X = xtrain2\n",
    "y = ytrain2\n",
    "cv_score = (cross_val_score(reg, X,y, cv = 5, scoring='neg_root_mean_squared_error'))\n",
    "cv_score, np.mean(cv_score)\n"
   ]
  },
  {
   "cell_type": "code",
   "execution_count": 144,
   "metadata": {},
   "outputs": [
    {
     "data": {
      "image/png": "[encoded data removed]",
      "text/plain": [
       "<Figure size 576x576 with 1 Axes>"
      ]
     },
     "metadata": {
      "needs_background": "light"
     },
     "output_type": "display_data"
    }
   ],
   "source": [
    "reg.fit(xtrain2,ytrain2)\n",
    "plt.figure(figsize=(15,6))\n",
    "plt.bar(xtrain2.columns, pd.Series(reg.feature_importances_))\n",
    "plt.show()"
   ]
  },
  {
   "cell_type": "markdown",
   "metadata": {},
   "source": [
    " "
   ]
  },
  {
   "cell_type": "markdown",
   "metadata": {},
   "source": [
    " "
   ]
  },
  {
   "cell_type": "markdown",
   "metadata": {},
   "source": [
    "Gradient Boosting"
   ]
  },
  {
   "cell_type": "code",
   "execution_count": 145,
   "metadata": {},
   "outputs": [
    {
     "data": {
      "text/plain": [
       "(array([-1567.59868236, -1022.6515348 , -1139.25692658, -1167.72023242,\n",
       "        -1428.54243038]),\n",
       " -1265.1539613074742)"
      ]
     },
     "execution_count": 145,
     "metadata": {},
     "output_type": "execute_result"
    }
   ],
   "source": [
    "reg = GradientBoostingRegressor(n_estimators = 100)\n",
    "X = xtrain2\n",
    "y = ytrain2\n",
    "cv_score = cross_val_score(reg, X,y, cv = 5, scoring='neg_root_mean_squared_error')\n",
    "cv_score, np.mean(cv_score)\n"
   ]
  },
  {
   "cell_type": "markdown",
   "metadata": {},
   "source": [
    " "
   ]
  },
  {
   "cell_type": "markdown",
   "metadata": {},
   "source": [
    "Bagging Regressor"
   ]
  },
  {
   "cell_type": "code",
   "execution_count": 146,
   "metadata": {},
   "outputs": [
    {
     "data": {
      "text/plain": [
       "(array([-1550.31588991, -1156.52637659, -1124.87635191,  -989.26750799,\n",
       "        -1606.9323368 ]),\n",
       " -1285.583692639357)"
      ]
     },
     "execution_count": 146,
     "metadata": {},
     "output_type": "execute_result"
    }
   ],
   "source": [
    "reg = BaggingRegressor(n_estimators = 100)\n",
    "X = xtrain2\n",
    "y = ytrain2\n",
    "cv_score = (cross_val_score(reg, X,y, cv = 5, scoring='neg_root_mean_squared_error'))\n",
    "cv_score, np.mean(cv_score)"
   ]
  },
  {
   "cell_type": "markdown",
   "metadata": {},
   "source": [
    " "
   ]
  },
  {
   "cell_type": "markdown",
   "metadata": {},
   "source": [
    " AdaBoost Regressor"
   ]
  },
  {
   "cell_type": "code",
   "execution_count": 147,
   "metadata": {},
   "outputs": [
    {
     "data": {
      "text/plain": [
       "(array([-8415.95785578, -5384.4446662 , -3941.51485729, -7254.65167288,\n",
       "        -2426.95760053]),\n",
       " -5484.705330536436)"
      ]
     },
     "execution_count": 147,
     "metadata": {},
     "output_type": "execute_result"
    }
   ],
   "source": [
    "reg = AdaBoostRegressor(n_estimators = 100)\n",
    "X = xtrain2\n",
    "y = ytrain2\n",
    "cv_score = (cross_val_score(reg, X,y, cv = 5, scoring='neg_root_mean_squared_error'))\n",
    "cv_score, np.mean(cv_score)"
   ]
  },
  {
   "cell_type": "markdown",
   "metadata": {},
   "source": [
    " "
   ]
  },
  {
   "cell_type": "markdown",
   "metadata": {},
   "source": [
    " Hist Gradient Boosting"
   ]
  },
  {
   "cell_type": "code",
   "execution_count": 148,
   "metadata": {},
   "outputs": [],
   "source": [
    "from sklearn.experimental import enable_hist_gradient_boosting\n",
    "from sklearn.ensemble import HistGradientBoostingRegressor"
   ]
  },
  {
   "cell_type": "code",
   "execution_count": 149,
   "metadata": {
    "scrolled": true
   },
   "outputs": [
    {
     "data": {
      "text/plain": [
       "(array([-2417.87372835, -2006.10898019, -1852.87502594, -1703.06276169,\n",
       "        -1857.45477096]),\n",
       " -1967.4750534268999)"
      ]
     },
     "execution_count": 149,
     "metadata": {},
     "output_type": "execute_result"
    }
   ],
   "source": [
    "reg =  HistGradientBoostingRegressor()\n",
    "X = xtrain2\n",
    "y = ytrain2\n",
    "cv_score = (cross_val_score(reg, X,y, cv = 5, scoring='neg_root_mean_squared_error'))\n",
    "cv_score, np.mean(cv_score)"
   ]
  },
  {
   "cell_type": "markdown",
   "metadata": {},
   "source": [
    " "
   ]
  },
  {
   "cell_type": "markdown",
   "metadata": {},
   "source": [
    "Light GBM"
   ]
  },
  {
   "cell_type": "code",
   "execution_count": 150,
   "metadata": {},
   "outputs": [],
   "source": [
    "from lightgbm import LGBMRegressor"
   ]
  },
  {
   "cell_type": "code",
   "execution_count": 151,
   "metadata": {},
   "outputs": [
    {
     "data": {
      "text/plain": [
       "(array([-2297.39402958, -2033.21314988, -1905.48350618, -1853.61994312,\n",
       "        -1904.64168685]),\n",
       " -1998.8704631214507)"
      ]
     },
     "execution_count": 151,
     "metadata": {},
     "output_type": "execute_result"
    }
   ],
   "source": [
    "reg = LGBMRegressor(n_estimators = 100)\n",
    "X = xtrain2\n",
    "y = ytrain2\n",
    "cv_score = (cross_val_score(reg, X,y, cv = 5, scoring='neg_root_mean_squared_error'))\n",
    "cv_score, np.mean(cv_score)"
   ]
  },
  {
   "cell_type": "markdown",
   "metadata": {},
   "source": [
    " "
   ]
  },
  {
   "cell_type": "markdown",
   "metadata": {},
   "source": [
    " "
   ]
  },
  {
   "cell_type": "raw",
   "metadata": {},
   "source": [
    "lgbmr = LGBMRegressor(n_estimators= 500, reg_alpha=0.0, reg_lambda= 10.0, boosting_type='dart')\n",
    "para_grid_lgbm = {'n_estimators' :[100,200,300], 'criterion':[\"mse\",\"mae\"], 'oob_score':[\"True\", \"False\"],\n",
    "            'reg_alpha':[0, 0.5, 1.0], 'reg_lambda': [0, 0.5, 1.0]}\n",
    "\n",
    "#reg = GridSearchCV(estimator = lgbmr, cv = 5, param_grid = para_grid_lgbm)\n",
    "\n",
    "cv_score = cross_val_score(lgbmr, X, y,scoring='neg_mean_squared_error', cv= 5)\n",
    "cv_score = np.array(cv_score)\n",
    "cv_score = cv_score * -1\n",
    "cv_score = np.mean(np.sqrt(cv_score))\n",
    "cv_score\n",
    "\n",
    "# rmse gbdt > rmse dart "
   ]
  },
  {
   "cell_type": "raw",
   "metadata": {},
   "source": [
    "reg.fit(X,y)"
   ]
  },
  {
   "cell_type": "markdown",
   "metadata": {},
   "source": [
    " "
   ]
  },
  {
   "cell_type": "markdown",
   "metadata": {},
   "source": [
    "XGBoost"
   ]
  },
  {
   "cell_type": "code",
   "execution_count": 152,
   "metadata": {},
   "outputs": [],
   "source": [
    "import xgboost as xgb\n",
    "from xgboost import XGBRegressor"
   ]
  },
  {
   "cell_type": "code",
   "execution_count": 153,
   "metadata": {},
   "outputs": [],
   "source": [
    "dtrain = xgb.DMatrix(xtrain2, label = ytrain2)\n",
    "#para_grid = {'lambda': 1.0, 'alpha': 1.0}"
   ]
  },
  {
   "cell_type": "code",
   "execution_count": 154,
   "metadata": {},
   "outputs": [],
   "source": [
    "reg = XGBRegressor(n_estimators=100, objective='reg:squarederror')"
   ]
  },
  {
   "cell_type": "code",
   "execution_count": 155,
   "metadata": {},
   "outputs": [
    {
     "data": {
      "text/plain": [
       "(array([-1623.85516207, -1070.60307534, -1199.50007313, -1170.79239018,\n",
       "        -1487.57675142]),\n",
       " -1310.4654904268634)"
      ]
     },
     "execution_count": 155,
     "metadata": {},
     "output_type": "execute_result"
    }
   ],
   "source": [
    "cv_score = (cross_val_score(reg, X,y, cv = 5, scoring='neg_root_mean_squared_error'))\n",
    "cv_score, np.mean(cv_score)"
   ]
  },
  {
   "cell_type": "markdown",
   "metadata": {},
   "source": [
    " "
   ]
  },
  {
   "cell_type": "code",
   "execution_count": 156,
   "metadata": {
    "jupyter": {
     "outputs_hidden": true
    }
   },
   "outputs": [
    {
     "data": {
      "image/png": "[encoded data removed]",
      "text/plain": [
       "<Figure size 432x288 with 1 Axes>"
      ]
     },
     "metadata": {
      "needs_background": "light"
     },
     "output_type": "display_data"
    }
   ],
   "source": [
    "reg.fit(xtrain2, ytrain2)\n",
    "xgb.plot_importance(reg, )\n",
    "plt.show()"
   ]
  },
  {
   "cell_type": "markdown",
   "metadata": {},
   "source": [
    " "
   ]
  },
  {
   "cell_type": "code",
   "execution_count": 157,
   "metadata": {},
   "outputs": [
    {
     "data": {
      "text/plain": [
       "(array([-2.48898241e+17, -1.15485171e+18, -8.84206570e+17, -5.48389309e+18,\n",
       "        -8.99742951e+18]),\n",
       " -3.3538558238904023e+18)"
      ]
     },
     "execution_count": 157,
     "metadata": {},
     "output_type": "execute_result"
    }
   ],
   "source": [
    "reg = SGDRegressor()\n",
    "cv_score = (cross_val_score(reg, X,y, cv = 5, scoring='neg_root_mean_squared_error'))\n",
    "cv_score, np.mean(cv_score)"
   ]
  },
  {
   "cell_type": "markdown",
   "metadata": {},
   "source": [
    " "
   ]
  },
  {
   "cell_type": "markdown",
   "metadata": {},
   "source": [
    " Summary of base models using cross_val_score and cv = 5 (100 estimators wherever applicable):\n",
    " \n",
    "    * Gradient Boosting Regressor [1265]\n",
    "    * Random Forest Regressor [1273]\n",
    "    * XGBoost Regressor [1310]\n",
    "    * BaggingRegressor [1337]\n",
    "    * HistGradientBoosting [1967]\n",
    "    * LightGBMRegressor [1998]\n",
    "    * AdaBoostRegressor [>5000]\n"
   ]
  },
  {
   "cell_type": "markdown",
   "metadata": {},
   "source": [
    " "
   ]
  },
  {
   "cell_type": "markdown",
   "metadata": {},
   "source": [
    "##### Running the same models with a KFold validation approach"
   ]
  },
  {
   "cell_type": "markdown",
   "metadata": {},
   "source": [
    "Random Forest"
   ]
  },
  {
   "cell_type": "code",
   "execution_count": 320,
   "metadata": {},
   "outputs": [
    {
     "data": {
      "text/plain": [
       "([1302.7674349464594,\n",
       "  1421.5163812987525,\n",
       "  1276.0295068178768,\n",
       "  1238.3377926032847,\n",
       "  1844.5894443624131,\n",
       "  940.8702912895725,\n",
       "  724.0853584660154,\n",
       "  835.4638216836539,\n",
       "  3044.6596811122495,\n",
       "  787.303115279555,\n",
       "  829.6531486181757,\n",
       "  617.0672008204724,\n",
       "  636.2882263404722,\n",
       "  1729.4898077080613,\n",
       "  601.3210108928214,\n",
       "  750.8105600047015,\n",
       "  1037.484280625655,\n",
       "  1516.5870792503308,\n",
       "  1542.0763727646563,\n",
       "  726.5064795121784],\n",
       " 1170.145349719868)"
      ]
     },
     "execution_count": 320,
     "metadata": {},
     "output_type": "execute_result"
    }
   ],
   "source": [
    "\n",
    "scores = []\n",
    "for train_index, test_index in kf.split(xtrain2):\n",
    "    X_train, X_test = xtrain2.loc[train_index], xtrain2.loc[test_index]\n",
    "    y_train, y_test = ytrain2[train_index], ytrain2[test_index]\n",
    "\n",
    "    model1 = RandomForestRegressor(n_estimators=200)\n",
    "    model1.fit(X_train, y_train, )\n",
    "\n",
    "    y_pred = model1.predict(X_test)\n",
    "\n",
    "    scores.append(np.sqrt(np.mean((y_pred-y_test)**2)))\n",
    "    \n",
    "scores, np.mean(scores)"
   ]
  },
  {
   "cell_type": "markdown",
   "metadata": {},
   "source": [
    " "
   ]
  },
  {
   "cell_type": "code",
   "execution_count": 321,
   "metadata": {},
   "outputs": [
    {
     "data": {
      "image/png": "[encoded data removed]",
      "text/plain": [
       "<Figure size 1080x432 with 1 Axes>"
      ]
     },
     "metadata": {
      "needs_background": "light"
     },
     "output_type": "display_data"
    }
   ],
   "source": [
    "plt.figure(figsize=(15,6))\n",
    "plt.bar(xtrain2.columns, pd.Series(model1.feature_importances_))\n",
    "plt.show()"
   ]
  },
  {
   "cell_type": "markdown",
   "metadata": {},
   "source": [
    " "
   ]
  },
  {
   "cell_type": "markdown",
   "metadata": {},
   "source": [
    "Gradient Boosting"
   ]
  },
  {
   "cell_type": "code",
   "execution_count": 322,
   "metadata": {},
   "outputs": [
    {
     "data": {
      "text/plain": [
       "([1115.8559784637544,\n",
       "  1445.8320164113131,\n",
       "  1295.8736160886117,\n",
       "  989.8675052273564,\n",
       "  2009.7055210492595,\n",
       "  808.1962386794419,\n",
       "  794.5973789297444,\n",
       "  787.347468710216,\n",
       "  3010.8009890218163,\n",
       "  925.8459499581861,\n",
       "  984.3210174426177,\n",
       "  639.6645042206742,\n",
       "  791.644764305131,\n",
       "  1987.3419798659138,\n",
       "  601.6353999130464,\n",
       "  732.8079676921685,\n",
       "  755.977894757189,\n",
       "  1300.9943073503605,\n",
       "  1191.5147108446047,\n",
       "  702.3095221363333],\n",
       " 1143.6067365533868)"
      ]
     },
     "execution_count": 322,
     "metadata": {},
     "output_type": "execute_result"
    }
   ],
   "source": [
    "\n",
    "scores = []\n",
    "for train_index, test_index in kf.split(xtrain2):\n",
    "    X_train, X_test = xtrain2.loc[train_index], xtrain2.loc[test_index]\n",
    "    y_train, y_test = ytrain2[train_index], ytrain2[test_index]\n",
    "\n",
    "    model2 = GradientBoostingRegressor(n_estimators=200)\n",
    "    model2.fit(X_train, y_train, )\n",
    "\n",
    "    y_pred = model2.predict(X_test)\n",
    "\n",
    "    scores.append(np.sqrt(np.mean((y_pred-y_test)**2)))\n",
    "    \n",
    "scores, np.mean(scores)"
   ]
  },
  {
   "cell_type": "markdown",
   "metadata": {},
   "source": [
    " "
   ]
  },
  {
   "cell_type": "markdown",
   "metadata": {},
   "source": [
    "Bagging Regressor"
   ]
  },
  {
   "cell_type": "code",
   "execution_count": 323,
   "metadata": {},
   "outputs": [
    {
     "data": {
      "text/plain": [
       "([1271.9850808894346,\n",
       "  1393.270087152412,\n",
       "  1282.8606285125513,\n",
       "  1233.0824481941133,\n",
       "  1817.480550654015,\n",
       "  931.4228602468829,\n",
       "  729.0564622644337,\n",
       "  835.3030217896996,\n",
       "  3141.178636657912,\n",
       "  801.5865567767909,\n",
       "  836.9808207485788,\n",
       "  641.650874787751,\n",
       "  621.3733794505588,\n",
       "  1729.9155985677492,\n",
       "  586.9523653505756,\n",
       "  770.4427418833803,\n",
       "  1082.8989077573253,\n",
       "  1470.1383688176284,\n",
       "  1552.7777157720882,\n",
       "  707.1722096942594],\n",
       " 1171.876465798407)"
      ]
     },
     "execution_count": 323,
     "metadata": {},
     "output_type": "execute_result"
    }
   ],
   "source": [
    "\n",
    "scores = []\n",
    "for train_index, test_index in kf.split(xtrain2):\n",
    "    X_train, X_test = xtrain2.loc[train_index], xtrain2.loc[test_index]\n",
    "    y_train, y_test = ytrain2[train_index], ytrain2[test_index]\n",
    "\n",
    "    model3 = BaggingRegressor(n_estimators=200)\n",
    "    model3.fit(X_train, y_train, )\n",
    "\n",
    "    y_pred = model3.predict(X_test)\n",
    "\n",
    "    scores.append(np.sqrt(np.mean((y_pred-y_test)**2)))\n",
    "    \n",
    "scores, np.mean(scores)"
   ]
  },
  {
   "cell_type": "markdown",
   "metadata": {},
   "source": [
    " "
   ]
  },
  {
   "cell_type": "markdown",
   "metadata": {},
   "source": [
    "Ada Boost"
   ]
  },
  {
   "cell_type": "code",
   "execution_count": 324,
   "metadata": {},
   "outputs": [
    {
     "data": {
      "text/plain": [
       "([7960.997904112408,\n",
       "  3548.2156792374935,\n",
       "  4052.5266872657785,\n",
       "  8768.479732836015,\n",
       "  9080.57349418041,\n",
       "  9204.968057534164,\n",
       "  9199.684230268707,\n",
       "  6546.368013754269,\n",
       "  10558.188490600678,\n",
       "  8774.059230577102,\n",
       "  7768.034821438503,\n",
       "  8977.491675526815,\n",
       "  7486.473686829903,\n",
       "  4936.386062886099,\n",
       "  8732.52446996775,\n",
       "  11108.553839397933,\n",
       "  6699.167905881466,\n",
       "  11827.922785356624,\n",
       "  11032.536567400932,\n",
       "  3249.7628686460366],\n",
       " 7975.645810184955)"
      ]
     },
     "execution_count": 324,
     "metadata": {},
     "output_type": "execute_result"
    }
   ],
   "source": [
    "\n",
    "scores = []\n",
    "for train_index, test_index in kf.split(xtrain2):\n",
    "    X_train, X_test = xtrain2.loc[train_index], xtrain2.loc[test_index]\n",
    "    y_train, y_test = ytrain2[train_index], ytrain2[test_index]\n",
    "\n",
    "    model4 = AdaBoostRegressor(n_estimators=200)\n",
    "    model4.fit(X_train, y_train, )\n",
    "\n",
    "    y_pred = model4.predict(X_test)\n",
    "\n",
    "    scores.append(np.sqrt(np.mean((y_pred-y_test)**2)))\n",
    "    \n",
    "scores, np.mean(scores)"
   ]
  },
  {
   "cell_type": "markdown",
   "metadata": {},
   "source": [
    " "
   ]
  },
  {
   "cell_type": "markdown",
   "metadata": {},
   "source": [
    "Light GBM"
   ]
  },
  {
   "cell_type": "code",
   "execution_count": 325,
   "metadata": {},
   "outputs": [
    {
     "data": {
      "text/plain": [
       "([1600.197666845921,\n",
       "  1701.1192395083576,\n",
       "  1690.1264046731287,\n",
       "  2079.6780193110226,\n",
       "  3692.040204326218,\n",
       "  2117.0185547536344,\n",
       "  1217.2173009401827,\n",
       "  909.6744165510023,\n",
       "  3824.659287957428,\n",
       "  1570.325155500829,\n",
       "  1593.3963087120271,\n",
       "  801.0859465979313,\n",
       "  2194.497652533069,\n",
       "  2437.842594036989,\n",
       "  892.8901012252601,\n",
       "  1253.5712265603,\n",
       "  2404.724139640091,\n",
       "  1872.162253238192,\n",
       "  2980.5397060148084,\n",
       "  1487.4058662694408],\n",
       " 1916.008602259792)"
      ]
     },
     "execution_count": 325,
     "metadata": {},
     "output_type": "execute_result"
    }
   ],
   "source": [
    "\n",
    "scores = []\n",
    "for train_index, test_index in kf.split(xtrain2):\n",
    "    X_train, X_test = xtrain2.loc[train_index], xtrain2.loc[test_index]\n",
    "    y_train, y_test = ytrain2[train_index], ytrain2[test_index]\n",
    "\n",
    "    model5 = LGBMRegressor(n_estimators=200)\n",
    "    model5.fit(X_train, y_train, )\n",
    "\n",
    "    y_pred = model5.predict(X_test)\n",
    "\n",
    "    scores.append(np.sqrt(np.mean((y_pred-y_test)**2)))\n",
    "    \n",
    "scores, np.mean(scores)"
   ]
  },
  {
   "cell_type": "markdown",
   "metadata": {},
   "source": [
    " "
   ]
  },
  {
   "cell_type": "markdown",
   "metadata": {},
   "source": [
    "XGBoost"
   ]
  },
  {
   "cell_type": "code",
   "execution_count": 326,
   "metadata": {},
   "outputs": [
    {
     "name": "stdout",
     "output_type": "stream",
     "text": [
      "[07:24:28] WARNING: src/objective/regression_obj.cu:152: reg:linear is now deprecated in favor of reg:squarederror.\n",
      "[07:25:17] WARNING: src/objective/regression_obj.cu:152: reg:linear is now deprecated in favor of reg:squarederror.\n",
      "[07:26:05] WARNING: src/objective/regression_obj.cu:152: reg:linear is now deprecated in favor of reg:squarederror.\n",
      "[07:26:53] WARNING: src/objective/regression_obj.cu:152: reg:linear is now deprecated in favor of reg:squarederror.\n",
      "[07:27:42] WARNING: src/objective/regression_obj.cu:152: reg:linear is now deprecated in favor of reg:squarederror.\n",
      "[07:28:30] WARNING: src/objective/regression_obj.cu:152: reg:linear is now deprecated in favor of reg:squarederror.\n",
      "[07:29:18] WARNING: src/objective/regression_obj.cu:152: reg:linear is now deprecated in favor of reg:squarederror.\n",
      "[07:30:07] WARNING: src/objective/regression_obj.cu:152: reg:linear is now deprecated in favor of reg:squarederror.\n",
      "[07:30:55] WARNING: src/objective/regression_obj.cu:152: reg:linear is now deprecated in favor of reg:squarederror.\n",
      "[07:31:43] WARNING: src/objective/regression_obj.cu:152: reg:linear is now deprecated in favor of reg:squarederror.\n",
      "[07:32:32] WARNING: src/objective/regression_obj.cu:152: reg:linear is now deprecated in favor of reg:squarederror.\n",
      "[07:33:20] WARNING: src/objective/regression_obj.cu:152: reg:linear is now deprecated in favor of reg:squarederror.\n",
      "[07:34:08] WARNING: src/objective/regression_obj.cu:152: reg:linear is now deprecated in favor of reg:squarederror.\n",
      "[07:34:56] WARNING: src/objective/regression_obj.cu:152: reg:linear is now deprecated in favor of reg:squarederror.\n",
      "[07:35:45] WARNING: src/objective/regression_obj.cu:152: reg:linear is now deprecated in favor of reg:squarederror.\n",
      "[07:36:32] WARNING: src/objective/regression_obj.cu:152: reg:linear is now deprecated in favor of reg:squarederror.\n",
      "[07:37:21] WARNING: src/objective/regression_obj.cu:152: reg:linear is now deprecated in favor of reg:squarederror.\n",
      "[07:38:09] WARNING: src/objective/regression_obj.cu:152: reg:linear is now deprecated in favor of reg:squarederror.\n",
      "[07:38:57] WARNING: src/objective/regression_obj.cu:152: reg:linear is now deprecated in favor of reg:squarederror.\n",
      "[07:39:45] WARNING: src/objective/regression_obj.cu:152: reg:linear is now deprecated in favor of reg:squarederror.\n"
     ]
    },
    {
     "data": {
      "text/plain": [
       "([1115.7361400517595,\n",
       "  1442.8895232212183,\n",
       "  1328.937527206337,\n",
       "  1183.0725672208928,\n",
       "  2090.6773602118324,\n",
       "  776.3238159065427,\n",
       "  894.7586590819727,\n",
       "  774.1607022959852,\n",
       "  3101.0043573774237,\n",
       "  922.150138422699,\n",
       "  925.1399886501625,\n",
       "  624.6725463071907,\n",
       "  754.2302233105198,\n",
       "  1841.4295404428924,\n",
       "  638.2596777070928,\n",
       "  736.2322363136176,\n",
       "  864.2735504132518,\n",
       "  1286.541234420694,\n",
       "  1266.0939961189565,\n",
       "  646.3866854437266],\n",
       " 1160.6485235062382)"
      ]
     },
     "execution_count": 326,
     "metadata": {},
     "output_type": "execute_result"
    }
   ],
   "source": [
    "\n",
    "scores = []\n",
    "for train_index, test_index in kf.split(xtrain2):\n",
    "    X_train, X_test = xtrain2.loc[train_index], xtrain2.loc[test_index]\n",
    "    y_train, y_test = ytrain2[train_index], ytrain2[test_index]\n",
    "\n",
    "    model6 = XGBRegressor(n_estimators=200)\n",
    "    model6.fit(X_train, y_train, )\n",
    "\n",
    "    y_pred = model6.predict(X_test)\n",
    "\n",
    "    scores.append(np.sqrt(np.mean((y_pred-y_test)**2)))\n",
    "    \n",
    "scores, np.mean(scores)"
   ]
  },
  {
   "cell_type": "code",
   "execution_count": 328,
   "metadata": {},
   "outputs": [
    {
     "data": {
      "text/plain": [
       "<Figure size 1152x576 with 0 Axes>"
      ]
     },
     "metadata": {},
     "output_type": "display_data"
    },
    {
     "data": {
      "image/png": "[encoded data removed]",
      "text/plain": [
       "<Figure size 432x288 with 1 Axes>"
      ]
     },
     "metadata": {
      "needs_background": "light"
     },
     "output_type": "display_data"
    }
   ],
   "source": [
    "plt.figure(figsize = (16,8))\n",
    "xgb.plot_importance(model6)\n",
    "plt.show()"
   ]
  },
  {
   "cell_type": "markdown",
   "metadata": {},
   "source": []
  },
  {
   "cell_type": "markdown",
   "metadata": {},
   "source": [
    "\n",
    "Summary of base models using KFoldCV and cv = 5 (100 estimators wherever applicable):\n",
    "\n",
    "    * Gradient Boosting Regressor [1226]\n",
    "    * Random Forest Regressor [1301]\n",
    "    * XGBoost Regressor [1247]\n",
    "    * BaggingRegressor [1266]\n",
    "    * LightGBMRegressor [2004]\n",
    "    * AdaBoostRegressor [>6300]\n",
    "\n",
    "> 200 estimators\n",
    "\n",
    "    * Gradient Boosting Regressor [1216]\n",
    "    * Random Forest Regressor [1277]\n",
    "    * XGBoost Regressor [1236]\n",
    "    * BaggingRegressor [1303]\n",
    "    * LightGBMRegressor [2045]\n",
    "    * AdaBoostRegressor [>8000]  \n",
    "    \n",
    "CV = 20\n",
    "\n",
    "    * Gradient Boosting Regressor [1143]\n",
    "    * Random Forest Regressor [1170]\n",
    "    * XGBoost Regressor [1160]\n",
    "    * BaggingRegressor [1170]\n",
    "    * LightGBMRegressor [1916]\n",
    "    * AdaBoostRegressor [7975]  \n",
    "  \n"
   ]
  },
  {
   "cell_type": "markdown",
   "metadata": {},
   "source": [
    "Prediction using new CV scores and fits"
   ]
  },
  {
   "cell_type": "code",
   "execution_count": 330,
   "metadata": {},
   "outputs": [],
   "source": [
    "model1.fit(xtrain2, ytrain2)\n",
    "model1_pred = model1.predict(xtest2)\n",
    "\n",
    "# Clip the negative values to 0\n",
    "model1_prediction = pd.DataFrame({'ID': test.ID, 'Upvotes': model1_pred})\n",
    "model1_prediction.Upvotes = model1_prediction.Upvotes.clip(0)\n",
    "model1_prediction.to_csv(\"model1_prediction.csv\", index_label = False)"
   ]
  },
  {
   "cell_type": "code",
   "execution_count": 331,
   "metadata": {},
   "outputs": [],
   "source": [
    "model2.fit(xtrain2, ytrain2)\n",
    "model2_pred = model2.predict(xtest2)\n",
    "\n",
    "# Clip the negative values to 0\n",
    "model2_prediction = pd.DataFrame({'ID': test.ID, 'Upvotes': model2_pred})\n",
    "model2_prediction.Upvotes = model2_prediction.Upvotes.clip(0)\n",
    "model2_prediction.to_csv(\"model2_prediction.csv\", index_label = False)"
   ]
  },
  {
   "cell_type": "code",
   "execution_count": 332,
   "metadata": {},
   "outputs": [],
   "source": [
    "model3.fit(xtrain2, ytrain2)\n",
    "model3_pred = model3.predict(xtest2)\n",
    "\n",
    "# Clip the negative values to 0\n",
    "model3_prediction = pd.DataFrame({'ID': test.ID, 'Upvotes': model3_pred})\n",
    "model3_prediction.Upvotes = model3_prediction.Upvotes.clip(0)\n",
    "model3_prediction.to_csv(\"model3_prediction.csv\", index_label = False)"
   ]
  },
  {
   "cell_type": "code",
   "execution_count": 333,
   "metadata": {},
   "outputs": [],
   "source": [
    "model4.fit(xtrain2, ytrain2)\n",
    "model4_pred = model4.predict(xtest2)\n",
    "\n",
    "# Clip the negative values to 0\n",
    "model4_prediction = pd.DataFrame({'ID': test.ID, 'Upvotes': model4_pred})\n",
    "model4_prediction.Upvotes = model4_prediction.Upvotes.clip(0)\n",
    "model4_prediction.to_csv(\"model4_prediction.csv\", index_label = False)"
   ]
  },
  {
   "cell_type": "code",
   "execution_count": 334,
   "metadata": {},
   "outputs": [],
   "source": [
    "model5.fit(xtrain2, ytrain2)\n",
    "model5_pred = model5.predict(xtest2)\n",
    "\n",
    "# Clip the negative values to 0\n",
    "model5_prediction = pd.DataFrame({'ID': test.ID, 'Upvotes': model5_pred})\n",
    "model5_prediction.Upvotes = model5_prediction.Upvotes.clip(0)\n",
    "model5_prediction.to_csv(\"model5_prediction.csv\", index_label = False)"
   ]
  },
  {
   "cell_type": "code",
   "execution_count": 335,
   "metadata": {},
   "outputs": [
    {
     "name": "stdout",
     "output_type": "stream",
     "text": [
      "[17:24:17] WARNING: src/objective/regression_obj.cu:152: reg:linear is now deprecated in favor of reg:squarederror.\n"
     ]
    }
   ],
   "source": [
    "model6.fit(xtrain2, ytrain2)\n",
    "model6_pred = model6.predict(xtest2)\n",
    "\n",
    "# Clip the negative values to 0\n",
    "model6_prediction = pd.DataFrame({'ID': test.ID, 'Upvotes': model6_pred})\n",
    "model6_prediction.Upvotes = model6_prediction.Upvotes.clip(0)\n",
    "model6_prediction.to_csv(\"model6_prediction.csv\", index_label = False)"
   ]
  },
  {
   "cell_type": "markdown",
   "metadata": {},
   "source": [
    " "
   ]
  },
  {
   "cell_type": "markdown",
   "metadata": {},
   "source": [
    "<b><u>Observations so far</u>: <br>Bagging </b> fit predictions provide the best results for the problem, most likely due to the reduced effect of outliers in the data"
   ]
  },
  {
   "cell_type": "markdown",
   "metadata": {},
   "source": [
    " "
   ]
  },
  {
   "cell_type": "markdown",
   "metadata": {},
   "source": [
    " "
   ]
  },
  {
   "cell_type": "markdown",
   "metadata": {},
   "source": [
    " "
   ]
  },
  {
   "cell_type": "markdown",
   "metadata": {},
   "source": [
    "### Predicting using best base models - more trees"
   ]
  },
  {
   "cell_type": "markdown",
   "metadata": {},
   "source": [
    "Random Forest"
   ]
  },
  {
   "cell_type": "code",
   "execution_count": 347,
   "metadata": {},
   "outputs": [
    {
     "data": {
      "text/plain": [
       "([1288.2102209003003,\n",
       "  1408.185679934436,\n",
       "  1273.6576207041041,\n",
       "  1221.6303227786623,\n",
       "  1787.2668597034872,\n",
       "  903.5577949692856,\n",
       "  731.4490721331298,\n",
       "  831.5021318354371,\n",
       "  3032.287753552384,\n",
       "  788.9893381485952,\n",
       "  835.2510751466776,\n",
       "  649.0755575714603,\n",
       "  609.1642577483863,\n",
       "  1731.9815483856391,\n",
       "  587.3161036827455,\n",
       "  755.2787224179932,\n",
       "  1119.2353650886255,\n",
       "  1551.1582269512187,\n",
       "  1707.4009553970661,\n",
       "  736.62163207556],\n",
       " 1177.4610119562597)"
      ]
     },
     "execution_count": 347,
     "metadata": {},
     "output_type": "execute_result"
    }
   ],
   "source": [
    "scores = []\n",
    "for train_index, test_index in kf.split(xtrain2):\n",
    "    X_train, X_test = xtrain2.loc[train_index], xtrain2.loc[test_index]\n",
    "    y_train, y_test = ytrain2[train_index], ytrain2[test_index]\n",
    "\n",
    "    model10 = RandomForestRegressor(n_estimators=300, random_state=13)\n",
    "    model10.fit(X_train, y_train)\n",
    "\n",
    "    y_pred = model10.predict(X_test)\n",
    "\n",
    "    scores.append(np.sqrt(np.mean((y_pred-y_test)**2)))\n",
    "    \n",
    "scores, np.mean(scores)"
   ]
  },
  {
   "cell_type": "markdown",
   "metadata": {},
   "source": [
    "GB, 300 estimators, 1236  \n",
    "GB, 500 estimators, 1228  \n",
    "GB, 1000 estimators, 1234\n"
   ]
  },
  {
   "cell_type": "code",
   "execution_count": 348,
   "metadata": {},
   "outputs": [],
   "source": [
    "model10.fit(xtrain2, ytrain2)\n",
    "model10_pred = model10.predict(xtest2)\n",
    "\n",
    "# Clip the negative values to 0\n",
    "model10_prediction = pd.DataFrame({'ID': test.ID, 'Upvotes': model10_pred})\n",
    "model10_prediction.Upvotes = model10_prediction.Upvotes.clip(0)\n",
    "model10_prediction.to_csv(\"model10_prediction.csv\", index_label = False)"
   ]
  },
  {
   "cell_type": "code",
   "execution_count": null,
   "metadata": {},
   "outputs": [],
   "source": []
  },
  {
   "cell_type": "markdown",
   "metadata": {},
   "source": [
    "Bagging Regressor"
   ]
  },
  {
   "cell_type": "code",
   "execution_count": 349,
   "metadata": {},
   "outputs": [
    {
     "data": {
      "text/plain": [
       "([1349.2262758431707,\n",
       "  1445.0457646095342,\n",
       "  1301.3589060008846,\n",
       "  1149.5174282597345,\n",
       "  1879.0119223629792,\n",
       "  915.60599921235,\n",
       "  753.7518736686324,\n",
       "  832.1322893768432,\n",
       "  3082.297824526951,\n",
       "  790.9289616520201,\n",
       "  843.694705783067,\n",
       "  639.0435733217296,\n",
       "  608.430489845115,\n",
       "  1693.2252598326902,\n",
       "  585.1454990878411,\n",
       "  750.6374597654076,\n",
       "  1073.703800294649,\n",
       "  1522.1946517495876,\n",
       "  1582.250855556863,\n",
       "  756.516533944503],\n",
       " 1177.6860037347276)"
      ]
     },
     "execution_count": 349,
     "metadata": {},
     "output_type": "execute_result"
    }
   ],
   "source": [
    "scores = []\n",
    "for train_index, test_index in kf.split(xtrain2):\n",
    "    X_train, X_test = xtrain2.loc[train_index], xtrain2.loc[test_index]\n",
    "    y_train, y_test = ytrain2[train_index], ytrain2[test_index]\n",
    "\n",
    "    model11 = BaggingRegressor(n_estimators=300, random_state=23)\n",
    "    model11.fit(X_train, y_train, )\n",
    "\n",
    "    y_pred = model11.predict(X_test)\n",
    "\n",
    "    scores.append(np.sqrt(np.mean((y_pred-y_test)**2)))\n",
    "    \n",
    "scores, np.mean(scores)"
   ]
  },
  {
   "cell_type": "markdown",
   "metadata": {},
   "source": [
    "XGB, 300 estimators, 1244  \n",
    "XGB, 500 estimators, 1255  \n",
    "XGB, 1000 estimators, 1296"
   ]
  },
  {
   "cell_type": "code",
   "execution_count": 350,
   "metadata": {},
   "outputs": [],
   "source": [
    "model11.fit(xtrain2, ytrain2)\n",
    "model11_pred = model11.predict(xtest2)\n",
    "\n",
    "# Clip the negative values to 0\n",
    "model11_prediction = pd.DataFrame({'ID': test.ID, 'Upvotes': xgb_pred})\n",
    "model11_prediction.Upvotes = model11_prediction.Upvotes.clip(0)\n",
    "model11_prediction.to_csv(\"model11_prediction.csv\", index_label = False)"
   ]
  },
  {
   "cell_type": "code",
   "execution_count": null,
   "metadata": {
    "scrolled": false
   },
   "outputs": [],
   "source": []
  },
  {
   "cell_type": "markdown",
   "metadata": {},
   "source": [
    "<b>Best prediction so far:\n",
    "    \n",
    "    Bagging Regressor with 200 estimators --> 1156 (AV public score)\n",
    "    RandomForest Regressor (200 estimators)-> 1157\n",
    "</b>"
   ]
  },
  {
   "cell_type": "markdown",
   "metadata": {},
   "source": [
    " 🙃"
   ]
  },
  {
   "cell_type": "markdown",
   "metadata": {},
   "source": [
    "### Feature enhancement"
   ]
  },
  {
   "cell_type": "markdown",
   "metadata": {},
   "source": [
    "Based on the performance of models above, we can look to make adjustments to the data to manage the outliers"
   ]
  },
  {
   "cell_type": "markdown",
   "metadata": {},
   "source": [
    " "
   ]
  },
  {
   "cell_type": "code",
   "execution_count": null,
   "metadata": {},
   "outputs": [],
   "source": []
  },
  {
   "cell_type": "code",
   "execution_count": null,
   "metadata": {},
   "outputs": [],
   "source": []
  },
  {
   "cell_type": "code",
   "execution_count": null,
   "metadata": {},
   "outputs": [],
   "source": []
  },
  {
   "cell_type": "code",
   "execution_count": null,
   "metadata": {},
   "outputs": [],
   "source": []
  },
  {
   "cell_type": "code",
   "execution_count": null,
   "metadata": {},
   "outputs": [],
   "source": []
  },
  {
   "cell_type": "markdown",
   "metadata": {},
   "source": [
    "<h1> <font color = 'red'> To be formatted and organized (Everything below this cell) </font></h1>\n",
    "Not part of final solution!!!\n"
   ]
  },
  {
   "cell_type": "code",
   "execution_count": null,
   "metadata": {},
   "outputs": [],
   "source": []
  },
  {
   "cell_type": "markdown",
   "metadata": {},
   "source": [
    "##### Based on Views"
   ]
  },
  {
   "cell_type": "markdown",
   "metadata": {},
   "source": [
    "Scale of a view relative to the mean| median view for that category"
   ]
  },
  {
   "cell_type": "code",
   "execution_count": 261,
   "metadata": {},
   "outputs": [],
   "source": [
    "train_sub = train\n",
    "test_sub = test"
   ]
  },
  {
   "cell_type": "code",
   "execution_count": 301,
   "metadata": {},
   "outputs": [],
   "source": [
    "# Using mean to get the scaled value - Views\n",
    "train3 = pd.merge(train, train_sub.groupby(['Tag']).mean()['Views'], on=\"Tag\")\n",
    "train3['View_scaled'] = train3.Views_x / train3.Views_y\n",
    "train3.drop('Views_y', axis = 1, inplace = True)\n",
    "\n",
    "test3 = pd.merge(test, test_sub.groupby(['Tag']).mean()['Views'], on=\"Tag\")\n",
    "test3['View_scaled'] = test3.Views_x / test3.Views_y\n",
    "test3.drop('Views_y', axis = 1, inplace = True)\n",
    "\n",
    "\n",
    "# Reputation\n",
    "\n",
    "train3 = pd.merge(train3, train_sub.groupby(['Tag']).mean()['Reputation'], on=\"Tag\")\n",
    "train3['Rep_scaled'] = train3.Reputation_x / train3.Reputation_y\n",
    "train3.drop('Reputation_y', axis = 1, inplace = True)\n",
    "\n",
    "\n",
    "# Answers\n",
    "\n",
    "train3 = pd.merge(train3, train_sub.groupby(['Tag']).mean()['Answers'], on=\"Tag\")\n",
    "train3['ans_scaled'] = train3.Answers_x / train3.Answers_y\n",
    "train3.drop('Answers_y', axis = 1, inplace = True)\n",
    "\n"
   ]
  },
  {
   "cell_type": "raw",
   "metadata": {},
   "source": [
    "Training and measuring against the best two models above:\n",
    "\n"
   ]
  },
  {
   "cell_type": "code",
   "execution_count": 302,
   "metadata": {},
   "outputs": [],
   "source": [
    "train3 = pd.concat([train3, ohe], axis = 1)\n",
    "test3 = pd.concat([test3, ohe_test], axis = 1)\n",
    "\n",
    "train3.drop(['ID','Username','Tag', 'Views_x', 'Answers_x', 'Reputation_x'], axis = 1, inplace = True)\n",
    "test3.drop(['ID','Username','Tag'], axis = 1, inplace = True)\n",
    "xtrain3 = train3.iloc[:,1:]\n",
    "ytrain3 = train3.Upvotes.ravel()\n",
    "xtest3 = test3\n"
   ]
  },
  {
   "cell_type": "code",
   "execution_count": 304,
   "metadata": {},
   "outputs": [
    {
     "data": {
      "text/html": [
       "<div>\n",
       "<style scoped>\n",
       "    .dataframe tbody tr th:only-of-type {\n",
       "        vertical-align: middle;\n",
       "    }\n",
       "\n",
       "    .dataframe tbody tr th {\n",
       "        vertical-align: top;\n",
       "    }\n",
       "\n",
       "    .dataframe thead th {\n",
       "        text-align: right;\n",
       "    }\n",
       "</style>\n",
       "<table border=\"1\" class=\"dataframe\">\n",
       "  <thead>\n",
       "    <tr style=\"text-align: right;\">\n",
       "      <th></th>\n",
       "      <th>Upvotes</th>\n",
       "      <th>View_scaled</th>\n",
       "      <th>Rep_scaled</th>\n",
       "      <th>ans_scaled</th>\n",
       "      <th>a</th>\n",
       "      <th>c</th>\n",
       "      <th>h</th>\n",
       "      <th>i</th>\n",
       "      <th>j</th>\n",
       "      <th>o</th>\n",
       "      <th>p</th>\n",
       "      <th>r</th>\n",
       "      <th>s</th>\n",
       "      <th>x</th>\n",
       "    </tr>\n",
       "  </thead>\n",
       "  <tbody>\n",
       "    <tr>\n",
       "      <th>0</th>\n",
       "      <td>42</td>\n",
       "      <td>0.25</td>\n",
       "      <td>0.65</td>\n",
       "      <td>0.47</td>\n",
       "      <td>1</td>\n",
       "      <td>0</td>\n",
       "      <td>0</td>\n",
       "      <td>0</td>\n",
       "      <td>0</td>\n",
       "      <td>0</td>\n",
       "      <td>0</td>\n",
       "      <td>0</td>\n",
       "      <td>0</td>\n",
       "      <td>0</td>\n",
       "    </tr>\n",
       "    <tr>\n",
       "      <th>1</th>\n",
       "      <td>1175</td>\n",
       "      <td>1.75</td>\n",
       "      <td>4.29</td>\n",
       "      <td>2.82</td>\n",
       "      <td>1</td>\n",
       "      <td>0</td>\n",
       "      <td>0</td>\n",
       "      <td>0</td>\n",
       "      <td>0</td>\n",
       "      <td>0</td>\n",
       "      <td>0</td>\n",
       "      <td>0</td>\n",
       "      <td>0</td>\n",
       "      <td>0</td>\n",
       "    </tr>\n",
       "    <tr>\n",
       "      <th>2</th>\n",
       "      <td>9</td>\n",
       "      <td>0.85</td>\n",
       "      <td>0.04</td>\n",
       "      <td>0.70</td>\n",
       "      <td>0</td>\n",
       "      <td>1</td>\n",
       "      <td>0</td>\n",
       "      <td>0</td>\n",
       "      <td>0</td>\n",
       "      <td>0</td>\n",
       "      <td>0</td>\n",
       "      <td>0</td>\n",
       "      <td>0</td>\n",
       "      <td>0</td>\n",
       "    </tr>\n",
       "    <tr>\n",
       "      <th>3</th>\n",
       "      <td>8</td>\n",
       "      <td>0.70</td>\n",
       "      <td>0.06</td>\n",
       "      <td>0.70</td>\n",
       "      <td>1</td>\n",
       "      <td>0</td>\n",
       "      <td>0</td>\n",
       "      <td>0</td>\n",
       "      <td>0</td>\n",
       "      <td>0</td>\n",
       "      <td>0</td>\n",
       "      <td>0</td>\n",
       "      <td>0</td>\n",
       "      <td>0</td>\n",
       "    </tr>\n",
       "    <tr>\n",
       "      <th>4</th>\n",
       "      <td>363</td>\n",
       "      <td>1.46</td>\n",
       "      <td>1.49</td>\n",
       "      <td>0.47</td>\n",
       "      <td>0</td>\n",
       "      <td>1</td>\n",
       "      <td>0</td>\n",
       "      <td>0</td>\n",
       "      <td>0</td>\n",
       "      <td>0</td>\n",
       "      <td>0</td>\n",
       "      <td>0</td>\n",
       "      <td>0</td>\n",
       "      <td>0</td>\n",
       "    </tr>\n",
       "    <tr>\n",
       "      <th>...</th>\n",
       "      <td>...</td>\n",
       "      <td>...</td>\n",
       "      <td>...</td>\n",
       "      <td>...</td>\n",
       "      <td>...</td>\n",
       "      <td>...</td>\n",
       "      <td>...</td>\n",
       "      <td>...</td>\n",
       "      <td>...</td>\n",
       "      <td>...</td>\n",
       "      <td>...</td>\n",
       "      <td>...</td>\n",
       "      <td>...</td>\n",
       "      <td>...</td>\n",
       "    </tr>\n",
       "    <tr>\n",
       "      <th>330040</th>\n",
       "      <td>11</td>\n",
       "      <td>0.06</td>\n",
       "      <td>0.50</td>\n",
       "      <td>0.36</td>\n",
       "      <td>0</td>\n",
       "      <td>1</td>\n",
       "      <td>0</td>\n",
       "      <td>0</td>\n",
       "      <td>0</td>\n",
       "      <td>0</td>\n",
       "      <td>0</td>\n",
       "      <td>0</td>\n",
       "      <td>0</td>\n",
       "      <td>0</td>\n",
       "    </tr>\n",
       "    <tr>\n",
       "      <th>330041</th>\n",
       "      <td>9</td>\n",
       "      <td>0.06</td>\n",
       "      <td>0.61</td>\n",
       "      <td>0.36</td>\n",
       "      <td>0</td>\n",
       "      <td>1</td>\n",
       "      <td>0</td>\n",
       "      <td>0</td>\n",
       "      <td>0</td>\n",
       "      <td>0</td>\n",
       "      <td>0</td>\n",
       "      <td>0</td>\n",
       "      <td>0</td>\n",
       "      <td>0</td>\n",
       "    </tr>\n",
       "    <tr>\n",
       "      <th>330042</th>\n",
       "      <td>10</td>\n",
       "      <td>2.42</td>\n",
       "      <td>0.02</td>\n",
       "      <td>1.08</td>\n",
       "      <td>0</td>\n",
       "      <td>1</td>\n",
       "      <td>0</td>\n",
       "      <td>0</td>\n",
       "      <td>0</td>\n",
       "      <td>0</td>\n",
       "      <td>0</td>\n",
       "      <td>0</td>\n",
       "      <td>0</td>\n",
       "      <td>0</td>\n",
       "    </tr>\n",
       "    <tr>\n",
       "      <th>330043</th>\n",
       "      <td>91</td>\n",
       "      <td>0.26</td>\n",
       "      <td>3.22</td>\n",
       "      <td>1.81</td>\n",
       "      <td>0</td>\n",
       "      <td>0</td>\n",
       "      <td>0</td>\n",
       "      <td>0</td>\n",
       "      <td>1</td>\n",
       "      <td>0</td>\n",
       "      <td>0</td>\n",
       "      <td>0</td>\n",
       "      <td>0</td>\n",
       "      <td>0</td>\n",
       "    </tr>\n",
       "    <tr>\n",
       "      <th>330044</th>\n",
       "      <td>54</td>\n",
       "      <td>0.27</td>\n",
       "      <td>1.77</td>\n",
       "      <td>0.72</td>\n",
       "      <td>0</td>\n",
       "      <td>0</td>\n",
       "      <td>0</td>\n",
       "      <td>0</td>\n",
       "      <td>1</td>\n",
       "      <td>0</td>\n",
       "      <td>0</td>\n",
       "      <td>0</td>\n",
       "      <td>0</td>\n",
       "      <td>0</td>\n",
       "    </tr>\n",
       "  </tbody>\n",
       "</table>\n",
       "<p>330045 rows × 14 columns</p>\n",
       "</div>"
      ],
      "text/plain": [
       "        Upvotes  View_scaled  Rep_scaled  ans_scaled  a  c  h  i  j  o  p  r  \\\n",
       "0            42         0.25        0.65        0.47  1  0  0  0  0  0  0  0   \n",
       "1          1175         1.75        4.29        2.82  1  0  0  0  0  0  0  0   \n",
       "2             9         0.85        0.04        0.70  0  1  0  0  0  0  0  0   \n",
       "3             8         0.70        0.06        0.70  1  0  0  0  0  0  0  0   \n",
       "4           363         1.46        1.49        0.47  0  1  0  0  0  0  0  0   \n",
       "...         ...          ...         ...         ... .. .. .. .. .. .. .. ..   \n",
       "330040       11         0.06        0.50        0.36  0  1  0  0  0  0  0  0   \n",
       "330041        9         0.06        0.61        0.36  0  1  0  0  0  0  0  0   \n",
       "330042       10         2.42        0.02        1.08  0  1  0  0  0  0  0  0   \n",
       "330043       91         0.26        3.22        1.81  0  0  0  0  1  0  0  0   \n",
       "330044       54         0.27        1.77        0.72  0  0  0  0  1  0  0  0   \n",
       "\n",
       "        s  x  \n",
       "0       0  0  \n",
       "1       0  0  \n",
       "2       0  0  \n",
       "3       0  0  \n",
       "4       0  0  \n",
       "...    .. ..  \n",
       "330040  0  0  \n",
       "330041  0  0  \n",
       "330042  0  0  \n",
       "330043  0  0  \n",
       "330044  0  0  \n",
       "\n",
       "[330045 rows x 14 columns]"
      ]
     },
     "execution_count": 304,
     "metadata": {},
     "output_type": "execute_result"
    }
   ],
   "source": [
    "train3"
   ]
  },
  {
   "cell_type": "code",
   "execution_count": null,
   "metadata": {},
   "outputs": [],
   "source": []
  },
  {
   "cell_type": "markdown",
   "metadata": {},
   "source": [
    "Gradient Boosting\n"
   ]
  },
  {
   "cell_type": "code",
   "execution_count": 305,
   "metadata": {},
   "outputs": [
    {
     "data": {
      "text/plain": [
       "([1463.14363848644,\n",
       "  1651.9914685340154,\n",
       "  1773.7665723856944,\n",
       "  1512.2501194442261,\n",
       "  1256.1647924818344],\n",
       " 1531.4633182664422)"
      ]
     },
     "execution_count": 305,
     "metadata": {},
     "output_type": "execute_result"
    }
   ],
   "source": [
    "scores = []\n",
    "for train_index, test_index in kf.split(xtrain3):\n",
    "    X_train, X_test = xtrain3.loc[train_index], xtrain3.loc[test_index]\n",
    "    y_train, y_test = ytrain3[train_index], ytrain3[test_index]\n",
    "\n",
    "    model = GradientBoostingRegressor(n_estimators=300, random_state=13)\n",
    "    model.fit(X_train, y_train)\n",
    "\n",
    "    y_pred = model.predict(X_test)\n",
    "\n",
    "    scores.append(np.sqrt(np.mean((y_pred-y_test)**2)))\n",
    "    \n",
    "scores, np.mean(scores)"
   ]
  },
  {
   "cell_type": "code",
   "execution_count": 306,
   "metadata": {},
   "outputs": [],
   "source": [
    "model.fit(xtrain3, ytrain3)\n",
    "gb_pred = model.predict(xtest2)\n",
    "\n",
    "# Clip the negative values to 0\n",
    "gb_prediction = pd.DataFrame({'ID': test.ID, 'Upvotes': gb_pred})\n",
    "gb_prediction.Upvotes = gb_prediction.Upvotes.clip(0)\n",
    "gb_prediction.to_csv(\"gb_prediction3.csv\", index_label = False)"
   ]
  },
  {
   "cell_type": "code",
   "execution_count": null,
   "metadata": {},
   "outputs": [],
   "source": []
  },
  {
   "cell_type": "markdown",
   "metadata": {},
   "source": [
    "XGBoost"
   ]
  },
  {
   "cell_type": "code",
   "execution_count": 307,
   "metadata": {},
   "outputs": [
    {
     "name": "stdout",
     "output_type": "stream",
     "text": [
      "[03:10:37] WARNING: src/objective/regression_obj.cu:152: reg:linear is now deprecated in favor of reg:squarederror.\n",
      "[03:11:40] WARNING: src/objective/regression_obj.cu:152: reg:linear is now deprecated in favor of reg:squarederror.\n",
      "[03:12:42] WARNING: src/objective/regression_obj.cu:152: reg:linear is now deprecated in favor of reg:squarederror.\n",
      "[03:13:44] WARNING: src/objective/regression_obj.cu:152: reg:linear is now deprecated in favor of reg:squarederror.\n",
      "[03:14:46] WARNING: src/objective/regression_obj.cu:152: reg:linear is now deprecated in favor of reg:squarederror.\n"
     ]
    },
    {
     "data": {
      "text/plain": [
       "([1417.7619182362052,\n",
       "  1621.9609125787917,\n",
       "  1632.3970592275814,\n",
       "  1466.475834202726,\n",
       "  1220.6975472780473],\n",
       " 1471.8586543046706)"
      ]
     },
     "execution_count": 307,
     "metadata": {},
     "output_type": "execute_result"
    }
   ],
   "source": [
    "scores = []\n",
    "for train_index, test_index in kf.split(xtrain3):\n",
    "    X_train, X_test = xtrain3.loc[train_index], xtrain3.loc[test_index]\n",
    "    y_train, y_test = ytrain3[train_index], ytrain3[test_index]\n",
    "\n",
    "    model = XGBRegressor(n_estimators=300, random_state=13)\n",
    "    model.fit(X_train, y_train, )\n",
    "\n",
    "    y_pred = model.predict(X_test)\n",
    "\n",
    "    scores.append(np.sqrt(np.mean((y_pred-y_test)**2)))\n",
    "    \n",
    "scores, np.mean(scores)"
   ]
  },
  {
   "cell_type": "code",
   "execution_count": 308,
   "metadata": {},
   "outputs": [
    {
     "data": {
      "image/png": "[encoded data removed]",
      "text/plain": [
       "<Figure size 432x288 with 1 Axes>"
      ]
     },
     "metadata": {
      "needs_background": "light"
     },
     "output_type": "display_data"
    }
   ],
   "source": [
    "xgb.plot_importance(model)\n",
    "plt.show()"
   ]
  },
  {
   "cell_type": "code",
   "execution_count": 309,
   "metadata": {
    "scrolled": true
   },
   "outputs": [
    {
     "name": "stdout",
     "output_type": "stream",
     "text": [
      "[03:15:48] WARNING: src/objective/regression_obj.cu:152: reg:linear is now deprecated in favor of reg:squarederror.\n"
     ]
    },
    {
     "ename": "ValueError",
     "evalue": "feature_names mismatch: ['View_scaled', 'Rep_scaled', 'ans_scaled', 'a', 'c', 'h', 'i', 'j', 'o', 'p', 'r', 's', 'x'] ['Reputation', 'Answers', 'Views_x', 'View_scaled', 'a', 'c', 'h', 'i', 'j', 'o', 'p', 'r', 's', 'x']\nexpected Rep_scaled, ans_scaled in input data\ntraining data did not have the following fields: Answers, Views_x, Reputation",
     "output_type": "error",
     "traceback": [
      "\u001b[0;31m---------------------------------------------------------------------------\u001b[0m",
      "\u001b[0;31mValueError\u001b[0m                                Traceback (most recent call last)",
      "\u001b[0;32m<ipython-input-309-b31a3d1cafdd>\u001b[0m in \u001b[0;36m<module>\u001b[0;34m\u001b[0m\n\u001b[1;32m      1\u001b[0m \u001b[0mmodel\u001b[0m\u001b[0;34m.\u001b[0m\u001b[0mfit\u001b[0m\u001b[0;34m(\u001b[0m\u001b[0mxtrain3\u001b[0m\u001b[0;34m,\u001b[0m \u001b[0mytrain3\u001b[0m\u001b[0;34m)\u001b[0m\u001b[0;34m\u001b[0m\u001b[0;34m\u001b[0m\u001b[0m\n\u001b[0;32m----> 2\u001b[0;31m \u001b[0mxgb_pred\u001b[0m \u001b[0;34m=\u001b[0m \u001b[0mmodel\u001b[0m\u001b[0;34m.\u001b[0m\u001b[0mpredict\u001b[0m\u001b[0;34m(\u001b[0m\u001b[0mxtest3\u001b[0m\u001b[0;34m)\u001b[0m\u001b[0;34m\u001b[0m\u001b[0;34m\u001b[0m\u001b[0m\n\u001b[0m\u001b[1;32m      3\u001b[0m \u001b[0;34m\u001b[0m\u001b[0m\n\u001b[1;32m      4\u001b[0m \u001b[0;31m# Clip the negative values to 0\u001b[0m\u001b[0;34m\u001b[0m\u001b[0;34m\u001b[0m\u001b[0;34m\u001b[0m\u001b[0m\n\u001b[1;32m      5\u001b[0m \u001b[0mxgb_prediction\u001b[0m \u001b[0;34m=\u001b[0m \u001b[0mpd\u001b[0m\u001b[0;34m.\u001b[0m\u001b[0mDataFrame\u001b[0m\u001b[0;34m(\u001b[0m\u001b[0;34m{\u001b[0m\u001b[0;34m'ID'\u001b[0m\u001b[0;34m:\u001b[0m \u001b[0mtest\u001b[0m\u001b[0;34m.\u001b[0m\u001b[0mID\u001b[0m\u001b[0;34m,\u001b[0m \u001b[0;34m'Upvotes'\u001b[0m\u001b[0;34m:\u001b[0m \u001b[0mxgb_pred\u001b[0m\u001b[0;34m}\u001b[0m\u001b[0;34m)\u001b[0m\u001b[0;34m\u001b[0m\u001b[0;34m\u001b[0m\u001b[0m\n",
      "\u001b[0;32m/usr/local/anaconda3/lib/python3.7/site-packages/xgboost/sklearn.py\u001b[0m in \u001b[0;36mpredict\u001b[0;34m(self, data, output_margin, ntree_limit, validate_features)\u001b[0m\n\u001b[1;32m    454\u001b[0m                                           \u001b[0moutput_margin\u001b[0m\u001b[0;34m=\u001b[0m\u001b[0moutput_margin\u001b[0m\u001b[0;34m,\u001b[0m\u001b[0;34m\u001b[0m\u001b[0;34m\u001b[0m\u001b[0m\n\u001b[1;32m    455\u001b[0m                                           \u001b[0mntree_limit\u001b[0m\u001b[0;34m=\u001b[0m\u001b[0mntree_limit\u001b[0m\u001b[0;34m,\u001b[0m\u001b[0;34m\u001b[0m\u001b[0;34m\u001b[0m\u001b[0m\n\u001b[0;32m--> 456\u001b[0;31m                                           validate_features=validate_features)\n\u001b[0m\u001b[1;32m    457\u001b[0m \u001b[0;34m\u001b[0m\u001b[0m\n\u001b[1;32m    458\u001b[0m     \u001b[0;32mdef\u001b[0m \u001b[0mapply\u001b[0m\u001b[0;34m(\u001b[0m\u001b[0mself\u001b[0m\u001b[0;34m,\u001b[0m \u001b[0mX\u001b[0m\u001b[0;34m,\u001b[0m \u001b[0mntree_limit\u001b[0m\u001b[0;34m=\u001b[0m\u001b[0;36m0\u001b[0m\u001b[0;34m)\u001b[0m\u001b[0;34m:\u001b[0m\u001b[0;34m\u001b[0m\u001b[0;34m\u001b[0m\u001b[0m\n",
      "\u001b[0;32m/usr/local/anaconda3/lib/python3.7/site-packages/xgboost/core.py\u001b[0m in \u001b[0;36mpredict\u001b[0;34m(self, data, output_margin, ntree_limit, pred_leaf, pred_contribs, approx_contribs, pred_interactions, validate_features)\u001b[0m\n\u001b[1;32m   1282\u001b[0m \u001b[0;34m\u001b[0m\u001b[0m\n\u001b[1;32m   1283\u001b[0m         \u001b[0;32mif\u001b[0m \u001b[0mvalidate_features\u001b[0m\u001b[0;34m:\u001b[0m\u001b[0;34m\u001b[0m\u001b[0;34m\u001b[0m\u001b[0m\n\u001b[0;32m-> 1284\u001b[0;31m             \u001b[0mself\u001b[0m\u001b[0;34m.\u001b[0m\u001b[0m_validate_features\u001b[0m\u001b[0;34m(\u001b[0m\u001b[0mdata\u001b[0m\u001b[0;34m)\u001b[0m\u001b[0;34m\u001b[0m\u001b[0;34m\u001b[0m\u001b[0m\n\u001b[0m\u001b[1;32m   1285\u001b[0m \u001b[0;34m\u001b[0m\u001b[0m\n\u001b[1;32m   1286\u001b[0m         \u001b[0mlength\u001b[0m \u001b[0;34m=\u001b[0m \u001b[0mc_bst_ulong\u001b[0m\u001b[0;34m(\u001b[0m\u001b[0;34m)\u001b[0m\u001b[0;34m\u001b[0m\u001b[0;34m\u001b[0m\u001b[0m\n",
      "\u001b[0;32m/usr/local/anaconda3/lib/python3.7/site-packages/xgboost/core.py\u001b[0m in \u001b[0;36m_validate_features\u001b[0;34m(self, data)\u001b[0m\n\u001b[1;32m   1688\u001b[0m \u001b[0;34m\u001b[0m\u001b[0m\n\u001b[1;32m   1689\u001b[0m                 raise ValueError(msg.format(self.feature_names,\n\u001b[0;32m-> 1690\u001b[0;31m                                             data.feature_names))\n\u001b[0m\u001b[1;32m   1691\u001b[0m \u001b[0;34m\u001b[0m\u001b[0m\n\u001b[1;32m   1692\u001b[0m     \u001b[0;32mdef\u001b[0m \u001b[0mget_split_value_histogram\u001b[0m\u001b[0;34m(\u001b[0m\u001b[0mself\u001b[0m\u001b[0;34m,\u001b[0m \u001b[0mfeature\u001b[0m\u001b[0;34m,\u001b[0m \u001b[0mfmap\u001b[0m\u001b[0;34m=\u001b[0m\u001b[0;34m''\u001b[0m\u001b[0;34m,\u001b[0m \u001b[0mbins\u001b[0m\u001b[0;34m=\u001b[0m\u001b[0;32mNone\u001b[0m\u001b[0;34m,\u001b[0m \u001b[0mas_pandas\u001b[0m\u001b[0;34m=\u001b[0m\u001b[0;32mTrue\u001b[0m\u001b[0;34m)\u001b[0m\u001b[0;34m:\u001b[0m\u001b[0;34m\u001b[0m\u001b[0;34m\u001b[0m\u001b[0m\n",
      "\u001b[0;31mValueError\u001b[0m: feature_names mismatch: ['View_scaled', 'Rep_scaled', 'ans_scaled', 'a', 'c', 'h', 'i', 'j', 'o', 'p', 'r', 's', 'x'] ['Reputation', 'Answers', 'Views_x', 'View_scaled', 'a', 'c', 'h', 'i', 'j', 'o', 'p', 'r', 's', 'x']\nexpected Rep_scaled, ans_scaled in input data\ntraining data did not have the following fields: Answers, Views_x, Reputation"
     ]
    }
   ],
   "source": [
    "model.fit(xtrain3, ytrain3)\n",
    "xgb_pred = model.predict(xtest3)\n",
    "\n",
    "# Clip the negative values to 0\n",
    "xgb_prediction = pd.DataFrame({'ID': test.ID, 'Upvotes': xgb_pred})\n",
    "xgb_prediction.Upvotes = xgb_prediction.Upvotes.clip(0)\n",
    "xgb_prediction.to_csv(\"xgb_prediction3.csv\", index_label = False)"
   ]
  },
  {
   "cell_type": "code",
   "execution_count": null,
   "metadata": {},
   "outputs": [],
   "source": []
  },
  {
   "cell_type": "code",
   "execution_count": null,
   "metadata": {},
   "outputs": [],
   "source": []
  },
  {
   "cell_type": "markdown",
   "metadata": {},
   "source": [
    "## Grid Search "
   ]
  },
  {
   "cell_type": "code",
   "execution_count": 24,
   "metadata": {},
   "outputs": [],
   "source": [
    "from sklearn.model_selection import GridSearchCV"
   ]
  },
  {
   "cell_type": "code",
   "execution_count": 118,
   "metadata": {},
   "outputs": [],
   "source": [
    "para_grid_rf = {'n_estimators' :[100,200]}\n",
    "\n",
    "para_grid_gb = {'n_estimators' :[100,200]}\n",
    "\n",
    "para_grid_bag = {'n_estimators' :[100,200]}"
   ]
  },
  {
   "cell_type": "code",
   "execution_count": null,
   "metadata": {},
   "outputs": [],
   "source": []
  },
  {
   "cell_type": "code",
   "execution_count": null,
   "metadata": {},
   "outputs": [],
   "source": [
    "rf = RandomForestRegressor()\n",
    "reg = GridSearchCV(estimator=rf, cv= 1, scoring='neg_mean_squared_error', param_grid=para_grid_rf)\n",
    "reg.fit(X,y)"
   ]
  },
  {
   "cell_type": "code",
   "execution_count": null,
   "metadata": {},
   "outputs": [],
   "source": [
    "gb = GradientBoostingRegressor()\n",
    "reg = GridSearchCV(estimator=gb, cv= 1, scoring='neg_mean_squared_error', param_grid=para_grid_gb)\n",
    "reg.fit(X,y)"
   ]
  },
  {
   "cell_type": "code",
   "execution_count": null,
   "metadata": {},
   "outputs": [],
   "source": [
    "bag = BaggingRegressor()\n",
    "reg = GridSearchCV(estimator=bag, cv= 1, scoring='neg_mean_squared_error', param_grid=para_grid_bag)\n",
    "reg.fit(X,y)"
   ]
  },
  {
   "cell_type": "code",
   "execution_count": 30,
   "metadata": {
    "collapsed": true,
    "jupyter": {
     "outputs_hidden": true
    }
   },
   "outputs": [
    {
     "name": "stdout",
     "output_type": "stream",
     "text": [
      "Collecting package metadata (current_repodata.json): done\n",
      "Solving environment: done\n",
      "\n",
      "## Package Plan ##\n",
      "\n",
      "  environment location: /usr/local/anaconda3\n",
      "\n",
      "  added / updated specs:\n",
      "    - graphviz\n",
      "\n",
      "\n",
      "The following packages will be downloaded:\n",
      "\n",
      "    package                    |            build\n",
      "    ---------------------------|-----------------\n",
      "    ca-certificates-2020.1.1   |                0         125 KB\n",
      "    cairo-1.14.12              |       hc4e6be7_4         860 KB\n",
      "    certifi-2019.11.28         |           py37_0         153 KB\n",
      "    conda-4.8.3                |           py37_0         2.8 MB\n",
      "    fontconfig-2.13.0          |       h5d5b041_1         202 KB\n",
      "    fribidi-1.0.5              |       h1de35cc_0          60 KB\n",
      "    graphite2-1.3.13           |       h2098e52_0          80 KB\n",
      "    graphviz-2.40.1            |       hefbbd9a_2         6.3 MB\n",
      "    harfbuzz-1.8.8             |       hb8d4a28_0         414 KB\n",
      "    openssl-1.1.1d             |       h1de35cc_4         2.2 MB\n",
      "    pango-1.42.4               |       h7e27002_1         456 KB\n",
      "    pixman-0.38.0              |       h1de35cc_0         341 KB\n",
      "    ------------------------------------------------------------\n",
      "                                           Total:        14.0 MB\n",
      "\n",
      "The following NEW packages will be INSTALLED:\n",
      "\n",
      "  cairo              pkgs/main/osx-64::cairo-1.14.12-hc4e6be7_4\n",
      "  fontconfig         pkgs/main/osx-64::fontconfig-2.13.0-h5d5b041_1\n",
      "  fribidi            pkgs/main/osx-64::fribidi-1.0.5-h1de35cc_0\n",
      "  graphite2          pkgs/main/osx-64::graphite2-1.3.13-h2098e52_0\n",
      "  graphviz           pkgs/main/osx-64::graphviz-2.40.1-hefbbd9a_2\n",
      "  harfbuzz           pkgs/main/osx-64::harfbuzz-1.8.8-hb8d4a28_0\n",
      "  pango              pkgs/main/osx-64::pango-1.42.4-h7e27002_1\n",
      "  pixman             pkgs/main/osx-64::pixman-0.38.0-h1de35cc_0\n",
      "\n",
      "The following packages will be SUPERSEDED by a higher-priority channel:\n",
      "\n",
      "  ca-certificates                                  anaconda --> pkgs/main\n",
      "  certifi                                          anaconda --> pkgs/main\n",
      "  conda                                            anaconda --> pkgs/main\n",
      "  openssl                                          anaconda --> pkgs/main\n",
      "\n",
      "\n",
      "\n",
      "Downloading and Extracting Packages\n",
      "fribidi-1.0.5        | 60 KB     | ##################################### | 100% \n",
      "cairo-1.14.12        | 860 KB    | ##################################### | 100% \n",
      "openssl-1.1.1d       | 2.2 MB    | ##################################### | 100% \n",
      "pango-1.42.4         | 456 KB    | ##################################### | 100% \n",
      "conda-4.8.3          | 2.8 MB    | ##################################### | 100% \n",
      "graphviz-2.40.1      | 6.3 MB    | ##################################### | 100% \n",
      "pixman-0.38.0        | 341 KB    | ##################################### | 100% \n",
      "certifi-2019.11.28   | 153 KB    | ##################################### | 100% \n",
      "graphite2-1.3.13     | 80 KB     | ##################################### | 100% \n",
      "fontconfig-2.13.0    | 202 KB    | ##################################### | 100% \n",
      "ca-certificates-2020 | 125 KB    | ##################################### | 100% \n",
      "harfbuzz-1.8.8       | 414 KB    | ##################################### | 100% \n",
      "Preparing transaction: done\n",
      "Verifying transaction: done\n",
      "Executing transaction: done\n",
      "\n",
      "Note: you may need to restart the kernel to use updated packages.\n"
     ]
    }
   ],
   "source": [
    "#conda install graphviz"
   ]
  },
  {
   "cell_type": "code",
   "execution_count": null,
   "metadata": {},
   "outputs": [],
   "source": []
  },
  {
   "cell_type": "markdown",
   "metadata": {},
   "source": [
    "## Neural Nets"
   ]
  },
  {
   "cell_type": "code",
   "execution_count": 218,
   "metadata": {},
   "outputs": [],
   "source": [
    "X = xtrain2\n",
    "y = train[['Upvotes']].values.ravel()"
   ]
  },
  {
   "cell_type": "code",
   "execution_count": 30,
   "metadata": {
    "collapsed": true
   },
   "outputs": [
    {
     "name": "stderr",
     "output_type": "stream",
     "text": [
      "Using TensorFlow backend.\n",
      "/usr/local/anaconda3/lib/python3.7/site-packages/tensorflow/python/framework/dtypes.py:516: FutureWarning: Passing (type, 1) or '1type' as a synonym of type is deprecated; in a future version of numpy, it will be understood as (type, (1,)) / '(1,)type'.\n",
      "  _np_qint8 = np.dtype([(\"qint8\", np.int8, 1)])\n",
      "/usr/local/anaconda3/lib/python3.7/site-packages/tensorflow/python/framework/dtypes.py:517: FutureWarning: Passing (type, 1) or '1type' as a synonym of type is deprecated; in a future version of numpy, it will be understood as (type, (1,)) / '(1,)type'.\n",
      "  _np_quint8 = np.dtype([(\"quint8\", np.uint8, 1)])\n",
      "/usr/local/anaconda3/lib/python3.7/site-packages/tensorflow/python/framework/dtypes.py:518: FutureWarning: Passing (type, 1) or '1type' as a synonym of type is deprecated; in a future version of numpy, it will be understood as (type, (1,)) / '(1,)type'.\n",
      "  _np_qint16 = np.dtype([(\"qint16\", np.int16, 1)])\n",
      "/usr/local/anaconda3/lib/python3.7/site-packages/tensorflow/python/framework/dtypes.py:519: FutureWarning: Passing (type, 1) or '1type' as a synonym of type is deprecated; in a future version of numpy, it will be understood as (type, (1,)) / '(1,)type'.\n",
      "  _np_quint16 = np.dtype([(\"quint16\", np.uint16, 1)])\n",
      "/usr/local/anaconda3/lib/python3.7/site-packages/tensorflow/python/framework/dtypes.py:520: FutureWarning: Passing (type, 1) or '1type' as a synonym of type is deprecated; in a future version of numpy, it will be understood as (type, (1,)) / '(1,)type'.\n",
      "  _np_qint32 = np.dtype([(\"qint32\", np.int32, 1)])\n",
      "/usr/local/anaconda3/lib/python3.7/site-packages/tensorflow/python/framework/dtypes.py:525: FutureWarning: Passing (type, 1) or '1type' as a synonym of type is deprecated; in a future version of numpy, it will be understood as (type, (1,)) / '(1,)type'.\n",
      "  np_resource = np.dtype([(\"resource\", np.ubyte, 1)])\n",
      "/usr/local/anaconda3/lib/python3.7/site-packages/tensorboard/compat/tensorflow_stub/dtypes.py:541: FutureWarning: Passing (type, 1) or '1type' as a synonym of type is deprecated; in a future version of numpy, it will be understood as (type, (1,)) / '(1,)type'.\n",
      "  _np_qint8 = np.dtype([(\"qint8\", np.int8, 1)])\n",
      "/usr/local/anaconda3/lib/python3.7/site-packages/tensorboard/compat/tensorflow_stub/dtypes.py:542: FutureWarning: Passing (type, 1) or '1type' as a synonym of type is deprecated; in a future version of numpy, it will be understood as (type, (1,)) / '(1,)type'.\n",
      "  _np_quint8 = np.dtype([(\"quint8\", np.uint8, 1)])\n",
      "/usr/local/anaconda3/lib/python3.7/site-packages/tensorboard/compat/tensorflow_stub/dtypes.py:543: FutureWarning: Passing (type, 1) or '1type' as a synonym of type is deprecated; in a future version of numpy, it will be understood as (type, (1,)) / '(1,)type'.\n",
      "  _np_qint16 = np.dtype([(\"qint16\", np.int16, 1)])\n",
      "/usr/local/anaconda3/lib/python3.7/site-packages/tensorboard/compat/tensorflow_stub/dtypes.py:544: FutureWarning: Passing (type, 1) or '1type' as a synonym of type is deprecated; in a future version of numpy, it will be understood as (type, (1,)) / '(1,)type'.\n",
      "  _np_quint16 = np.dtype([(\"quint16\", np.uint16, 1)])\n",
      "/usr/local/anaconda3/lib/python3.7/site-packages/tensorboard/compat/tensorflow_stub/dtypes.py:545: FutureWarning: Passing (type, 1) or '1type' as a synonym of type is deprecated; in a future version of numpy, it will be understood as (type, (1,)) / '(1,)type'.\n",
      "  _np_qint32 = np.dtype([(\"qint32\", np.int32, 1)])\n",
      "/usr/local/anaconda3/lib/python3.7/site-packages/tensorboard/compat/tensorflow_stub/dtypes.py:550: FutureWarning: Passing (type, 1) or '1type' as a synonym of type is deprecated; in a future version of numpy, it will be understood as (type, (1,)) / '(1,)type'.\n",
      "  np_resource = np.dtype([(\"resource\", np.ubyte, 1)])\n"
     ]
    }
   ],
   "source": [
    "from keras.wrappers.scikit_learn import KerasRegressor\n",
    "from keras.models import Sequential\n",
    "from keras.layers import Dense\n",
    "from sklearn.preprocessing import StandardScaler\n",
    "from sklearn.pipeline import Pipeline\n",
    "from sklearn.model_selection import cross_val_score"
   ]
  },
  {
   "cell_type": "code",
   "execution_count": 149,
   "metadata": {},
   "outputs": [],
   "source": [
    "def base_model():\n",
    "    model = Sequential()\n",
    "    model.add(Dense(3, input_dim = 13, activation = 'relu'))\n",
    "    model.add(Dense(16,activation = 'relu'))\n",
    "    model.add(Dense(20,activation = 'relu'))\n",
    "    model.add(Dense(16,activation = 'relu'))\n",
    "    model.add(Dense(20,activation = 'relu'))\n",
    "    model.add(Dense(16,activation = 'relu'))\n",
    "    model.add(Dense(1))\n",
    "    model.compile(loss = 'mean_squared_error', optimizer = 'rmsprop')\n",
    "    \n",
    "    return model\n",
    "\n",
    "\n",
    "    "
   ]
  },
  {
   "cell_type": "code",
   "execution_count": 150,
   "metadata": {},
   "outputs": [],
   "source": [
    "estimators = []\n",
    "\n",
    "estimators.append(('standardize', StandardScaler()))\n",
    "estimators.append(('mlp', KerasRegressor(build_fn = base_model, epochs = 25, batch_size = 10, verbose = 2)))\n",
    "\n",
    "pipeline = Pipeline(estimators)\n"
   ]
  },
  {
   "cell_type": "code",
   "execution_count": 151,
   "metadata": {
    "scrolled": true
   },
   "outputs": [
    {
     "name": "stdout",
     "output_type": "stream",
     "text": [
      "Epoch 1/10\n",
      " - 45s - loss: 6918861.8169\n",
      "Epoch 2/10\n",
      " - 45s - loss: 4012411.1356\n",
      "Epoch 3/10\n",
      " - 44s - loss: 3191739.6298\n",
      "Epoch 4/10\n",
      " - 44s - loss: 2954145.5332\n",
      "Epoch 5/10\n",
      " - 39s - loss: 2573628.0703\n",
      "Epoch 6/10\n",
      " - 39s - loss: 2763953.7274\n",
      "Epoch 7/10\n",
      " - 39s - loss: 2500172.3967\n",
      "Epoch 8/10\n",
      " - 39s - loss: 2772329.1868\n",
      "Epoch 9/10\n",
      " - 39s - loss: 2689719.5123\n",
      "Epoch 10/10\n",
      " - 39s - loss: 2619975.4242\n",
      "Epoch 1/10\n",
      " - 41s - loss: 7993391.9329\n",
      "Epoch 2/10\n",
      " - 43s - loss: 5855101.6925\n",
      "Epoch 3/10\n",
      " - 45s - loss: 5296959.8579\n",
      "Epoch 4/10\n",
      " - 45s - loss: 4828241.6872\n",
      "Epoch 5/10\n",
      " - 45s - loss: 4930120.4618\n",
      "Epoch 6/10\n",
      " - 45s - loss: 4587058.1987\n",
      "Epoch 7/10\n",
      " - 46s - loss: 4926382.1781\n",
      "Epoch 8/10\n",
      " - 45s - loss: 5103402.8874\n",
      "Epoch 9/10\n",
      " - 45s - loss: 5244588.9950\n",
      "Epoch 10/10\n",
      " - 46s - loss: 5278044.6888\n",
      "Epoch 1/10\n",
      " - 45s - loss: 10811634.1029\n",
      "Epoch 2/10\n",
      " - 44s - loss: 6791633.5751\n",
      "Epoch 3/10\n",
      " - 44s - loss: 6246616.1551\n",
      "Epoch 4/10\n",
      " - 44s - loss: 5253349.7842\n",
      "Epoch 5/10\n",
      " - 44s - loss: 5179798.1674\n",
      "Epoch 6/10\n",
      " - 40s - loss: 4859606.4502\n",
      "Epoch 7/10\n",
      " - 39s - loss: 4946672.7484\n",
      "Epoch 8/10\n",
      " - 39s - loss: 5111139.5752\n",
      "Epoch 9/10\n",
      " - 39s - loss: 5139590.5780\n",
      "Epoch 10/10\n",
      " - 39s - loss: 4562355.6220\n",
      "Epoch 1/10\n",
      " - 42s - loss: 10864662.0098\n",
      "Epoch 2/10\n",
      " - 41s - loss: 7406595.7298\n",
      "Epoch 3/10\n",
      " - 41s - loss: 5192423.4120\n",
      "Epoch 4/10\n",
      " - 41s - loss: 4337157.5721\n",
      "Epoch 5/10\n",
      " - 41s - loss: 4271794.7058\n",
      "Epoch 6/10\n",
      " - 41s - loss: 4065090.1739\n",
      "Epoch 7/10\n",
      " - 41s - loss: 3872129.6760\n",
      "Epoch 8/10\n",
      " - 41s - loss: 4015798.8134\n",
      "Epoch 9/10\n",
      " - 41s - loss: 4038060.8353\n",
      "Epoch 10/10\n",
      " - 41s - loss: 4162956.3793\n",
      "Epoch 1/10\n",
      " - 41s - loss: 10228954.1536\n",
      "Epoch 2/10\n",
      " - 41s - loss: 9049950.8586\n",
      "Epoch 3/10\n",
      " - 41s - loss: 6157007.7469\n",
      "Epoch 4/10\n",
      " - 41s - loss: 5253521.6317\n",
      "Epoch 5/10\n",
      " - 41s - loss: 4573336.9017\n",
      "Epoch 6/10\n",
      " - 41s - loss: 4063648.1530\n",
      "Epoch 7/10\n",
      " - 41s - loss: 4056498.9981\n",
      "Epoch 8/10\n",
      " - 41s - loss: 4024682.5678\n",
      "Epoch 9/10\n",
      " - 41s - loss: 4452249.3832\n",
      "Epoch 10/10\n",
      " - 41s - loss: 3671215.9281\n",
      "  RMSE: 1949.50 \n"
     ]
    }
   ],
   "source": [
    "results = cross_val_score(pipeline, X, y, cv = 5)\n",
    "print(\"  RMSE: %.2f \" % (np.sqrt(-results.mean())))"
   ]
  },
  {
   "cell_type": "code",
   "execution_count": null,
   "metadata": {},
   "outputs": [],
   "source": []
  },
  {
   "cell_type": "code",
   "execution_count": 74,
   "metadata": {},
   "outputs": [],
   "source": [
    "#conda install -c anaconda py-xgboost"
   ]
  },
  {
   "cell_type": "markdown",
   "metadata": {},
   "source": [
    "## Data Transformation"
   ]
  },
  {
   "cell_type": "code",
   "execution_count": 194,
   "metadata": {},
   "outputs": [
    {
     "data": {
      "text/plain": [
       "Index(['ID', 'Tag', 'Reputation', 'Answers', 'Username', 'Views', 'Upvotes',\n",
       "       'Tag_transform', 'a', 'c', 'h', 'i', 'j', 'o', 'p', 'r', 's', 'x',\n",
       "       'ViewsperAnswer'],\n",
       "      dtype='object')"
      ]
     },
     "execution_count": 194,
     "metadata": {},
     "output_type": "execute_result"
    }
   ],
   "source": [
    "train3.columns"
   ]
  },
  {
   "cell_type": "code",
   "execution_count": 196,
   "metadata": {},
   "outputs": [
    {
     "data": {
      "text/html": [
       "<div>\n",
       "<style scoped>\n",
       "    .dataframe tbody tr th:only-of-type {\n",
       "        vertical-align: middle;\n",
       "    }\n",
       "\n",
       "    .dataframe tbody tr th {\n",
       "        vertical-align: top;\n",
       "    }\n",
       "\n",
       "    .dataframe thead th {\n",
       "        text-align: right;\n",
       "    }\n",
       "</style>\n",
       "<table border=\"1\" class=\"dataframe\">\n",
       "  <thead>\n",
       "    <tr style=\"text-align: right;\">\n",
       "      <th></th>\n",
       "      <th>ID</th>\n",
       "      <th>Tag</th>\n",
       "      <th>Reputation</th>\n",
       "      <th>Answers</th>\n",
       "      <th>Username</th>\n",
       "      <th>Views</th>\n",
       "      <th>Upvotes</th>\n",
       "      <th>Tag_transform</th>\n",
       "      <th>a</th>\n",
       "      <th>c</th>\n",
       "      <th>h</th>\n",
       "      <th>i</th>\n",
       "      <th>j</th>\n",
       "      <th>o</th>\n",
       "      <th>p</th>\n",
       "      <th>r</th>\n",
       "      <th>s</th>\n",
       "      <th>x</th>\n",
       "      <th>ViewsperAnswer</th>\n",
       "    </tr>\n",
       "  </thead>\n",
       "  <tbody>\n",
       "    <tr>\n",
       "      <th>0</th>\n",
       "      <td>52664</td>\n",
       "      <td>a</td>\n",
       "      <td>3942</td>\n",
       "      <td>2</td>\n",
       "      <td>155623</td>\n",
       "      <td>7855</td>\n",
       "      <td>42</td>\n",
       "      <td>0</td>\n",
       "      <td>1</td>\n",
       "      <td>0</td>\n",
       "      <td>0</td>\n",
       "      <td>0</td>\n",
       "      <td>0</td>\n",
       "      <td>0</td>\n",
       "      <td>0</td>\n",
       "      <td>0</td>\n",
       "      <td>0</td>\n",
       "      <td>0</td>\n",
       "      <td>3927.500000</td>\n",
       "    </tr>\n",
       "    <tr>\n",
       "      <th>1</th>\n",
       "      <td>327662</td>\n",
       "      <td>a</td>\n",
       "      <td>26046</td>\n",
       "      <td>12</td>\n",
       "      <td>21781</td>\n",
       "      <td>55801</td>\n",
       "      <td>1175</td>\n",
       "      <td>0</td>\n",
       "      <td>1</td>\n",
       "      <td>0</td>\n",
       "      <td>0</td>\n",
       "      <td>0</td>\n",
       "      <td>0</td>\n",
       "      <td>0</td>\n",
       "      <td>0</td>\n",
       "      <td>0</td>\n",
       "      <td>0</td>\n",
       "      <td>0</td>\n",
       "      <td>4650.083333</td>\n",
       "    </tr>\n",
       "    <tr>\n",
       "      <th>2</th>\n",
       "      <td>468453</td>\n",
       "      <td>c</td>\n",
       "      <td>1358</td>\n",
       "      <td>4</td>\n",
       "      <td>56177</td>\n",
       "      <td>8067</td>\n",
       "      <td>60</td>\n",
       "      <td>1</td>\n",
       "      <td>0</td>\n",
       "      <td>1</td>\n",
       "      <td>0</td>\n",
       "      <td>0</td>\n",
       "      <td>0</td>\n",
       "      <td>0</td>\n",
       "      <td>0</td>\n",
       "      <td>0</td>\n",
       "      <td>0</td>\n",
       "      <td>0</td>\n",
       "      <td>2016.750000</td>\n",
       "    </tr>\n",
       "    <tr>\n",
       "      <th>3</th>\n",
       "      <td>96996</td>\n",
       "      <td>a</td>\n",
       "      <td>264</td>\n",
       "      <td>3</td>\n",
       "      <td>168793</td>\n",
       "      <td>27064</td>\n",
       "      <td>9</td>\n",
       "      <td>0</td>\n",
       "      <td>1</td>\n",
       "      <td>0</td>\n",
       "      <td>0</td>\n",
       "      <td>0</td>\n",
       "      <td>0</td>\n",
       "      <td>0</td>\n",
       "      <td>0</td>\n",
       "      <td>0</td>\n",
       "      <td>0</td>\n",
       "      <td>0</td>\n",
       "      <td>9021.333333</td>\n",
       "    </tr>\n",
       "    <tr>\n",
       "      <th>4</th>\n",
       "      <td>131465</td>\n",
       "      <td>c</td>\n",
       "      <td>4271</td>\n",
       "      <td>4</td>\n",
       "      <td>112223</td>\n",
       "      <td>13986</td>\n",
       "      <td>83</td>\n",
       "      <td>1</td>\n",
       "      <td>0</td>\n",
       "      <td>1</td>\n",
       "      <td>0</td>\n",
       "      <td>0</td>\n",
       "      <td>0</td>\n",
       "      <td>0</td>\n",
       "      <td>0</td>\n",
       "      <td>0</td>\n",
       "      <td>0</td>\n",
       "      <td>0</td>\n",
       "      <td>3496.500000</td>\n",
       "    </tr>\n",
       "  </tbody>\n",
       "</table>\n",
       "</div>"
      ],
      "text/plain": [
       "       ID Tag  Reputation  Answers  Username  Views  Upvotes  Tag_transform  \\\n",
       "0   52664   a        3942        2    155623   7855       42              0   \n",
       "1  327662   a       26046       12     21781  55801     1175              0   \n",
       "2  468453   c        1358        4     56177   8067       60              1   \n",
       "3   96996   a         264        3    168793  27064        9              0   \n",
       "4  131465   c        4271        4    112223  13986       83              1   \n",
       "\n",
       "   a  c  h  i  j  o  p  r  s  x  ViewsperAnswer  \n",
       "0  1  0  0  0  0  0  0  0  0  0     3927.500000  \n",
       "1  1  0  0  0  0  0  0  0  0  0     4650.083333  \n",
       "2  0  1  0  0  0  0  0  0  0  0     2016.750000  \n",
       "3  1  0  0  0  0  0  0  0  0  0     9021.333333  \n",
       "4  0  1  0  0  0  0  0  0  0  0     3496.500000  "
      ]
     },
     "execution_count": 196,
     "metadata": {},
     "output_type": "execute_result"
    }
   ],
   "source": [
    "train3.head()"
   ]
  },
  {
   "cell_type": "code",
   "execution_count": 448,
   "metadata": {},
   "outputs": [],
   "source": [
    "train3 = train2"
   ]
  },
  {
   "cell_type": "code",
   "execution_count": 449,
   "metadata": {},
   "outputs": [],
   "source": [
    "test3 = test2"
   ]
  },
  {
   "cell_type": "code",
   "execution_count": 450,
   "metadata": {},
   "outputs": [],
   "source": [
    "train3['ViewsperAnswer'] = train3.Views / train3.Answers"
   ]
  },
  {
   "cell_type": "code",
   "execution_count": 451,
   "metadata": {},
   "outputs": [],
   "source": [
    "test3['ViewsperAnswer'] = test3.Views / test3.Answers"
   ]
  },
  {
   "cell_type": "code",
   "execution_count": 455,
   "metadata": {},
   "outputs": [],
   "source": [
    "xtrain3, xtest3 = xtrain2,xtest2"
   ]
  },
  {
   "cell_type": "code",
   "execution_count": 456,
   "metadata": {},
   "outputs": [],
   "source": [
    "xtrain3['ViewsperAnswer'] = xtrain2.Views / xtrain2.Answers\n",
    "xtest3['ViewsperAnswer'] = xtest2.Views / xtest2.Answers\n",
    "\n",
    "xtrain3.drop(['Answers', 'Views'], axis = 1,inplace = True)\n",
    "xtest3.drop(['Answers', 'Views'], axis = 1,inplace = True)"
   ]
  },
  {
   "cell_type": "code",
   "execution_count": 30,
   "metadata": {},
   "outputs": [
    {
     "data": {
      "text/html": [
       "<div>\n",
       "<style scoped>\n",
       "    .dataframe tbody tr th:only-of-type {\n",
       "        vertical-align: middle;\n",
       "    }\n",
       "\n",
       "    .dataframe tbody tr th {\n",
       "        vertical-align: top;\n",
       "    }\n",
       "\n",
       "    .dataframe thead th {\n",
       "        text-align: right;\n",
       "    }\n",
       "</style>\n",
       "<table border=\"1\" class=\"dataframe\">\n",
       "  <thead>\n",
       "    <tr style=\"text-align: right;\">\n",
       "      <th></th>\n",
       "      <th>Reputation</th>\n",
       "      <th>Answers</th>\n",
       "      <th>Views</th>\n",
       "      <th>a</th>\n",
       "      <th>c</th>\n",
       "      <th>h</th>\n",
       "      <th>i</th>\n",
       "      <th>j</th>\n",
       "      <th>o</th>\n",
       "      <th>p</th>\n",
       "      <th>r</th>\n",
       "      <th>s</th>\n",
       "      <th>x</th>\n",
       "    </tr>\n",
       "  </thead>\n",
       "  <tbody>\n",
       "    <tr>\n",
       "      <th>count</th>\n",
       "      <td>330045.00</td>\n",
       "      <td>330045.00</td>\n",
       "      <td>330045.00</td>\n",
       "      <td>330045.00</td>\n",
       "      <td>330045.00</td>\n",
       "      <td>330045.00</td>\n",
       "      <td>330045.00</td>\n",
       "      <td>330045.00</td>\n",
       "      <td>330045.00</td>\n",
       "      <td>330045.00</td>\n",
       "      <td>330045.00</td>\n",
       "      <td>330045.00</td>\n",
       "      <td>330045.00</td>\n",
       "    </tr>\n",
       "    <tr>\n",
       "      <th>mean</th>\n",
       "      <td>7773.15</td>\n",
       "      <td>3.92</td>\n",
       "      <td>29645.07</td>\n",
       "      <td>0.10</td>\n",
       "      <td>0.22</td>\n",
       "      <td>0.06</td>\n",
       "      <td>0.10</td>\n",
       "      <td>0.22</td>\n",
       "      <td>0.04</td>\n",
       "      <td>0.13</td>\n",
       "      <td>0.04</td>\n",
       "      <td>0.07</td>\n",
       "      <td>0.02</td>\n",
       "    </tr>\n",
       "    <tr>\n",
       "      <th>std</th>\n",
       "      <td>27061.41</td>\n",
       "      <td>3.58</td>\n",
       "      <td>80956.46</td>\n",
       "      <td>0.29</td>\n",
       "      <td>0.41</td>\n",
       "      <td>0.24</td>\n",
       "      <td>0.30</td>\n",
       "      <td>0.41</td>\n",
       "      <td>0.21</td>\n",
       "      <td>0.34</td>\n",
       "      <td>0.19</td>\n",
       "      <td>0.26</td>\n",
       "      <td>0.14</td>\n",
       "    </tr>\n",
       "    <tr>\n",
       "      <th>min</th>\n",
       "      <td>0.00</td>\n",
       "      <td>0.00</td>\n",
       "      <td>9.00</td>\n",
       "      <td>0.00</td>\n",
       "      <td>0.00</td>\n",
       "      <td>0.00</td>\n",
       "      <td>0.00</td>\n",
       "      <td>0.00</td>\n",
       "      <td>0.00</td>\n",
       "      <td>0.00</td>\n",
       "      <td>0.00</td>\n",
       "      <td>0.00</td>\n",
       "      <td>0.00</td>\n",
       "    </tr>\n",
       "    <tr>\n",
       "      <th>25%</th>\n",
       "      <td>282.00</td>\n",
       "      <td>2.00</td>\n",
       "      <td>2594.00</td>\n",
       "      <td>0.00</td>\n",
       "      <td>0.00</td>\n",
       "      <td>0.00</td>\n",
       "      <td>0.00</td>\n",
       "      <td>0.00</td>\n",
       "      <td>0.00</td>\n",
       "      <td>0.00</td>\n",
       "      <td>0.00</td>\n",
       "      <td>0.00</td>\n",
       "      <td>0.00</td>\n",
       "    </tr>\n",
       "    <tr>\n",
       "      <th>50%</th>\n",
       "      <td>1236.00</td>\n",
       "      <td>3.00</td>\n",
       "      <td>8954.00</td>\n",
       "      <td>0.00</td>\n",
       "      <td>0.00</td>\n",
       "      <td>0.00</td>\n",
       "      <td>0.00</td>\n",
       "      <td>0.00</td>\n",
       "      <td>0.00</td>\n",
       "      <td>0.00</td>\n",
       "      <td>0.00</td>\n",
       "      <td>0.00</td>\n",
       "      <td>0.00</td>\n",
       "    </tr>\n",
       "    <tr>\n",
       "      <th>75%</th>\n",
       "      <td>5118.00</td>\n",
       "      <td>5.00</td>\n",
       "      <td>26870.00</td>\n",
       "      <td>0.00</td>\n",
       "      <td>0.00</td>\n",
       "      <td>0.00</td>\n",
       "      <td>0.00</td>\n",
       "      <td>0.00</td>\n",
       "      <td>0.00</td>\n",
       "      <td>0.00</td>\n",
       "      <td>0.00</td>\n",
       "      <td>0.00</td>\n",
       "      <td>0.00</td>\n",
       "    </tr>\n",
       "    <tr>\n",
       "      <th>max</th>\n",
       "      <td>1042428.00</td>\n",
       "      <td>76.00</td>\n",
       "      <td>5231058.00</td>\n",
       "      <td>1.00</td>\n",
       "      <td>1.00</td>\n",
       "      <td>1.00</td>\n",
       "      <td>1.00</td>\n",
       "      <td>1.00</td>\n",
       "      <td>1.00</td>\n",
       "      <td>1.00</td>\n",
       "      <td>1.00</td>\n",
       "      <td>1.00</td>\n",
       "      <td>1.00</td>\n",
       "    </tr>\n",
       "  </tbody>\n",
       "</table>\n",
       "</div>"
      ],
      "text/plain": [
       "       Reputation   Answers      Views         a         c         h  \\\n",
       "count   330045.00 330045.00  330045.00 330045.00 330045.00 330045.00   \n",
       "mean      7773.15      3.92   29645.07      0.10      0.22      0.06   \n",
       "std      27061.41      3.58   80956.46      0.29      0.41      0.24   \n",
       "min          0.00      0.00       9.00      0.00      0.00      0.00   \n",
       "25%        282.00      2.00    2594.00      0.00      0.00      0.00   \n",
       "50%       1236.00      3.00    8954.00      0.00      0.00      0.00   \n",
       "75%       5118.00      5.00   26870.00      0.00      0.00      0.00   \n",
       "max    1042428.00     76.00 5231058.00      1.00      1.00      1.00   \n",
       "\n",
       "              i         j         o         p         r         s         x  \n",
       "count 330045.00 330045.00 330045.00 330045.00 330045.00 330045.00 330045.00  \n",
       "mean       0.10      0.22      0.04      0.13      0.04      0.07      0.02  \n",
       "std        0.30      0.41      0.21      0.34      0.19      0.26      0.14  \n",
       "min        0.00      0.00      0.00      0.00      0.00      0.00      0.00  \n",
       "25%        0.00      0.00      0.00      0.00      0.00      0.00      0.00  \n",
       "50%        0.00      0.00      0.00      0.00      0.00      0.00      0.00  \n",
       "75%        0.00      0.00      0.00      0.00      0.00      0.00      0.00  \n",
       "max        1.00      1.00      1.00      1.00      1.00      1.00      1.00  "
      ]
     },
     "execution_count": 30,
     "metadata": {},
     "output_type": "execute_result"
    }
   ],
   "source": [
    "xtrain2.describe()"
   ]
  },
  {
   "cell_type": "code",
   "execution_count": 31,
   "metadata": {},
   "outputs": [
    {
     "data": {
      "text/html": [
       "<div>\n",
       "<style scoped>\n",
       "    .dataframe tbody tr th:only-of-type {\n",
       "        vertical-align: middle;\n",
       "    }\n",
       "\n",
       "    .dataframe tbody tr th {\n",
       "        vertical-align: top;\n",
       "    }\n",
       "\n",
       "    .dataframe thead th {\n",
       "        text-align: right;\n",
       "    }\n",
       "</style>\n",
       "<table border=\"1\" class=\"dataframe\">\n",
       "  <thead>\n",
       "    <tr style=\"text-align: right;\">\n",
       "      <th></th>\n",
       "      <th>Reputation</th>\n",
       "      <th>Answers</th>\n",
       "      <th>Views</th>\n",
       "      <th>c</th>\n",
       "      <th>h</th>\n",
       "      <th>i</th>\n",
       "      <th>j</th>\n",
       "      <th>o</th>\n",
       "      <th>p</th>\n",
       "      <th>r</th>\n",
       "      <th>s</th>\n",
       "      <th>x</th>\n",
       "    </tr>\n",
       "  </thead>\n",
       "  <tbody>\n",
       "    <tr>\n",
       "      <th>count</th>\n",
       "      <td>141448.00</td>\n",
       "      <td>141448.00</td>\n",
       "      <td>141448.00</td>\n",
       "      <td>141448.00</td>\n",
       "      <td>141448.00</td>\n",
       "      <td>141448.00</td>\n",
       "      <td>141448.00</td>\n",
       "      <td>141448.00</td>\n",
       "      <td>141448.00</td>\n",
       "      <td>141448.00</td>\n",
       "      <td>141448.00</td>\n",
       "      <td>141448.00</td>\n",
       "    </tr>\n",
       "    <tr>\n",
       "      <th>mean</th>\n",
       "      <td>7920.93</td>\n",
       "      <td>3.91</td>\n",
       "      <td>29846.33</td>\n",
       "      <td>0.22</td>\n",
       "      <td>0.06</td>\n",
       "      <td>0.10</td>\n",
       "      <td>0.22</td>\n",
       "      <td>0.04</td>\n",
       "      <td>0.13</td>\n",
       "      <td>0.04</td>\n",
       "      <td>0.07</td>\n",
       "      <td>0.02</td>\n",
       "    </tr>\n",
       "    <tr>\n",
       "      <th>std</th>\n",
       "      <td>27910.72</td>\n",
       "      <td>3.58</td>\n",
       "      <td>80343.74</td>\n",
       "      <td>0.41</td>\n",
       "      <td>0.24</td>\n",
       "      <td>0.30</td>\n",
       "      <td>0.41</td>\n",
       "      <td>0.21</td>\n",
       "      <td>0.34</td>\n",
       "      <td>0.19</td>\n",
       "      <td>0.26</td>\n",
       "      <td>0.14</td>\n",
       "    </tr>\n",
       "    <tr>\n",
       "      <th>min</th>\n",
       "      <td>0.00</td>\n",
       "      <td>0.00</td>\n",
       "      <td>9.00</td>\n",
       "      <td>0.00</td>\n",
       "      <td>0.00</td>\n",
       "      <td>0.00</td>\n",
       "      <td>0.00</td>\n",
       "      <td>0.00</td>\n",
       "      <td>0.00</td>\n",
       "      <td>0.00</td>\n",
       "      <td>0.00</td>\n",
       "      <td>0.00</td>\n",
       "    </tr>\n",
       "    <tr>\n",
       "      <th>25%</th>\n",
       "      <td>286.00</td>\n",
       "      <td>2.00</td>\n",
       "      <td>2608.00</td>\n",
       "      <td>0.00</td>\n",
       "      <td>0.00</td>\n",
       "      <td>0.00</td>\n",
       "      <td>0.00</td>\n",
       "      <td>0.00</td>\n",
       "      <td>0.00</td>\n",
       "      <td>0.00</td>\n",
       "      <td>0.00</td>\n",
       "      <td>0.00</td>\n",
       "    </tr>\n",
       "    <tr>\n",
       "      <th>50%</th>\n",
       "      <td>1245.00</td>\n",
       "      <td>3.00</td>\n",
       "      <td>8977.00</td>\n",
       "      <td>0.00</td>\n",
       "      <td>0.00</td>\n",
       "      <td>0.00</td>\n",
       "      <td>0.00</td>\n",
       "      <td>0.00</td>\n",
       "      <td>0.00</td>\n",
       "      <td>0.00</td>\n",
       "      <td>0.00</td>\n",
       "      <td>0.00</td>\n",
       "    </tr>\n",
       "    <tr>\n",
       "      <th>75%</th>\n",
       "      <td>5123.00</td>\n",
       "      <td>5.00</td>\n",
       "      <td>26989.25</td>\n",
       "      <td>0.00</td>\n",
       "      <td>0.00</td>\n",
       "      <td>0.00</td>\n",
       "      <td>0.00</td>\n",
       "      <td>0.00</td>\n",
       "      <td>0.00</td>\n",
       "      <td>0.00</td>\n",
       "      <td>0.00</td>\n",
       "      <td>0.00</td>\n",
       "    </tr>\n",
       "    <tr>\n",
       "      <th>max</th>\n",
       "      <td>1042428.00</td>\n",
       "      <td>73.00</td>\n",
       "      <td>5004669.00</td>\n",
       "      <td>1.00</td>\n",
       "      <td>1.00</td>\n",
       "      <td>1.00</td>\n",
       "      <td>1.00</td>\n",
       "      <td>1.00</td>\n",
       "      <td>1.00</td>\n",
       "      <td>1.00</td>\n",
       "      <td>1.00</td>\n",
       "      <td>1.00</td>\n",
       "    </tr>\n",
       "  </tbody>\n",
       "</table>\n",
       "</div>"
      ],
      "text/plain": [
       "       Reputation   Answers      Views         c         h         i  \\\n",
       "count   141448.00 141448.00  141448.00 141448.00 141448.00 141448.00   \n",
       "mean      7920.93      3.91   29846.33      0.22      0.06      0.10   \n",
       "std      27910.72      3.58   80343.74      0.41      0.24      0.30   \n",
       "min          0.00      0.00       9.00      0.00      0.00      0.00   \n",
       "25%        286.00      2.00    2608.00      0.00      0.00      0.00   \n",
       "50%       1245.00      3.00    8977.00      0.00      0.00      0.00   \n",
       "75%       5123.00      5.00   26989.25      0.00      0.00      0.00   \n",
       "max    1042428.00     73.00 5004669.00      1.00      1.00      1.00   \n",
       "\n",
       "              j         o         p         r         s         x  \n",
       "count 141448.00 141448.00 141448.00 141448.00 141448.00 141448.00  \n",
       "mean       0.22      0.04      0.13      0.04      0.07      0.02  \n",
       "std        0.41      0.21      0.34      0.19      0.26      0.14  \n",
       "min        0.00      0.00      0.00      0.00      0.00      0.00  \n",
       "25%        0.00      0.00      0.00      0.00      0.00      0.00  \n",
       "50%        0.00      0.00      0.00      0.00      0.00      0.00  \n",
       "75%        0.00      0.00      0.00      0.00      0.00      0.00  \n",
       "max        1.00      1.00      1.00      1.00      1.00      1.00  "
      ]
     },
     "execution_count": 31,
     "metadata": {},
     "output_type": "execute_result"
    }
   ],
   "source": [
    "xtest2.describe()"
   ]
  },
  {
   "cell_type": "code",
   "execution_count": 34,
   "metadata": {
    "jupyter": {
     "outputs_hidden": true
    }
   },
   "outputs": [
    {
     "data": {
      "text/plain": [
       "GridSearchCV(cv=3, error_score=nan,\n",
       "             estimator=GradientBoostingRegressor(alpha=0.9, ccp_alpha=0.0,\n",
       "                                                 criterion='friedman_mse',\n",
       "                                                 init=None, learning_rate=0.1,\n",
       "                                                 loss='ls', max_depth=3,\n",
       "                                                 max_features=None,\n",
       "                                                 max_leaf_nodes=None,\n",
       "                                                 min_impurity_decrease=0.0,\n",
       "                                                 min_impurity_split=None,\n",
       "                                                 min_samples_leaf=1,\n",
       "                                                 min_samples_split=2,\n",
       "                                                 min_weight_fraction_leaf=0.0,\n",
       "                                                 n_estimators=100,\n",
       "                                                 n_iter_no_change=None,\n",
       "                                                 presort='deprecated',\n",
       "                                                 random_state=None,\n",
       "                                                 subsample=1.0, tol=0.0001,\n",
       "                                                 validation_fraction=0.1,\n",
       "                                                 verbose=0, warm_start=False),\n",
       "             iid='deprecated', n_jobs=None,\n",
       "             param_grid={'max_depth': [3, 5], 'n_estimators': [200, 400],\n",
       "                         'validation_fraction': [0.15]},\n",
       "             pre_dispatch='2*n_jobs', refit=True, return_train_score=False,\n",
       "             scoring='neg_mean_squared_error', verbose=0)"
      ]
     },
     "execution_count": 34,
     "metadata": {},
     "output_type": "execute_result"
    }
   ],
   "source": [
    "para_grid_gb = {'n_estimators' :[200, 400], 'max_depth':[3,5], 'validation_fraction':[0.15]}\n",
    "gb = GradientBoostingRegressor()\n",
    "reg = GridSearchCV(estimator=gb, cv= 3, scoring='neg_mean_squared_error', param_grid=para_grid_gb)\n",
    "reg.fit(xtrain2, ytrain2)"
   ]
  },
  {
   "cell_type": "code",
   "execution_count": null,
   "metadata": {},
   "outputs": [],
   "source": [
    "reg.scorer_"
   ]
  },
  {
   "cell_type": "code",
   "execution_count": 35,
   "metadata": {},
   "outputs": [
    {
     "data": {
      "text/plain": [
       "1245.6935632521793"
      ]
     },
     "execution_count": 35,
     "metadata": {},
     "output_type": "execute_result"
    }
   ],
   "source": [
    "\n",
    "np.sqrt(-reg.best_score_)"
   ]
  },
  {
   "cell_type": "code",
   "execution_count": 36,
   "metadata": {},
   "outputs": [
    {
     "data": {
      "text/plain": [
       "GradientBoostingRegressor(alpha=0.9, ccp_alpha=0.0, criterion='friedman_mse',\n",
       "                          init=None, learning_rate=0.1, loss='ls', max_depth=3,\n",
       "                          max_features=None, max_leaf_nodes=None,\n",
       "                          min_impurity_decrease=0.0, min_impurity_split=None,\n",
       "                          min_samples_leaf=1, min_samples_split=2,\n",
       "                          min_weight_fraction_leaf=0.0, n_estimators=200,\n",
       "                          n_iter_no_change=None, presort='deprecated',\n",
       "                          random_state=None, subsample=1.0, tol=0.0001,\n",
       "                          validation_fraction=0.15, verbose=0,\n",
       "                          warm_start=False)"
      ]
     },
     "execution_count": 36,
     "metadata": {},
     "output_type": "execute_result"
    }
   ],
   "source": [
    "reg.best_estimator_"
   ]
  },
  {
   "cell_type": "code",
   "execution_count": null,
   "metadata": {},
   "outputs": [],
   "source": []
  },
  {
   "cell_type": "code",
   "execution_count": 352,
   "metadata": {},
   "outputs": [
    {
     "data": {
      "text/plain": [
       "(Index(['Reputation', 'Answers', 'Views', 'a', 'c', 'h', 'i', 'j', 'o', 'p',\n",
       "        'r', 's', 'x'],\n",
       "       dtype='object'),\n",
       " Index(['Reputation', 'Answers', 'Views', 'a', 'c', 'h', 'i', 'j', 'o', 'p',\n",
       "        'r', 's', 'x'],\n",
       "       dtype='object'))"
      ]
     },
     "execution_count": 352,
     "metadata": {},
     "output_type": "execute_result"
    }
   ],
   "source": [
    "xtrain2.columns, xtest2.columns"
   ]
  },
  {
   "cell_type": "markdown",
   "metadata": {},
   "source": [
    "### Prediction based on best GradientBoosting Model"
   ]
  },
  {
   "cell_type": "code",
   "execution_count": 361,
   "metadata": {},
   "outputs": [],
   "source": [
    "reg_predict = reg.predict(xtest2)"
   ]
  },
  {
   "cell_type": "code",
   "execution_count": 391,
   "metadata": {},
   "outputs": [],
   "source": [
    "predictions = pd.DataFrame({'ID': test.ID, 'Upvotes': reg_predict})"
   ]
  },
  {
   "cell_type": "code",
   "execution_count": 392,
   "metadata": {},
   "outputs": [],
   "source": [
    "predictions.Upvotes = predictions.Upvotes.clip(0)"
   ]
  },
  {
   "cell_type": "code",
   "execution_count": 393,
   "metadata": {},
   "outputs": [
    {
     "data": {
      "text/plain": [
       "0        NaN\n",
       "1        NaN\n",
       "2        NaN\n",
       "3        NaN\n",
       "4        NaN\n",
       "          ..\n",
       "141443   NaN\n",
       "141444   NaN\n",
       "141445   NaN\n",
       "141446   NaN\n",
       "141447   NaN\n",
       "Name: Upvotes, Length: 141448, dtype: float64"
      ]
     },
     "execution_count": 393,
     "metadata": {},
     "output_type": "execute_result"
    }
   ],
   "source": [
    "predictions[predictions < 0]['Upvotes']"
   ]
  },
  {
   "cell_type": "code",
   "execution_count": 394,
   "metadata": {},
   "outputs": [
    {
     "data": {
      "image/png": "[encoded data removed]",
      "text/plain": [
       "<Figure size 432x288 with 1 Axes>"
      ]
     },
     "metadata": {
      "needs_background": "light"
     },
     "output_type": "display_data"
    }
   ],
   "source": [
    "predictions.boxplot()\n",
    "plt.show()"
   ]
  },
  {
   "cell_type": "code",
   "execution_count": 365,
   "metadata": {},
   "outputs": [],
   "source": [
    "predict_2 = predictions\n"
   ]
  },
  {
   "cell_type": "code",
   "execution_count": 366,
   "metadata": {},
   "outputs": [],
   "source": [
    "#train.drop('Tag_transform', axis = 1, inplace=True)"
   ]
  },
  {
   "cell_type": "code",
   "execution_count": 397,
   "metadata": {},
   "outputs": [],
   "source": [
    "predictions.to_csv(\"submission1.csv\",index_label=False )"
   ]
  },
  {
   "cell_type": "code",
   "execution_count": 368,
   "metadata": {},
   "outputs": [
    {
     "data": {
      "image/png": "[encoded data removed]",
      "text/plain": [
       "<Figure size 864x720 with 1 Axes>"
      ]
     },
     "metadata": {
      "needs_background": "light"
     },
     "output_type": "display_data"
    }
   ],
   "source": [
    "## Outlier treatment\n",
    "plt.figure(figsize= (12,10))\n",
    "train.boxplot()\n",
    "plt.show()"
   ]
  },
  {
   "cell_type": "code",
   "execution_count": null,
   "metadata": {},
   "outputs": [],
   "source": []
  },
  {
   "cell_type": "code",
   "execution_count": 396,
   "metadata": {},
   "outputs": [
    {
     "data": {
      "text/html": [
       "<div>\n",
       "<style scoped>\n",
       "    .dataframe tbody tr th:only-of-type {\n",
       "        vertical-align: middle;\n",
       "    }\n",
       "\n",
       "    .dataframe tbody tr th {\n",
       "        vertical-align: top;\n",
       "    }\n",
       "\n",
       "    .dataframe thead th {\n",
       "        text-align: right;\n",
       "    }\n",
       "</style>\n",
       "<table border=\"1\" class=\"dataframe\">\n",
       "  <thead>\n",
       "    <tr style=\"text-align: right;\">\n",
       "      <th></th>\n",
       "      <th>ID</th>\n",
       "      <th>Upvotes</th>\n",
       "    </tr>\n",
       "  </thead>\n",
       "  <tbody>\n",
       "    <tr>\n",
       "      <th>count</th>\n",
       "      <td>141448.000000</td>\n",
       "      <td>141448.000000</td>\n",
       "    </tr>\n",
       "    <tr>\n",
       "      <th>mean</th>\n",
       "      <td>235743.073497</td>\n",
       "      <td>353.124632</td>\n",
       "    </tr>\n",
       "    <tr>\n",
       "      <th>std</th>\n",
       "      <td>136269.867118</td>\n",
       "      <td>3671.669378</td>\n",
       "    </tr>\n",
       "    <tr>\n",
       "      <th>min</th>\n",
       "      <td>7.000000</td>\n",
       "      <td>0.000000</td>\n",
       "    </tr>\n",
       "    <tr>\n",
       "      <th>25%</th>\n",
       "      <td>117797.000000</td>\n",
       "      <td>3.585884</td>\n",
       "    </tr>\n",
       "    <tr>\n",
       "      <th>50%</th>\n",
       "      <td>235830.000000</td>\n",
       "      <td>36.866400</td>\n",
       "    </tr>\n",
       "    <tr>\n",
       "      <th>75%</th>\n",
       "      <td>353616.000000</td>\n",
       "      <td>150.190817</td>\n",
       "    </tr>\n",
       "    <tr>\n",
       "      <th>max</th>\n",
       "      <td>471488.000000</td>\n",
       "      <td>573963.427334</td>\n",
       "    </tr>\n",
       "  </tbody>\n",
       "</table>\n",
       "</div>"
      ],
      "text/plain": [
       "                  ID        Upvotes\n",
       "count  141448.000000  141448.000000\n",
       "mean   235743.073497     353.124632\n",
       "std    136269.867118    3671.669378\n",
       "min         7.000000       0.000000\n",
       "25%    117797.000000       3.585884\n",
       "50%    235830.000000      36.866400\n",
       "75%    353616.000000     150.190817\n",
       "max    471488.000000  573963.427334"
      ]
     },
     "execution_count": 396,
     "metadata": {},
     "output_type": "execute_result"
    }
   ],
   "source": [
    "predictions.describe()"
   ]
  },
  {
   "cell_type": "markdown",
   "metadata": {},
   "source": [
    "### Other options"
   ]
  },
  {
   "cell_type": "code",
   "execution_count": null,
   "metadata": {},
   "outputs": [],
   "source": []
  },
  {
   "cell_type": "code",
   "execution_count": 22,
   "metadata": {},
   "outputs": [],
   "source": [
    "from sklearn.linear_model import LinearRegression, LassoCV, RidgeCV, ElasticNetCV"
   ]
  },
  {
   "cell_type": "code",
   "execution_count": 408,
   "metadata": {},
   "outputs": [
    {
     "data": {
      "text/plain": [
       "3063.816200673156"
      ]
     },
     "execution_count": 408,
     "metadata": {},
     "output_type": "execute_result"
    }
   ],
   "source": [
    "\n",
    "estimators = []\n",
    "estimators.append(('standardize', StandardScaler()))\n",
    "estimators.append(('lr', LinearRegression()))\n",
    "\n",
    "pipeline = Pipeline(estimators)\n",
    "\n",
    "cv_score = cross_val_score(pipeline, X, y,scoring='neg_mean_squared_error', cv= 5)\n",
    "cv_score = np.array(cv_score)\n",
    "cv_score = cv_score * -1\n",
    "cv_score = np.mean(np.sqrt(cv_score))\n",
    "cv_score"
   ]
  },
  {
   "cell_type": "code",
   "execution_count": 412,
   "metadata": {},
   "outputs": [
    {
     "data": {
      "text/plain": [
       "3063.759016927315"
      ]
     },
     "execution_count": 412,
     "metadata": {},
     "output_type": "execute_result"
    }
   ],
   "source": [
    "estimators = []\n",
    "estimators.append(('standardize', StandardScaler()))\n",
    "estimators.append(('lass', LassoCV()))\n",
    "\n",
    "pipeline = Pipeline(estimators)\n",
    "\n",
    "cv_score = cross_val_score(pipeline, X, y,scoring='neg_mean_squared_error', cv= 5)\n",
    "cv_score = np.array(cv_score)\n",
    "cv_score = cv_score * -1\n",
    "cv_score = np.mean(np.sqrt(cv_score))\n",
    "cv_score"
   ]
  },
  {
   "cell_type": "code",
   "execution_count": 413,
   "metadata": {},
   "outputs": [
    {
     "data": {
      "text/plain": [
       "3063.80097654602"
      ]
     },
     "execution_count": 413,
     "metadata": {},
     "output_type": "execute_result"
    }
   ],
   "source": [
    "estimators = []\n",
    "estimators.append(('standardize', StandardScaler()))\n",
    "estimators.append(('ridge', RidgeCV()))\n",
    "\n",
    "pipeline = Pipeline(estimators)\n",
    "\n",
    "cv_score = cross_val_score(pipeline, X, y,scoring='neg_mean_squared_error', cv= 5)\n",
    "cv_score = np.array(cv_score)\n",
    "cv_score = cv_score * -1\n",
    "cv_score = np.mean(np.sqrt(cv_score))\n",
    "cv_score"
   ]
  },
  {
   "cell_type": "code",
   "execution_count": 414,
   "metadata": {},
   "outputs": [
    {
     "data": {
      "text/plain": [
       "3243.538466197332"
      ]
     },
     "execution_count": 414,
     "metadata": {},
     "output_type": "execute_result"
    }
   ],
   "source": [
    "estimators = []\n",
    "estimators.append(('standardize', StandardScaler()))\n",
    "estimators.append(('en', ElasticNetCV()))\n",
    "\n",
    "pipeline = Pipeline(estimators)\n",
    "\n",
    "cv_score = cross_val_score(pipeline, X, y,scoring='neg_mean_squared_error', cv= 5)\n",
    "cv_score = np.array(cv_score)\n",
    "cv_score = cv_score * -1\n",
    "cv_score = np.mean(np.sqrt(cv_score))\n",
    "cv_score"
   ]
  },
  {
   "cell_type": "code",
   "execution_count": 35,
   "metadata": {},
   "outputs": [
    {
     "data": {
      "text/plain": [
       "(1386.6144436719028,\n",
       " array([1500.6037846 , 1896.20842703, 1245.96870916, 1175.07691078,\n",
       "        1786.59209293,  948.18410281, 1174.45330917, 1271.67423738,\n",
       "        1232.28291344, 1635.0999494 ]))"
      ]
     },
     "execution_count": 35,
     "metadata": {},
     "output_type": "execute_result"
    }
   ],
   "source": [
    "from sklearn.tree import DecisionTreeRegressor\n",
    "estimators = []\n",
    "estimators.append(('standardize', StandardScaler()))\n",
    "estimators.append(('dtr', DecisionTreeRegressor(max_depth = 8)))\n",
    "\n",
    "pipeline = Pipeline(estimators)\n",
    "\n",
    "cv_scores = cross_val_score(pipeline, xtrain2, ytrain2,scoring='neg_mean_squared_error', cv= 10)\n",
    "cv_score = np.array(cv_scores)\n",
    "cv_score = cv_score * -1\n",
    "cv_score = np.mean(np.sqrt(cv_score))\n",
    "cv_score, (cv_scores*-1) ** 0.5"
   ]
  },
  {
   "cell_type": "code",
   "execution_count": 37,
   "metadata": {},
   "outputs": [
    {
     "data": {
      "text/plain": [
       "(1353.4648859125823,\n",
       " array([1388.77745749, 1242.12075624, 1346.23312854, 1436.72820138]))"
      ]
     },
     "execution_count": 37,
     "metadata": {},
     "output_type": "execute_result"
    }
   ],
   "source": [
    "estimators = []\n",
    "estimators.append(('standardize', StandardScaler()))\n",
    "estimators.append(('dtr', GradientBoostingRegressor(n_estimators = 1000)))\n",
    "\n",
    "pipeline = Pipeline(estimators)\n",
    "\n",
    "cv_scores = cross_val_score(pipeline, xtrain2, ytrain2, scoring='neg_mean_squared_error', cv= 4)\n",
    "cv_score = np.array(cv_scores)\n",
    "cv_score = cv_score * -1\n",
    "cv_score = np.mean(np.sqrt(cv_score))\n",
    "cv_score, (cv_scores*-1) ** 0.5"
   ]
  },
  {
   "cell_type": "code",
   "execution_count": null,
   "metadata": {},
   "outputs": [],
   "source": []
  },
  {
   "cell_type": "code",
   "execution_count": 428,
   "metadata": {},
   "outputs": [],
   "source": [
    "prediction_pipe = pipeline.fit(X,y).predict(xtest2)"
   ]
  },
  {
   "cell_type": "code",
   "execution_count": 429,
   "metadata": {},
   "outputs": [
    {
     "data": {
      "text/plain": [
       "array([237.31406309, 107.70435218,  50.14831989, ...,  55.4206733 ,\n",
       "        21.68189311,  33.77284161])"
      ]
     },
     "execution_count": 429,
     "metadata": {},
     "output_type": "execute_result"
    }
   ],
   "source": [
    "prediction_pipe"
   ]
  },
  {
   "cell_type": "code",
   "execution_count": null,
   "metadata": {},
   "outputs": [],
   "source": []
  },
  {
   "cell_type": "code",
   "execution_count": 430,
   "metadata": {},
   "outputs": [],
   "source": [
    "predictions2 = pd.DataFrame({'ID': test.ID, 'Upvotes': prediction_pipe})"
   ]
  },
  {
   "cell_type": "code",
   "execution_count": 431,
   "metadata": {},
   "outputs": [
    {
     "data": {
      "text/html": [
       "<div>\n",
       "<style scoped>\n",
       "    .dataframe tbody tr th:only-of-type {\n",
       "        vertical-align: middle;\n",
       "    }\n",
       "\n",
       "    .dataframe tbody tr th {\n",
       "        vertical-align: top;\n",
       "    }\n",
       "\n",
       "    .dataframe thead th {\n",
       "        text-align: right;\n",
       "    }\n",
       "</style>\n",
       "<table border=\"1\" class=\"dataframe\">\n",
       "  <thead>\n",
       "    <tr style=\"text-align: right;\">\n",
       "      <th></th>\n",
       "      <th>ID</th>\n",
       "      <th>Upvotes</th>\n",
       "    </tr>\n",
       "  </thead>\n",
       "  <tbody>\n",
       "    <tr>\n",
       "      <th>count</th>\n",
       "      <td>141448.000000</td>\n",
       "      <td>141448.000000</td>\n",
       "    </tr>\n",
       "    <tr>\n",
       "      <th>mean</th>\n",
       "      <td>235743.073497</td>\n",
       "      <td>348.736669</td>\n",
       "    </tr>\n",
       "    <tr>\n",
       "      <th>std</th>\n",
       "      <td>136269.867118</td>\n",
       "      <td>3701.946824</td>\n",
       "    </tr>\n",
       "    <tr>\n",
       "      <th>min</th>\n",
       "      <td>7.000000</td>\n",
       "      <td>-11260.595279</td>\n",
       "    </tr>\n",
       "    <tr>\n",
       "      <th>25%</th>\n",
       "      <td>117797.000000</td>\n",
       "      <td>14.494083</td>\n",
       "    </tr>\n",
       "    <tr>\n",
       "      <th>50%</th>\n",
       "      <td>235830.000000</td>\n",
       "      <td>29.610428</td>\n",
       "    </tr>\n",
       "    <tr>\n",
       "      <th>75%</th>\n",
       "      <td>353616.000000</td>\n",
       "      <td>117.696769</td>\n",
       "    </tr>\n",
       "    <tr>\n",
       "      <th>max</th>\n",
       "      <td>471488.000000</td>\n",
       "      <td>579184.190323</td>\n",
       "    </tr>\n",
       "  </tbody>\n",
       "</table>\n",
       "</div>"
      ],
      "text/plain": [
       "                  ID        Upvotes\n",
       "count  141448.000000  141448.000000\n",
       "mean   235743.073497     348.736669\n",
       "std    136269.867118    3701.946824\n",
       "min         7.000000  -11260.595279\n",
       "25%    117797.000000      14.494083\n",
       "50%    235830.000000      29.610428\n",
       "75%    353616.000000     117.696769\n",
       "max    471488.000000  579184.190323"
      ]
     },
     "execution_count": 431,
     "metadata": {},
     "output_type": "execute_result"
    }
   ],
   "source": [
    "predictions2.describe()"
   ]
  },
  {
   "cell_type": "code",
   "execution_count": 435,
   "metadata": {},
   "outputs": [],
   "source": [
    "predictions3 = predictions2"
   ]
  },
  {
   "cell_type": "code",
   "execution_count": 436,
   "metadata": {},
   "outputs": [],
   "source": [
    "predictions3.Upvotes = np.ceil(predictions2.Upvotes)"
   ]
  },
  {
   "cell_type": "code",
   "execution_count": 432,
   "metadata": {},
   "outputs": [],
   "source": [
    "predictions2.Upvotes = predictions2.Upvotes.clip(0)"
   ]
  },
  {
   "cell_type": "code",
   "execution_count": 433,
   "metadata": {},
   "outputs": [],
   "source": [
    "predictions2.to_csv('prediction2.csv', index_label=False)"
   ]
  },
  {
   "cell_type": "code",
   "execution_count": 437,
   "metadata": {},
   "outputs": [],
   "source": [
    "predictions3.to_csv('prediction3.csv', index_label=False)"
   ]
  },
  {
   "cell_type": "code",
   "execution_count": 438,
   "metadata": {},
   "outputs": [],
   "source": [
    "predictions4 = predictions2\n",
    "predictions4.Upvotes = np.floor(predictions2.Upvotes)\n",
    "predictions4.to_csv('prediction4.csv', index_label=False)"
   ]
  },
  {
   "cell_type": "code",
   "execution_count": 439,
   "metadata": {},
   "outputs": [
    {
     "data": {
      "text/html": [
       "<div>\n",
       "<style scoped>\n",
       "    .dataframe tbody tr th:only-of-type {\n",
       "        vertical-align: middle;\n",
       "    }\n",
       "\n",
       "    .dataframe tbody tr th {\n",
       "        vertical-align: top;\n",
       "    }\n",
       "\n",
       "    .dataframe thead th {\n",
       "        text-align: right;\n",
       "    }\n",
       "</style>\n",
       "<table border=\"1\" class=\"dataframe\">\n",
       "  <thead>\n",
       "    <tr style=\"text-align: right;\">\n",
       "      <th></th>\n",
       "      <th>ID</th>\n",
       "      <th>Upvotes</th>\n",
       "    </tr>\n",
       "  </thead>\n",
       "  <tbody>\n",
       "    <tr>\n",
       "      <th>count</th>\n",
       "      <td>141448.000000</td>\n",
       "      <td>141448.000000</td>\n",
       "    </tr>\n",
       "    <tr>\n",
       "      <th>mean</th>\n",
       "      <td>235743.073497</td>\n",
       "      <td>350.272383</td>\n",
       "    </tr>\n",
       "    <tr>\n",
       "      <th>std</th>\n",
       "      <td>136269.867118</td>\n",
       "      <td>3701.633281</td>\n",
       "    </tr>\n",
       "    <tr>\n",
       "      <th>min</th>\n",
       "      <td>7.000000</td>\n",
       "      <td>0.000000</td>\n",
       "    </tr>\n",
       "    <tr>\n",
       "      <th>25%</th>\n",
       "      <td>117797.000000</td>\n",
       "      <td>15.000000</td>\n",
       "    </tr>\n",
       "    <tr>\n",
       "      <th>50%</th>\n",
       "      <td>235830.000000</td>\n",
       "      <td>30.000000</td>\n",
       "    </tr>\n",
       "    <tr>\n",
       "      <th>75%</th>\n",
       "      <td>353616.000000</td>\n",
       "      <td>118.000000</td>\n",
       "    </tr>\n",
       "    <tr>\n",
       "      <th>max</th>\n",
       "      <td>471488.000000</td>\n",
       "      <td>579185.000000</td>\n",
       "    </tr>\n",
       "  </tbody>\n",
       "</table>\n",
       "</div>"
      ],
      "text/plain": [
       "                  ID        Upvotes\n",
       "count  141448.000000  141448.000000\n",
       "mean   235743.073497     350.272383\n",
       "std    136269.867118    3701.633281\n",
       "min         7.000000       0.000000\n",
       "25%    117797.000000      15.000000\n",
       "50%    235830.000000      30.000000\n",
       "75%    353616.000000     118.000000\n",
       "max    471488.000000  579185.000000"
      ]
     },
     "execution_count": 439,
     "metadata": {},
     "output_type": "execute_result"
    }
   ],
   "source": [
    "predictions3.describe()"
   ]
  },
  {
   "cell_type": "code",
   "execution_count": 440,
   "metadata": {},
   "outputs": [
    {
     "data": {
      "text/html": [
       "<div>\n",
       "<style scoped>\n",
       "    .dataframe tbody tr th:only-of-type {\n",
       "        vertical-align: middle;\n",
       "    }\n",
       "\n",
       "    .dataframe tbody tr th {\n",
       "        vertical-align: top;\n",
       "    }\n",
       "\n",
       "    .dataframe thead th {\n",
       "        text-align: right;\n",
       "    }\n",
       "</style>\n",
       "<table border=\"1\" class=\"dataframe\">\n",
       "  <thead>\n",
       "    <tr style=\"text-align: right;\">\n",
       "      <th></th>\n",
       "      <th>ID</th>\n",
       "      <th>Upvotes</th>\n",
       "    </tr>\n",
       "  </thead>\n",
       "  <tbody>\n",
       "    <tr>\n",
       "      <th>count</th>\n",
       "      <td>141448.000000</td>\n",
       "      <td>141448.000000</td>\n",
       "    </tr>\n",
       "    <tr>\n",
       "      <th>mean</th>\n",
       "      <td>235743.073497</td>\n",
       "      <td>350.272383</td>\n",
       "    </tr>\n",
       "    <tr>\n",
       "      <th>std</th>\n",
       "      <td>136269.867118</td>\n",
       "      <td>3701.633281</td>\n",
       "    </tr>\n",
       "    <tr>\n",
       "      <th>min</th>\n",
       "      <td>7.000000</td>\n",
       "      <td>0.000000</td>\n",
       "    </tr>\n",
       "    <tr>\n",
       "      <th>25%</th>\n",
       "      <td>117797.000000</td>\n",
       "      <td>15.000000</td>\n",
       "    </tr>\n",
       "    <tr>\n",
       "      <th>50%</th>\n",
       "      <td>235830.000000</td>\n",
       "      <td>30.000000</td>\n",
       "    </tr>\n",
       "    <tr>\n",
       "      <th>75%</th>\n",
       "      <td>353616.000000</td>\n",
       "      <td>118.000000</td>\n",
       "    </tr>\n",
       "    <tr>\n",
       "      <th>max</th>\n",
       "      <td>471488.000000</td>\n",
       "      <td>579185.000000</td>\n",
       "    </tr>\n",
       "  </tbody>\n",
       "</table>\n",
       "</div>"
      ],
      "text/plain": [
       "                  ID        Upvotes\n",
       "count  141448.000000  141448.000000\n",
       "mean   235743.073497     350.272383\n",
       "std    136269.867118    3701.633281\n",
       "min         7.000000       0.000000\n",
       "25%    117797.000000      15.000000\n",
       "50%    235830.000000      30.000000\n",
       "75%    353616.000000     118.000000\n",
       "max    471488.000000  579185.000000"
      ]
     },
     "execution_count": 440,
     "metadata": {},
     "output_type": "execute_result"
    }
   ],
   "source": [
    "predictions2.describe()"
   ]
  },
  {
   "cell_type": "code",
   "execution_count": 441,
   "metadata": {},
   "outputs": [
    {
     "data": {
      "text/html": [
       "<div>\n",
       "<style scoped>\n",
       "    .dataframe tbody tr th:only-of-type {\n",
       "        vertical-align: middle;\n",
       "    }\n",
       "\n",
       "    .dataframe tbody tr th {\n",
       "        vertical-align: top;\n",
       "    }\n",
       "\n",
       "    .dataframe thead th {\n",
       "        text-align: right;\n",
       "    }\n",
       "</style>\n",
       "<table border=\"1\" class=\"dataframe\">\n",
       "  <thead>\n",
       "    <tr style=\"text-align: right;\">\n",
       "      <th></th>\n",
       "      <th>ID</th>\n",
       "      <th>Upvotes</th>\n",
       "    </tr>\n",
       "  </thead>\n",
       "  <tbody>\n",
       "    <tr>\n",
       "      <th>count</th>\n",
       "      <td>141448.000000</td>\n",
       "      <td>141448.000000</td>\n",
       "    </tr>\n",
       "    <tr>\n",
       "      <th>mean</th>\n",
       "      <td>235743.073497</td>\n",
       "      <td>350.272383</td>\n",
       "    </tr>\n",
       "    <tr>\n",
       "      <th>std</th>\n",
       "      <td>136269.867118</td>\n",
       "      <td>3701.633281</td>\n",
       "    </tr>\n",
       "    <tr>\n",
       "      <th>min</th>\n",
       "      <td>7.000000</td>\n",
       "      <td>0.000000</td>\n",
       "    </tr>\n",
       "    <tr>\n",
       "      <th>25%</th>\n",
       "      <td>117797.000000</td>\n",
       "      <td>15.000000</td>\n",
       "    </tr>\n",
       "    <tr>\n",
       "      <th>50%</th>\n",
       "      <td>235830.000000</td>\n",
       "      <td>30.000000</td>\n",
       "    </tr>\n",
       "    <tr>\n",
       "      <th>75%</th>\n",
       "      <td>353616.000000</td>\n",
       "      <td>118.000000</td>\n",
       "    </tr>\n",
       "    <tr>\n",
       "      <th>max</th>\n",
       "      <td>471488.000000</td>\n",
       "      <td>579185.000000</td>\n",
       "    </tr>\n",
       "  </tbody>\n",
       "</table>\n",
       "</div>"
      ],
      "text/plain": [
       "                  ID        Upvotes\n",
       "count  141448.000000  141448.000000\n",
       "mean   235743.073497     350.272383\n",
       "std    136269.867118    3701.633281\n",
       "min         7.000000       0.000000\n",
       "25%    117797.000000      15.000000\n",
       "50%    235830.000000      30.000000\n",
       "75%    353616.000000     118.000000\n",
       "max    471488.000000  579185.000000"
      ]
     },
     "execution_count": 441,
     "metadata": {},
     "output_type": "execute_result"
    }
   ],
   "source": [
    "predictions4.describe()"
   ]
  },
  {
   "cell_type": "code",
   "execution_count": 443,
   "metadata": {},
   "outputs": [
    {
     "data": {
      "text/html": [
       "<div>\n",
       "<style scoped>\n",
       "    .dataframe tbody tr th:only-of-type {\n",
       "        vertical-align: middle;\n",
       "    }\n",
       "\n",
       "    .dataframe tbody tr th {\n",
       "        vertical-align: top;\n",
       "    }\n",
       "\n",
       "    .dataframe thead th {\n",
       "        text-align: right;\n",
       "    }\n",
       "</style>\n",
       "<table border=\"1\" class=\"dataframe\">\n",
       "  <thead>\n",
       "    <tr style=\"text-align: right;\">\n",
       "      <th></th>\n",
       "      <th>ID</th>\n",
       "      <th>Upvotes</th>\n",
       "    </tr>\n",
       "  </thead>\n",
       "  <tbody>\n",
       "    <tr>\n",
       "      <th>count</th>\n",
       "      <td>141448.000000</td>\n",
       "      <td>141448.000000</td>\n",
       "    </tr>\n",
       "    <tr>\n",
       "      <th>mean</th>\n",
       "      <td>235743.073497</td>\n",
       "      <td>353.124632</td>\n",
       "    </tr>\n",
       "    <tr>\n",
       "      <th>std</th>\n",
       "      <td>136269.867118</td>\n",
       "      <td>3671.669378</td>\n",
       "    </tr>\n",
       "    <tr>\n",
       "      <th>min</th>\n",
       "      <td>7.000000</td>\n",
       "      <td>0.000000</td>\n",
       "    </tr>\n",
       "    <tr>\n",
       "      <th>25%</th>\n",
       "      <td>117797.000000</td>\n",
       "      <td>3.585884</td>\n",
       "    </tr>\n",
       "    <tr>\n",
       "      <th>50%</th>\n",
       "      <td>235830.000000</td>\n",
       "      <td>36.866400</td>\n",
       "    </tr>\n",
       "    <tr>\n",
       "      <th>75%</th>\n",
       "      <td>353616.000000</td>\n",
       "      <td>150.190817</td>\n",
       "    </tr>\n",
       "    <tr>\n",
       "      <th>max</th>\n",
       "      <td>471488.000000</td>\n",
       "      <td>573963.427334</td>\n",
       "    </tr>\n",
       "  </tbody>\n",
       "</table>\n",
       "</div>"
      ],
      "text/plain": [
       "                  ID        Upvotes\n",
       "count  141448.000000  141448.000000\n",
       "mean   235743.073497     353.124632\n",
       "std    136269.867118    3671.669378\n",
       "min         7.000000       0.000000\n",
       "25%    117797.000000       3.585884\n",
       "50%    235830.000000      36.866400\n",
       "75%    353616.000000     150.190817\n",
       "max    471488.000000  573963.427334"
      ]
     },
     "execution_count": 443,
     "metadata": {},
     "output_type": "execute_result"
    }
   ],
   "source": [
    "predictions.describe()"
   ]
  },
  {
   "cell_type": "code",
   "execution_count": 447,
   "metadata": {},
   "outputs": [
    {
     "data": {
      "image/png": "[encoded data removed]",
      "text/plain": [
       "<Figure size 864x720 with 1 Axes>"
      ]
     },
     "metadata": {
      "needs_background": "light"
     },
     "output_type": "display_data"
    }
   ],
   "source": [
    "plt.figure(figsize=(12,10))\n",
    "plt.plot(np.log1p(predictions.Upvotes), np.log1p(predictions2.Upvotes), 'o')\n",
    "plt.xlabel('pred1')\n",
    "plt.ylabel('pred2')\n",
    "plt.show()\n"
   ]
  },
  {
   "cell_type": "code",
   "execution_count": null,
   "metadata": {},
   "outputs": [],
   "source": []
  },
  {
   "cell_type": "code",
   "execution_count": null,
   "metadata": {},
   "outputs": [],
   "source": []
  },
  {
   "cell_type": "markdown",
   "metadata": {},
   "source": [
    "# Stacking regressors?\n",
    "\n"
   ]
  },
  {
   "cell_type": "code",
   "execution_count": null,
   "metadata": {},
   "outputs": [],
   "source": []
  },
  {
   "cell_type": "code",
   "execution_count": 58,
   "metadata": {},
   "outputs": [],
   "source": [
    "from sklearn.preprocessing import StandardScaler\n",
    "ss = StandardScaler()\n",
    "xtrain3 = ss.fit_transform(xtrain2)\n",
    "ytrain3 = ss.fit_transform(ytrain2.values.reshape(-1,1))\n",
    "xtest3 = ss.fit_transform(xtest2)"
   ]
  },
  {
   "cell_type": "code",
   "execution_count": 76,
   "metadata": {},
   "outputs": [],
   "source": [
    "from sklearn.ensemble import StackingRegressor\n",
    "\n",
    "# get a stacking ensemble of models\n",
    "def get_stacking():\n",
    "    # define the base models\n",
    "    level0 = list()\n",
    "    level0.append(('xgb', XGBRegressor()))\n",
    "    level0.append(('dt', DecisionTreeRegressor()))\n",
    "    level0.append(('lgb', GradientBoostingRegressor()))\n",
    "\n",
    "    # define meta learner model\n",
    "    level1 = LGBMRegressor()\n",
    "    # define the stacking ensemble\n",
    "    model = StackingRegressor(estimators=level0, final_estimator=level1, cv=3)\n",
    "    return model"
   ]
  },
  {
   "cell_type": "code",
   "execution_count": 77,
   "metadata": {},
   "outputs": [],
   "source": [
    "# get a list of models to evaluate\n",
    "def get_models():\n",
    "    models = dict()\n",
    "    models['xgb'] = XGBRegressor()\n",
    "    models['dt'] = DecisionTreeRegressor()\n",
    "    models['lgb'] = GradientBoostingRegressor()\n",
    "    models['stack'] = get_stacking()\n",
    "    return models"
   ]
  },
  {
   "cell_type": "code",
   "execution_count": 78,
   "metadata": {},
   "outputs": [],
   "source": [
    "from sklearn.model_selection import RepeatedKFold\n",
    "def evaluate_model(model):\n",
    "    cv = RepeatedKFold(n_splits=5, n_repeats=2)\n",
    "    scores = cross_val_score(model, xtrain2, ytrain2, scoring='neg_mean_squared_error', cv=cv, n_jobs=-1, error_score='raise')\n",
    "    return scores"
   ]
  },
  {
   "cell_type": "code",
   "execution_count": 79,
   "metadata": {},
   "outputs": [],
   "source": [
    "import matplotlib.pyplot as plt\n",
    "import seaborn as sns"
   ]
  },
  {
   "cell_type": "code",
   "execution_count": 80,
   "metadata": {},
   "outputs": [
    {
     "name": "stdout",
     "output_type": "stream",
     "text": [
      "> xgb 1292.70 (694.63)\n",
      "> dt 1640.62 (1187.05)\n",
      "> lgb 1253.46 (776.17)\n",
      "> stack 2585.93 (1927.94)\n"
     ]
    },
    {
     "data": {
      "image/png": "[encoded data removed]",
      "text/plain": [
       "<Figure size 864x720 with 1 Axes>"
      ]
     },
     "metadata": {
      "needs_background": "light"
     },
     "output_type": "display_data"
    }
   ],
   "source": [
    "# get the models to evaluate\n",
    "models = get_models()\n",
    "# evaluate the models and store results\n",
    "results, names = list(), list()\n",
    "for name, model in models.items():\n",
    "    scores = evaluate_model(model)\n",
    "    results.append(scores)\n",
    "    names.append(name)\n",
    "    print('> %s %.2f (%.2f)' % (name, np.sqrt(-np.mean(scores)),\n",
    "                                np.sqrt(np.std(scores))))\n",
    "\n",
    "\n",
    "plt.figure(figsize = (12,10))    \n",
    "plt.boxplot(results, labels=names, showmeans=True)\n",
    "plt.show()"
   ]
  },
  {
   "cell_type": "code",
   "execution_count": null,
   "metadata": {},
   "outputs": [],
   "source": []
  },
  {
   "cell_type": "code",
   "execution_count": 75,
   "metadata": {},
   "outputs": [
    {
     "name": "stdout",
     "output_type": "stream",
     "text": [
      "[15:27:47] WARNING: src/objective/regression_obj.cu:152: reg:linear is now deprecated in favor of reg:squarederror.\n",
      "[15:28:42] WARNING: src/objective/regression_obj.cu:152: reg:linear is now deprecated in favor of reg:squarederror.\n",
      "[15:28:59] WARNING: src/objective/regression_obj.cu:152: reg:linear is now deprecated in favor of reg:squarederror.\n",
      "[15:29:15] WARNING: src/objective/regression_obj.cu:152: reg:linear is now deprecated in favor of reg:squarederror.\n"
     ]
    },
    {
     "data": {
      "text/plain": [
       "StackingRegressor(cv=3,\n",
       "                  estimators=[('xgb',\n",
       "                               XGBRegressor(base_score=0.5, booster='gbtree',\n",
       "                                            colsample_bylevel=1,\n",
       "                                            colsample_bynode=1,\n",
       "                                            colsample_bytree=1, gamma=0,\n",
       "                                            importance_type='gain',\n",
       "                                            learning_rate=0.1, max_delta_step=0,\n",
       "                                            max_depth=3, min_child_weight=1,\n",
       "                                            missing=None, n_estimators=100,\n",
       "                                            n_jobs=1, nthread=None,\n",
       "                                            objective='reg:linear',\n",
       "                                            random_state=0, reg_alpha=0,\n",
       "                                            reg_la...\n",
       "                                                colsample_bytree=1.0,\n",
       "                                                importance_type='split',\n",
       "                                                learning_rate=0.1, max_depth=-1,\n",
       "                                                min_child_samples=20,\n",
       "                                                min_child_weight=0.001,\n",
       "                                                min_split_gain=0.0,\n",
       "                                                n_estimators=100, n_jobs=-1,\n",
       "                                                num_leaves=31, objective=None,\n",
       "                                                random_state=None,\n",
       "                                                reg_alpha=0.0, reg_lambda=0.0,\n",
       "                                                silent=True, subsample=1.0,\n",
       "                                                subsample_for_bin=200000,\n",
       "                                                subsample_freq=0),\n",
       "                  n_jobs=None, passthrough=False, verbose=0)"
      ]
     },
     "execution_count": 75,
     "metadata": {},
     "output_type": "execute_result"
    }
   ],
   "source": [
    "model.fit(xtrain2, ytrain2)"
   ]
  },
  {
   "cell_type": "code",
   "execution_count": null,
   "metadata": {},
   "outputs": [],
   "source": []
  },
  {
   "cell_type": "code",
   "execution_count": null,
   "metadata": {},
   "outputs": [],
   "source": []
  },
  {
   "cell_type": "markdown",
   "metadata": {},
   "source": [
    "### Running the model and fitting "
   ]
  },
  {
   "cell_type": "code",
   "execution_count": 57,
   "metadata": {
    "collapsed": true
   },
   "outputs": [
    {
     "ename": "AttributeError",
     "evalue": "'StackingRegressor' object has no attribute 'items'",
     "output_type": "error",
     "traceback": [
      "\u001b[0;31m---------------------------------------------------------------------------\u001b[0m",
      "\u001b[0;31mAttributeError\u001b[0m                            Traceback (most recent call last)",
      "\u001b[0;32m<ipython-input-57-9d87098ad8db>\u001b[0m in \u001b[0;36m<module>\u001b[0;34m\u001b[0m\n\u001b[1;32m     11\u001b[0m \u001b[0;31m# define the stacking ensemble\u001b[0m\u001b[0;34m\u001b[0m\u001b[0;34m\u001b[0m\u001b[0;34m\u001b[0m\u001b[0m\n\u001b[1;32m     12\u001b[0m \u001b[0mmodel\u001b[0m \u001b[0;34m=\u001b[0m \u001b[0mStackingRegressor\u001b[0m\u001b[0;34m(\u001b[0m\u001b[0mestimators\u001b[0m\u001b[0;34m=\u001b[0m\u001b[0mlevel0\u001b[0m\u001b[0;34m,\u001b[0m \u001b[0mfinal_estimator\u001b[0m\u001b[0;34m=\u001b[0m\u001b[0mlevel1\u001b[0m\u001b[0;34m,\u001b[0m \u001b[0mcv\u001b[0m\u001b[0;34m=\u001b[0m\u001b[0;36m3\u001b[0m\u001b[0;34m)\u001b[0m\u001b[0;34m\u001b[0m\u001b[0;34m\u001b[0m\u001b[0m\n\u001b[0;32m---> 13\u001b[0;31m \u001b[0;32mfor\u001b[0m \u001b[0mname\u001b[0m\u001b[0;34m,\u001b[0m\u001b[0meach\u001b[0m \u001b[0;32min\u001b[0m \u001b[0mmodel\u001b[0m\u001b[0;34m.\u001b[0m\u001b[0mitems\u001b[0m\u001b[0;34m:\u001b[0m\u001b[0;34m\u001b[0m\u001b[0;34m\u001b[0m\u001b[0m\n\u001b[0m\u001b[1;32m     14\u001b[0m     \u001b[0mscore\u001b[0m \u001b[0;34m=\u001b[0m\u001b[0;34m(\u001b[0m\u001b[0mevaluate_model\u001b[0m\u001b[0;34m(\u001b[0m\u001b[0meach\u001b[0m\u001b[0;34m)\u001b[0m\u001b[0;34m)\u001b[0m\u001b[0;34m\u001b[0m\u001b[0;34m\u001b[0m\u001b[0m\n\u001b[1;32m     15\u001b[0m     \u001b[0mresults\u001b[0m\u001b[0;34m.\u001b[0m\u001b[0mappend\u001b[0m\u001b[0;34m(\u001b[0m\u001b[0mscores\u001b[0m\u001b[0;34m)\u001b[0m\u001b[0;34m\u001b[0m\u001b[0;34m\u001b[0m\u001b[0m\n",
      "\u001b[0;31mAttributeError\u001b[0m: 'StackingRegressor' object has no attribute 'items'"
     ]
    }
   ],
   "source": [
    "# define the base models\n",
    "level0 = list()\n",
    "level0.append(('xgb', XGBRegressor(objective='reg:squarederror')))\n",
    "level0.append(('dtr', DecisionTreeRegressor()))\n",
    "level0.append(('lgbm', LGBMRegressor()))\n",
    "\n",
    "level1 = GradientBoostingRegressor()\n",
    "\n",
    "results = []\n",
    "names = []\n",
    "# define the stacking ensemble\n",
    "model = StackingRegressor(estimators=level0, final_estimator=level1, cv=3)\n",
    "for name,each in model.items:\n",
    "    score =(evaluate_model(each))\n",
    "    results.append(scores)\n",
    "    names.append(scores)\n",
    "\n",
    "plt.boxplot(results, labels=names, showmeans=True)\n",
    "plt.show()"
   ]
  },
  {
   "cell_type": "code",
   "execution_count": 56,
   "metadata": {
    "scrolled": true
   },
   "outputs": [
    {
     "name": "stdout",
     "output_type": "stream",
     "text": [
      "[13:47:33] WARNING: src/objective/regression_obj.cu:152: reg:linear is now deprecated in favor of reg:squarederror.\n"
     ]
    },
    {
     "ename": "KeyboardInterrupt",
     "evalue": "",
     "output_type": "error",
     "traceback": [
      "\u001b[0;31m---------------------------------------------------------------------------\u001b[0m",
      "\u001b[0;31mKeyboardInterrupt\u001b[0m                         Traceback (most recent call last)",
      "\u001b[0;32m<ipython-input-56-1d2c2948a15f>\u001b[0m in \u001b[0;36m<module>\u001b[0;34m\u001b[0m\n\u001b[0;32m----> 1\u001b[0;31m \u001b[0mmodel\u001b[0m\u001b[0;34m.\u001b[0m\u001b[0mfit\u001b[0m\u001b[0;34m(\u001b[0m\u001b[0mxtrain3\u001b[0m\u001b[0;34m,\u001b[0m \u001b[0mytrain3\u001b[0m\u001b[0;34m.\u001b[0m\u001b[0mravel\u001b[0m\u001b[0;34m(\u001b[0m\u001b[0;34m)\u001b[0m\u001b[0;34m)\u001b[0m\u001b[0;34m\u001b[0m\u001b[0;34m\u001b[0m\u001b[0m\n\u001b[0m",
      "\u001b[0;32m/usr/local/anaconda3/lib/python3.7/site-packages/sklearn/ensemble/_stacking.py\u001b[0m in \u001b[0;36mfit\u001b[0;34m(self, X, y, sample_weight)\u001b[0m\n\u001b[1;32m    641\u001b[0m         \"\"\"\n\u001b[1;32m    642\u001b[0m         \u001b[0my\u001b[0m \u001b[0;34m=\u001b[0m \u001b[0mcolumn_or_1d\u001b[0m\u001b[0;34m(\u001b[0m\u001b[0my\u001b[0m\u001b[0;34m,\u001b[0m \u001b[0mwarn\u001b[0m\u001b[0;34m=\u001b[0m\u001b[0;32mTrue\u001b[0m\u001b[0;34m)\u001b[0m\u001b[0;34m\u001b[0m\u001b[0;34m\u001b[0m\u001b[0m\n\u001b[0;32m--> 643\u001b[0;31m         \u001b[0;32mreturn\u001b[0m \u001b[0msuper\u001b[0m\u001b[0;34m(\u001b[0m\u001b[0;34m)\u001b[0m\u001b[0;34m.\u001b[0m\u001b[0mfit\u001b[0m\u001b[0;34m(\u001b[0m\u001b[0mX\u001b[0m\u001b[0;34m,\u001b[0m \u001b[0my\u001b[0m\u001b[0;34m,\u001b[0m \u001b[0msample_weight\u001b[0m\u001b[0;34m)\u001b[0m\u001b[0;34m\u001b[0m\u001b[0;34m\u001b[0m\u001b[0m\n\u001b[0m\u001b[1;32m    644\u001b[0m \u001b[0;34m\u001b[0m\u001b[0m\n\u001b[1;32m    645\u001b[0m     \u001b[0;32mdef\u001b[0m \u001b[0mtransform\u001b[0m\u001b[0;34m(\u001b[0m\u001b[0mself\u001b[0m\u001b[0;34m,\u001b[0m \u001b[0mX\u001b[0m\u001b[0;34m)\u001b[0m\u001b[0;34m:\u001b[0m\u001b[0;34m\u001b[0m\u001b[0;34m\u001b[0m\u001b[0m\n",
      "\u001b[0;32m/usr/local/anaconda3/lib/python3.7/site-packages/sklearn/ensemble/_stacking.py\u001b[0m in \u001b[0;36mfit\u001b[0;34m(self, X, y, sample_weight)\u001b[0m\n\u001b[1;32m    139\u001b[0m         self.estimators_ = Parallel(n_jobs=self.n_jobs)(\n\u001b[1;32m    140\u001b[0m             \u001b[0mdelayed\u001b[0m\u001b[0;34m(\u001b[0m\u001b[0m_parallel_fit_estimator\u001b[0m\u001b[0;34m)\u001b[0m\u001b[0;34m(\u001b[0m\u001b[0mclone\u001b[0m\u001b[0;34m(\u001b[0m\u001b[0mest\u001b[0m\u001b[0;34m)\u001b[0m\u001b[0;34m,\u001b[0m \u001b[0mX\u001b[0m\u001b[0;34m,\u001b[0m \u001b[0my\u001b[0m\u001b[0;34m,\u001b[0m \u001b[0msample_weight\u001b[0m\u001b[0;34m)\u001b[0m\u001b[0;34m\u001b[0m\u001b[0;34m\u001b[0m\u001b[0m\n\u001b[0;32m--> 141\u001b[0;31m             \u001b[0;32mfor\u001b[0m \u001b[0mest\u001b[0m \u001b[0;32min\u001b[0m \u001b[0mall_estimators\u001b[0m \u001b[0;32mif\u001b[0m \u001b[0mest\u001b[0m \u001b[0;34m!=\u001b[0m \u001b[0;34m'drop'\u001b[0m\u001b[0;34m\u001b[0m\u001b[0;34m\u001b[0m\u001b[0m\n\u001b[0m\u001b[1;32m    142\u001b[0m         )\n\u001b[1;32m    143\u001b[0m \u001b[0;34m\u001b[0m\u001b[0m\n",
      "\u001b[0;32m/usr/local/anaconda3/lib/python3.7/site-packages/joblib/parallel.py\u001b[0m in \u001b[0;36m__call__\u001b[0;34m(self, iterable)\u001b[0m\n\u001b[1;32m   1002\u001b[0m             \u001b[0;31m# remaining jobs.\u001b[0m\u001b[0;34m\u001b[0m\u001b[0;34m\u001b[0m\u001b[0;34m\u001b[0m\u001b[0m\n\u001b[1;32m   1003\u001b[0m             \u001b[0mself\u001b[0m\u001b[0;34m.\u001b[0m\u001b[0m_iterating\u001b[0m \u001b[0;34m=\u001b[0m \u001b[0;32mFalse\u001b[0m\u001b[0;34m\u001b[0m\u001b[0;34m\u001b[0m\u001b[0m\n\u001b[0;32m-> 1004\u001b[0;31m             \u001b[0;32mif\u001b[0m \u001b[0mself\u001b[0m\u001b[0;34m.\u001b[0m\u001b[0mdispatch_one_batch\u001b[0m\u001b[0;34m(\u001b[0m\u001b[0miterator\u001b[0m\u001b[0;34m)\u001b[0m\u001b[0;34m:\u001b[0m\u001b[0;34m\u001b[0m\u001b[0;34m\u001b[0m\u001b[0m\n\u001b[0m\u001b[1;32m   1005\u001b[0m                 \u001b[0mself\u001b[0m\u001b[0;34m.\u001b[0m\u001b[0m_iterating\u001b[0m \u001b[0;34m=\u001b[0m \u001b[0mself\u001b[0m\u001b[0;34m.\u001b[0m\u001b[0m_original_iterator\u001b[0m \u001b[0;32mis\u001b[0m \u001b[0;32mnot\u001b[0m \u001b[0;32mNone\u001b[0m\u001b[0;34m\u001b[0m\u001b[0;34m\u001b[0m\u001b[0m\n\u001b[1;32m   1006\u001b[0m \u001b[0;34m\u001b[0m\u001b[0m\n",
      "\u001b[0;32m/usr/local/anaconda3/lib/python3.7/site-packages/joblib/parallel.py\u001b[0m in \u001b[0;36mdispatch_one_batch\u001b[0;34m(self, iterator)\u001b[0m\n\u001b[1;32m    833\u001b[0m                 \u001b[0;32mreturn\u001b[0m \u001b[0;32mFalse\u001b[0m\u001b[0;34m\u001b[0m\u001b[0;34m\u001b[0m\u001b[0m\n\u001b[1;32m    834\u001b[0m             \u001b[0;32melse\u001b[0m\u001b[0;34m:\u001b[0m\u001b[0;34m\u001b[0m\u001b[0;34m\u001b[0m\u001b[0m\n\u001b[0;32m--> 835\u001b[0;31m                 \u001b[0mself\u001b[0m\u001b[0;34m.\u001b[0m\u001b[0m_dispatch\u001b[0m\u001b[0;34m(\u001b[0m\u001b[0mtasks\u001b[0m\u001b[0;34m)\u001b[0m\u001b[0;34m\u001b[0m\u001b[0;34m\u001b[0m\u001b[0m\n\u001b[0m\u001b[1;32m    836\u001b[0m                 \u001b[0;32mreturn\u001b[0m \u001b[0;32mTrue\u001b[0m\u001b[0;34m\u001b[0m\u001b[0;34m\u001b[0m\u001b[0m\n\u001b[1;32m    837\u001b[0m \u001b[0;34m\u001b[0m\u001b[0m\n",
      "\u001b[0;32m/usr/local/anaconda3/lib/python3.7/site-packages/joblib/parallel.py\u001b[0m in \u001b[0;36m_dispatch\u001b[0;34m(self, batch)\u001b[0m\n\u001b[1;32m    752\u001b[0m         \u001b[0;32mwith\u001b[0m \u001b[0mself\u001b[0m\u001b[0;34m.\u001b[0m\u001b[0m_lock\u001b[0m\u001b[0;34m:\u001b[0m\u001b[0;34m\u001b[0m\u001b[0;34m\u001b[0m\u001b[0m\n\u001b[1;32m    753\u001b[0m             \u001b[0mjob_idx\u001b[0m \u001b[0;34m=\u001b[0m \u001b[0mlen\u001b[0m\u001b[0;34m(\u001b[0m\u001b[0mself\u001b[0m\u001b[0;34m.\u001b[0m\u001b[0m_jobs\u001b[0m\u001b[0;34m)\u001b[0m\u001b[0;34m\u001b[0m\u001b[0;34m\u001b[0m\u001b[0m\n\u001b[0;32m--> 754\u001b[0;31m             \u001b[0mjob\u001b[0m \u001b[0;34m=\u001b[0m \u001b[0mself\u001b[0m\u001b[0;34m.\u001b[0m\u001b[0m_backend\u001b[0m\u001b[0;34m.\u001b[0m\u001b[0mapply_async\u001b[0m\u001b[0;34m(\u001b[0m\u001b[0mbatch\u001b[0m\u001b[0;34m,\u001b[0m \u001b[0mcallback\u001b[0m\u001b[0;34m=\u001b[0m\u001b[0mcb\u001b[0m\u001b[0;34m)\u001b[0m\u001b[0;34m\u001b[0m\u001b[0;34m\u001b[0m\u001b[0m\n\u001b[0m\u001b[1;32m    755\u001b[0m             \u001b[0;31m# A job can complete so quickly than its callback is\u001b[0m\u001b[0;34m\u001b[0m\u001b[0;34m\u001b[0m\u001b[0;34m\u001b[0m\u001b[0m\n\u001b[1;32m    756\u001b[0m             \u001b[0;31m# called before we get here, causing self._jobs to\u001b[0m\u001b[0;34m\u001b[0m\u001b[0;34m\u001b[0m\u001b[0;34m\u001b[0m\u001b[0m\n",
      "\u001b[0;32m/usr/local/anaconda3/lib/python3.7/site-packages/joblib/_parallel_backends.py\u001b[0m in \u001b[0;36mapply_async\u001b[0;34m(self, func, callback)\u001b[0m\n\u001b[1;32m    207\u001b[0m     \u001b[0;32mdef\u001b[0m \u001b[0mapply_async\u001b[0m\u001b[0;34m(\u001b[0m\u001b[0mself\u001b[0m\u001b[0;34m,\u001b[0m \u001b[0mfunc\u001b[0m\u001b[0;34m,\u001b[0m \u001b[0mcallback\u001b[0m\u001b[0;34m=\u001b[0m\u001b[0;32mNone\u001b[0m\u001b[0;34m)\u001b[0m\u001b[0;34m:\u001b[0m\u001b[0;34m\u001b[0m\u001b[0;34m\u001b[0m\u001b[0m\n\u001b[1;32m    208\u001b[0m         \u001b[0;34m\"\"\"Schedule a func to be run\"\"\"\u001b[0m\u001b[0;34m\u001b[0m\u001b[0;34m\u001b[0m\u001b[0m\n\u001b[0;32m--> 209\u001b[0;31m         \u001b[0mresult\u001b[0m \u001b[0;34m=\u001b[0m \u001b[0mImmediateResult\u001b[0m\u001b[0;34m(\u001b[0m\u001b[0mfunc\u001b[0m\u001b[0;34m)\u001b[0m\u001b[0;34m\u001b[0m\u001b[0;34m\u001b[0m\u001b[0m\n\u001b[0m\u001b[1;32m    210\u001b[0m         \u001b[0;32mif\u001b[0m \u001b[0mcallback\u001b[0m\u001b[0;34m:\u001b[0m\u001b[0;34m\u001b[0m\u001b[0;34m\u001b[0m\u001b[0m\n\u001b[1;32m    211\u001b[0m             \u001b[0mcallback\u001b[0m\u001b[0;34m(\u001b[0m\u001b[0mresult\u001b[0m\u001b[0;34m)\u001b[0m\u001b[0;34m\u001b[0m\u001b[0;34m\u001b[0m\u001b[0m\n",
      "\u001b[0;32m/usr/local/anaconda3/lib/python3.7/site-packages/joblib/_parallel_backends.py\u001b[0m in \u001b[0;36m__init__\u001b[0;34m(self, batch)\u001b[0m\n\u001b[1;32m    588\u001b[0m         \u001b[0;31m# Don't delay the application, to avoid keeping the input\u001b[0m\u001b[0;34m\u001b[0m\u001b[0;34m\u001b[0m\u001b[0;34m\u001b[0m\u001b[0m\n\u001b[1;32m    589\u001b[0m         \u001b[0;31m# arguments in memory\u001b[0m\u001b[0;34m\u001b[0m\u001b[0;34m\u001b[0m\u001b[0;34m\u001b[0m\u001b[0m\n\u001b[0;32m--> 590\u001b[0;31m         \u001b[0mself\u001b[0m\u001b[0;34m.\u001b[0m\u001b[0mresults\u001b[0m \u001b[0;34m=\u001b[0m \u001b[0mbatch\u001b[0m\u001b[0;34m(\u001b[0m\u001b[0;34m)\u001b[0m\u001b[0;34m\u001b[0m\u001b[0;34m\u001b[0m\u001b[0m\n\u001b[0m\u001b[1;32m    591\u001b[0m \u001b[0;34m\u001b[0m\u001b[0m\n\u001b[1;32m    592\u001b[0m     \u001b[0;32mdef\u001b[0m \u001b[0mget\u001b[0m\u001b[0;34m(\u001b[0m\u001b[0mself\u001b[0m\u001b[0;34m)\u001b[0m\u001b[0;34m:\u001b[0m\u001b[0;34m\u001b[0m\u001b[0;34m\u001b[0m\u001b[0m\n",
      "\u001b[0;32m/usr/local/anaconda3/lib/python3.7/site-packages/joblib/parallel.py\u001b[0m in \u001b[0;36m__call__\u001b[0;34m(self)\u001b[0m\n\u001b[1;32m    254\u001b[0m         \u001b[0;32mwith\u001b[0m \u001b[0mparallel_backend\u001b[0m\u001b[0;34m(\u001b[0m\u001b[0mself\u001b[0m\u001b[0;34m.\u001b[0m\u001b[0m_backend\u001b[0m\u001b[0;34m,\u001b[0m \u001b[0mn_jobs\u001b[0m\u001b[0;34m=\u001b[0m\u001b[0mself\u001b[0m\u001b[0;34m.\u001b[0m\u001b[0m_n_jobs\u001b[0m\u001b[0;34m)\u001b[0m\u001b[0;34m:\u001b[0m\u001b[0;34m\u001b[0m\u001b[0;34m\u001b[0m\u001b[0m\n\u001b[1;32m    255\u001b[0m             return [func(*args, **kwargs)\n\u001b[0;32m--> 256\u001b[0;31m                     for func, args, kwargs in self.items]\n\u001b[0m\u001b[1;32m    257\u001b[0m \u001b[0;34m\u001b[0m\u001b[0m\n\u001b[1;32m    258\u001b[0m     \u001b[0;32mdef\u001b[0m \u001b[0m__len__\u001b[0m\u001b[0;34m(\u001b[0m\u001b[0mself\u001b[0m\u001b[0;34m)\u001b[0m\u001b[0;34m:\u001b[0m\u001b[0;34m\u001b[0m\u001b[0;34m\u001b[0m\u001b[0m\n",
      "\u001b[0;32m/usr/local/anaconda3/lib/python3.7/site-packages/joblib/parallel.py\u001b[0m in \u001b[0;36m<listcomp>\u001b[0;34m(.0)\u001b[0m\n\u001b[1;32m    254\u001b[0m         \u001b[0;32mwith\u001b[0m \u001b[0mparallel_backend\u001b[0m\u001b[0;34m(\u001b[0m\u001b[0mself\u001b[0m\u001b[0;34m.\u001b[0m\u001b[0m_backend\u001b[0m\u001b[0;34m,\u001b[0m \u001b[0mn_jobs\u001b[0m\u001b[0;34m=\u001b[0m\u001b[0mself\u001b[0m\u001b[0;34m.\u001b[0m\u001b[0m_n_jobs\u001b[0m\u001b[0;34m)\u001b[0m\u001b[0;34m:\u001b[0m\u001b[0;34m\u001b[0m\u001b[0;34m\u001b[0m\u001b[0m\n\u001b[1;32m    255\u001b[0m             return [func(*args, **kwargs)\n\u001b[0;32m--> 256\u001b[0;31m                     for func, args, kwargs in self.items]\n\u001b[0m\u001b[1;32m    257\u001b[0m \u001b[0;34m\u001b[0m\u001b[0m\n\u001b[1;32m    258\u001b[0m     \u001b[0;32mdef\u001b[0m \u001b[0m__len__\u001b[0m\u001b[0;34m(\u001b[0m\u001b[0mself\u001b[0m\u001b[0;34m)\u001b[0m\u001b[0;34m:\u001b[0m\u001b[0;34m\u001b[0m\u001b[0;34m\u001b[0m\u001b[0m\n",
      "\u001b[0;32m/usr/local/anaconda3/lib/python3.7/site-packages/sklearn/ensemble/_base.py\u001b[0m in \u001b[0;36m_parallel_fit_estimator\u001b[0;34m(estimator, X, y, sample_weight)\u001b[0m\n\u001b[1;32m     34\u001b[0m             \u001b[0;32mraise\u001b[0m\u001b[0;34m\u001b[0m\u001b[0;34m\u001b[0m\u001b[0m\n\u001b[1;32m     35\u001b[0m     \u001b[0;32melse\u001b[0m\u001b[0;34m:\u001b[0m\u001b[0;34m\u001b[0m\u001b[0;34m\u001b[0m\u001b[0m\n\u001b[0;32m---> 36\u001b[0;31m         \u001b[0mestimator\u001b[0m\u001b[0;34m.\u001b[0m\u001b[0mfit\u001b[0m\u001b[0;34m(\u001b[0m\u001b[0mX\u001b[0m\u001b[0;34m,\u001b[0m \u001b[0my\u001b[0m\u001b[0;34m)\u001b[0m\u001b[0;34m\u001b[0m\u001b[0;34m\u001b[0m\u001b[0m\n\u001b[0m\u001b[1;32m     37\u001b[0m     \u001b[0;32mreturn\u001b[0m \u001b[0mestimator\u001b[0m\u001b[0;34m\u001b[0m\u001b[0;34m\u001b[0m\u001b[0m\n\u001b[1;32m     38\u001b[0m \u001b[0;34m\u001b[0m\u001b[0m\n",
      "\u001b[0;32m/usr/local/anaconda3/lib/python3.7/site-packages/xgboost/sklearn.py\u001b[0m in \u001b[0;36mfit\u001b[0;34m(self, X, y, sample_weight, eval_set, eval_metric, early_stopping_rounds, verbose, xgb_model, sample_weight_eval_set, callbacks)\u001b[0m\n\u001b[1;32m    394\u001b[0m                               \u001b[0mevals_result\u001b[0m\u001b[0;34m=\u001b[0m\u001b[0mevals_result\u001b[0m\u001b[0;34m,\u001b[0m \u001b[0mobj\u001b[0m\u001b[0;34m=\u001b[0m\u001b[0mobj\u001b[0m\u001b[0;34m,\u001b[0m \u001b[0mfeval\u001b[0m\u001b[0;34m=\u001b[0m\u001b[0mfeval\u001b[0m\u001b[0;34m,\u001b[0m\u001b[0;34m\u001b[0m\u001b[0;34m\u001b[0m\u001b[0m\n\u001b[1;32m    395\u001b[0m                               \u001b[0mverbose_eval\u001b[0m\u001b[0;34m=\u001b[0m\u001b[0mverbose\u001b[0m\u001b[0;34m,\u001b[0m \u001b[0mxgb_model\u001b[0m\u001b[0;34m=\u001b[0m\u001b[0mxgb_model\u001b[0m\u001b[0;34m,\u001b[0m\u001b[0;34m\u001b[0m\u001b[0;34m\u001b[0m\u001b[0m\n\u001b[0;32m--> 396\u001b[0;31m                               callbacks=callbacks)\n\u001b[0m\u001b[1;32m    397\u001b[0m \u001b[0;34m\u001b[0m\u001b[0m\n\u001b[1;32m    398\u001b[0m         \u001b[0;32mif\u001b[0m \u001b[0mevals_result\u001b[0m\u001b[0;34m:\u001b[0m\u001b[0;34m\u001b[0m\u001b[0;34m\u001b[0m\u001b[0m\n",
      "\u001b[0;32m/usr/local/anaconda3/lib/python3.7/site-packages/xgboost/training.py\u001b[0m in \u001b[0;36mtrain\u001b[0;34m(params, dtrain, num_boost_round, evals, obj, feval, maximize, early_stopping_rounds, evals_result, verbose_eval, xgb_model, callbacks, learning_rates)\u001b[0m\n\u001b[1;32m    214\u001b[0m                            \u001b[0mevals\u001b[0m\u001b[0;34m=\u001b[0m\u001b[0mevals\u001b[0m\u001b[0;34m,\u001b[0m\u001b[0;34m\u001b[0m\u001b[0;34m\u001b[0m\u001b[0m\n\u001b[1;32m    215\u001b[0m                            \u001b[0mobj\u001b[0m\u001b[0;34m=\u001b[0m\u001b[0mobj\u001b[0m\u001b[0;34m,\u001b[0m \u001b[0mfeval\u001b[0m\u001b[0;34m=\u001b[0m\u001b[0mfeval\u001b[0m\u001b[0;34m,\u001b[0m\u001b[0;34m\u001b[0m\u001b[0;34m\u001b[0m\u001b[0m\n\u001b[0;32m--> 216\u001b[0;31m                            xgb_model=xgb_model, callbacks=callbacks)\n\u001b[0m\u001b[1;32m    217\u001b[0m \u001b[0;34m\u001b[0m\u001b[0m\n\u001b[1;32m    218\u001b[0m \u001b[0;34m\u001b[0m\u001b[0m\n",
      "\u001b[0;32m/usr/local/anaconda3/lib/python3.7/site-packages/xgboost/training.py\u001b[0m in \u001b[0;36m_train_internal\u001b[0;34m(params, dtrain, num_boost_round, evals, obj, feval, xgb_model, callbacks)\u001b[0m\n\u001b[1;32m     72\u001b[0m         \u001b[0;31m# Skip the first update if it is a recovery step.\u001b[0m\u001b[0;34m\u001b[0m\u001b[0;34m\u001b[0m\u001b[0;34m\u001b[0m\u001b[0m\n\u001b[1;32m     73\u001b[0m         \u001b[0;32mif\u001b[0m \u001b[0mversion\u001b[0m \u001b[0;34m%\u001b[0m \u001b[0;36m2\u001b[0m \u001b[0;34m==\u001b[0m \u001b[0;36m0\u001b[0m\u001b[0;34m:\u001b[0m\u001b[0;34m\u001b[0m\u001b[0;34m\u001b[0m\u001b[0m\n\u001b[0;32m---> 74\u001b[0;31m             \u001b[0mbst\u001b[0m\u001b[0;34m.\u001b[0m\u001b[0mupdate\u001b[0m\u001b[0;34m(\u001b[0m\u001b[0mdtrain\u001b[0m\u001b[0;34m,\u001b[0m \u001b[0mi\u001b[0m\u001b[0;34m,\u001b[0m \u001b[0mobj\u001b[0m\u001b[0;34m)\u001b[0m\u001b[0;34m\u001b[0m\u001b[0;34m\u001b[0m\u001b[0m\n\u001b[0m\u001b[1;32m     75\u001b[0m             \u001b[0mbst\u001b[0m\u001b[0;34m.\u001b[0m\u001b[0msave_rabit_checkpoint\u001b[0m\u001b[0;34m(\u001b[0m\u001b[0;34m)\u001b[0m\u001b[0;34m\u001b[0m\u001b[0;34m\u001b[0m\u001b[0m\n\u001b[1;32m     76\u001b[0m             \u001b[0mversion\u001b[0m \u001b[0;34m+=\u001b[0m \u001b[0;36m1\u001b[0m\u001b[0;34m\u001b[0m\u001b[0;34m\u001b[0m\u001b[0m\n",
      "\u001b[0;32m/usr/local/anaconda3/lib/python3.7/site-packages/xgboost/core.py\u001b[0m in \u001b[0;36mupdate\u001b[0;34m(self, dtrain, iteration, fobj)\u001b[0m\n\u001b[1;32m   1107\u001b[0m         \u001b[0;32mif\u001b[0m \u001b[0mfobj\u001b[0m \u001b[0;32mis\u001b[0m \u001b[0;32mNone\u001b[0m\u001b[0;34m:\u001b[0m\u001b[0;34m\u001b[0m\u001b[0;34m\u001b[0m\u001b[0m\n\u001b[1;32m   1108\u001b[0m             _check_call(_LIB.XGBoosterUpdateOneIter(self.handle, ctypes.c_int(iteration),\n\u001b[0;32m-> 1109\u001b[0;31m                                                     dtrain.handle))\n\u001b[0m\u001b[1;32m   1110\u001b[0m         \u001b[0;32melse\u001b[0m\u001b[0;34m:\u001b[0m\u001b[0;34m\u001b[0m\u001b[0;34m\u001b[0m\u001b[0m\n\u001b[1;32m   1111\u001b[0m             \u001b[0mpred\u001b[0m \u001b[0;34m=\u001b[0m \u001b[0mself\u001b[0m\u001b[0;34m.\u001b[0m\u001b[0mpredict\u001b[0m\u001b[0;34m(\u001b[0m\u001b[0mdtrain\u001b[0m\u001b[0;34m)\u001b[0m\u001b[0;34m\u001b[0m\u001b[0;34m\u001b[0m\u001b[0m\n",
      "\u001b[0;31mKeyboardInterrupt\u001b[0m: "
     ]
    }
   ],
   "source": [
    "model.fit(xtrain3, ytrain3.ravel())"
   ]
  },
  {
   "cell_type": "code",
   "execution_count": 46,
   "metadata": {},
   "outputs": [
    {
     "data": {
      "text/plain": [
       "(Index(['Reputation', 'Answers', 'Views', 'a', 'c', 'h', 'i', 'j', 'o', 'p',\n",
       "        'r', 's', 'x'],\n",
       "       dtype='object'),\n",
       " Index(['Reputation', 'Answers', 'Views', 'c', 'h', 'i', 'j', 'o', 'p', 'r',\n",
       "        's', 'x'],\n",
       "       dtype='object'))"
      ]
     },
     "execution_count": 46,
     "metadata": {},
     "output_type": "execute_result"
    }
   ],
   "source": [
    "(xtrain2.columns, xtest2.columns)"
   ]
  },
  {
   "cell_type": "code",
   "execution_count": null,
   "metadata": {},
   "outputs": [],
   "source": []
  },
  {
   "cell_type": "code",
   "execution_count": 84,
   "metadata": {},
   "outputs": [
    {
     "data": {
      "text/plain": [
       "(array([1165.06815107, 2286.37586933, 2465.26547913, 3282.74785685,\n",
       "        1370.94583863, 2818.7190982 , 1141.06415942, 2803.65036038,\n",
       "        2454.80973422, 1586.95214958, 1886.49968444, 1921.18475047,\n",
       "        1859.02101977, 1029.72449816, 1505.8270306 , 2749.7356482 ,\n",
       "        1422.73764374, 1254.13814629, 1733.29347898, 2854.27501987]),\n",
       " 1979.601780865764)"
      ]
     },
     "execution_count": 84,
     "metadata": {},
     "output_type": "execute_result"
    }
   ],
   "source": [
    "reg = LGBMRegressor(n_estimators = 200)\n",
    "X = xtrain2\n",
    "y = ytrain2\n",
    "cv_score = (cross_val_score(reg, X,y, cv = 20, scoring='neg_root_mean_squared_error'))\n",
    "cv_score = np.array(cv_score)\n",
    "cv_score = cv_score * -1\n",
    "cv_score, np.mean(cv_score)"
   ]
  },
  {
   "cell_type": "code",
   "execution_count": null,
   "metadata": {},
   "outputs": [],
   "source": []
  },
  {
   "cell_type": "code",
   "execution_count": null,
   "metadata": {},
   "outputs": [],
   "source": []
  },
  {
   "cell_type": "markdown",
   "metadata": {},
   "source": [
    " ## CatBoost"
   ]
  },
  {
   "cell_type": "code",
   "execution_count": 86,
   "metadata": {
    "collapsed": true
   },
   "outputs": [
    {
     "name": "stdout",
     "output_type": "stream",
     "text": [
      "Collecting catboost\n",
      "  Downloading catboost-0.23.2-cp37-none-macosx_10_6_intel.macosx_10_9_intel.macosx_10_9_x86_64.macosx_10_10_intel.macosx_10_10_x86_64.whl (10.9 MB)\n",
      "\u001b[K     |████████████████████████████████| 10.9 MB 3.5 MB/s eta 0:00:01\n",
      "\u001b[?25hRequirement already satisfied: pandas>=0.24.0 in /usr/local/anaconda3/lib/python3.7/site-packages (from catboost) (1.0.1)\n",
      "Requirement already satisfied: scipy in /usr/local/anaconda3/lib/python3.7/site-packages (from catboost) (1.4.1)\n",
      "Requirement already satisfied: matplotlib in /usr/local/anaconda3/lib/python3.7/site-packages (from catboost) (3.1.3)\n",
      "Collecting graphviz\n",
      "  Downloading graphviz-0.14-py2.py3-none-any.whl (18 kB)\n",
      "Requirement already satisfied: numpy>=1.16.0 in /usr/local/anaconda3/lib/python3.7/site-packages (from catboost) (1.18.1)\n",
      "Collecting plotly\n",
      "  Downloading plotly-4.8.1-py2.py3-none-any.whl (11.5 MB)\n",
      "\u001b[K     |████████████████████████████████| 11.5 MB 13.9 MB/s eta 0:00:01\n",
      "\u001b[?25hRequirement already satisfied: six in /usr/local/anaconda3/lib/python3.7/site-packages (from catboost) (1.14.0)\n",
      "Requirement already satisfied: python-dateutil>=2.6.1 in /usr/local/anaconda3/lib/python3.7/site-packages (from pandas>=0.24.0->catboost) (2.8.1)\n",
      "Requirement already satisfied: pytz>=2017.2 in /usr/local/anaconda3/lib/python3.7/site-packages (from pandas>=0.24.0->catboost) (2019.3)\n",
      "Requirement already satisfied: cycler>=0.10 in /usr/local/anaconda3/lib/python3.7/site-packages (from matplotlib->catboost) (0.10.0)\n",
      "Requirement already satisfied: pyparsing!=2.0.4,!=2.1.2,!=2.1.6,>=2.0.1 in /usr/local/anaconda3/lib/python3.7/site-packages (from matplotlib->catboost) (2.4.6)\n",
      "Requirement already satisfied: kiwisolver>=1.0.1 in /usr/local/anaconda3/lib/python3.7/site-packages (from matplotlib->catboost) (1.1.0)\n",
      "Collecting retrying>=1.3.3\n",
      "  Downloading retrying-1.3.3.tar.gz (10 kB)\n",
      "Requirement already satisfied: setuptools in /usr/local/anaconda3/lib/python3.7/site-packages (from kiwisolver>=1.0.1->matplotlib->catboost) (46.0.0.post20200309)\n",
      "Building wheels for collected packages: retrying\n",
      "  Building wheel for retrying (setup.py) ... \u001b[?25ldone\n",
      "\u001b[?25h  Created wheel for retrying: filename=retrying-1.3.3-py3-none-any.whl size=11430 sha256=d4fc9c45f3a5ec7affefdc0686128783fb516d9002a9199132eae2215c028d09\n",
      "  Stored in directory: /Users/aadarsh/Library/Caches/pip/wheels/f9/8d/8d/f6af3f7f9eea3553bc2fe6d53e4b287dad18b06a861ac56ddf\n",
      "Successfully built retrying\n",
      "Installing collected packages: graphviz, retrying, plotly, catboost\n",
      "Successfully installed catboost-0.23.2 graphviz-0.14 plotly-4.8.1 retrying-1.3.3\n",
      "Note: you may need to restart the kernel to use updated packages.\n"
     ]
    }
   ],
   "source": [
    "pip install catboost"
   ]
  },
  {
   "cell_type": "code",
   "execution_count": null,
   "metadata": {},
   "outputs": [],
   "source": []
  },
  {
   "cell_type": "code",
   "execution_count": 87,
   "metadata": {},
   "outputs": [],
   "source": [
    "from catboost import CatBoostRegressor"
   ]
  },
  {
   "cell_type": "code",
   "execution_count": 166,
   "metadata": {},
   "outputs": [],
   "source": [
    "cat_reg = CatBoostRegressor(iterations=20, depth=8, learning_rate=0.1, loss_function='RMSE', l2_leaf_reg = 1.25)"
   ]
  },
  {
   "cell_type": "code",
   "execution_count": 167,
   "metadata": {
    "scrolled": true
   },
   "outputs": [
    {
     "name": "stdout",
     "output_type": "stream",
     "text": [
      "0:\tlearn: 3375.2554239\ttotal: 24.3ms\tremaining: 461ms\n",
      "1:\tlearn: 3156.6097253\ttotal: 44ms\tremaining: 396ms\n",
      "2:\tlearn: 2966.5256329\ttotal: 61.2ms\tremaining: 347ms\n",
      "3:\tlearn: 2784.8090495\ttotal: 77.9ms\tremaining: 312ms\n",
      "4:\tlearn: 2632.3288392\ttotal: 96.4ms\tremaining: 289ms\n",
      "5:\tlearn: 2488.8819059\ttotal: 111ms\tremaining: 259ms\n",
      "6:\tlearn: 2368.4151676\ttotal: 125ms\tremaining: 233ms\n",
      "7:\tlearn: 2246.7987529\ttotal: 140ms\tremaining: 210ms\n",
      "8:\tlearn: 2147.0874192\ttotal: 153ms\tremaining: 187ms\n",
      "9:\tlearn: 2057.7817317\ttotal: 167ms\tremaining: 167ms\n",
      "10:\tlearn: 1978.3275031\ttotal: 181ms\tremaining: 148ms\n",
      "11:\tlearn: 1899.2335729\ttotal: 195ms\tremaining: 130ms\n",
      "12:\tlearn: 1837.8687969\ttotal: 210ms\tremaining: 113ms\n",
      "13:\tlearn: 1775.7208710\ttotal: 224ms\tremaining: 96.1ms\n",
      "14:\tlearn: 1725.5327566\ttotal: 244ms\tremaining: 81.4ms\n",
      "15:\tlearn: 1675.9543100\ttotal: 265ms\tremaining: 66.4ms\n",
      "16:\tlearn: 1630.9129626\ttotal: 285ms\tremaining: 50.4ms\n",
      "17:\tlearn: 1595.8945280\ttotal: 307ms\tremaining: 34.1ms\n",
      "18:\tlearn: 1563.2757112\ttotal: 324ms\tremaining: 17.1ms\n",
      "19:\tlearn: 1533.0680456\ttotal: 339ms\tremaining: 0us\n",
      "0:\tlearn: 3132.6026924\ttotal: 26.2ms\tremaining: 498ms\n",
      "1:\tlearn: 2936.7558300\ttotal: 44.6ms\tremaining: 401ms\n",
      "2:\tlearn: 2758.3505619\ttotal: 58.2ms\tremaining: 330ms\n",
      "3:\tlearn: 2599.6055950\ttotal: 71.2ms\tremaining: 285ms\n",
      "4:\tlearn: 2465.8855025\ttotal: 84.6ms\tremaining: 254ms\n",
      "5:\tlearn: 2348.0767701\ttotal: 98.6ms\tremaining: 230ms\n",
      "6:\tlearn: 2244.3867064\ttotal: 112ms\tremaining: 208ms\n",
      "7:\tlearn: 2144.9876409\ttotal: 127ms\tremaining: 190ms\n",
      "8:\tlearn: 2057.2052163\ttotal: 139ms\tremaining: 170ms\n",
      "9:\tlearn: 1981.1485727\ttotal: 154ms\tremaining: 154ms\n",
      "10:\tlearn: 1914.6535881\ttotal: 167ms\tremaining: 137ms\n",
      "11:\tlearn: 1855.3482900\ttotal: 187ms\tremaining: 124ms\n",
      "12:\tlearn: 1802.8635565\ttotal: 203ms\tremaining: 109ms\n",
      "13:\tlearn: 1745.6577407\ttotal: 216ms\tremaining: 92.6ms\n",
      "14:\tlearn: 1700.8478628\ttotal: 236ms\tremaining: 78.6ms\n",
      "15:\tlearn: 1659.1951949\ttotal: 258ms\tremaining: 64.4ms\n",
      "16:\tlearn: 1615.4952665\ttotal: 278ms\tremaining: 49ms\n",
      "17:\tlearn: 1583.8697772\ttotal: 302ms\tremaining: 33.6ms\n",
      "18:\tlearn: 1546.0215445\ttotal: 324ms\tremaining: 17.1ms\n",
      "19:\tlearn: 1515.9073699\ttotal: 345ms\tremaining: 0us\n",
      "0:\tlearn: 3272.9220180\ttotal: 22.6ms\tremaining: 430ms\n",
      "1:\tlearn: 3066.2098026\ttotal: 38.1ms\tremaining: 343ms\n",
      "2:\tlearn: 2877.7709196\ttotal: 52.8ms\tremaining: 299ms\n",
      "3:\tlearn: 2714.4608522\ttotal: 67.3ms\tremaining: 269ms\n",
      "4:\tlearn: 2563.4307780\ttotal: 81ms\tremaining: 243ms\n",
      "5:\tlearn: 2434.4288055\ttotal: 96.4ms\tremaining: 225ms\n",
      "6:\tlearn: 2318.6795781\ttotal: 111ms\tremaining: 205ms\n",
      "7:\tlearn: 2214.8172809\ttotal: 125ms\tremaining: 188ms\n",
      "8:\tlearn: 2117.5970846\ttotal: 138ms\tremaining: 169ms\n",
      "9:\tlearn: 2033.0730770\ttotal: 152ms\tremaining: 152ms\n",
      "10:\tlearn: 1955.9889137\ttotal: 165ms\tremaining: 135ms\n",
      "11:\tlearn: 1882.9782995\ttotal: 182ms\tremaining: 121ms\n",
      "12:\tlearn: 1825.3029842\ttotal: 196ms\tremaining: 105ms\n",
      "13:\tlearn: 1771.7329220\ttotal: 211ms\tremaining: 90.3ms\n",
      "14:\tlearn: 1724.2293176\ttotal: 226ms\tremaining: 75.5ms\n",
      "15:\tlearn: 1679.9631945\ttotal: 248ms\tremaining: 62ms\n",
      "16:\tlearn: 1636.5066110\ttotal: 264ms\tremaining: 46.6ms\n",
      "17:\tlearn: 1598.5017908\ttotal: 277ms\tremaining: 30.8ms\n",
      "18:\tlearn: 1561.9271506\ttotal: 291ms\tremaining: 15.3ms\n",
      "19:\tlearn: 1531.6060607\ttotal: 304ms\tremaining: 0us\n",
      "0:\tlearn: 3447.4853621\ttotal: 21.7ms\tremaining: 412ms\n",
      "1:\tlearn: 3222.4281786\ttotal: 44.2ms\tremaining: 397ms\n",
      "2:\tlearn: 3025.8578072\ttotal: 57.9ms\tremaining: 328ms\n",
      "3:\tlearn: 2851.3873438\ttotal: 72.3ms\tremaining: 289ms\n",
      "4:\tlearn: 2688.5279432\ttotal: 85.6ms\tremaining: 257ms\n",
      "5:\tlearn: 2545.9308682\ttotal: 98.6ms\tremaining: 230ms\n",
      "6:\tlearn: 2417.0415086\ttotal: 112ms\tremaining: 207ms\n",
      "7:\tlearn: 2300.3924720\ttotal: 126ms\tremaining: 190ms\n",
      "8:\tlearn: 2200.5980757\ttotal: 140ms\tremaining: 171ms\n",
      "9:\tlearn: 2110.9112002\ttotal: 154ms\tremaining: 154ms\n",
      "10:\tlearn: 2030.0477681\ttotal: 167ms\tremaining: 137ms\n",
      "11:\tlearn: 1958.8265115\ttotal: 181ms\tremaining: 120ms\n",
      "12:\tlearn: 1895.9952433\ttotal: 194ms\tremaining: 104ms\n",
      "13:\tlearn: 1837.8037387\ttotal: 207ms\tremaining: 88.6ms\n",
      "14:\tlearn: 1788.7905005\ttotal: 220ms\tremaining: 73.4ms\n",
      "15:\tlearn: 1742.5866114\ttotal: 240ms\tremaining: 60.1ms\n",
      "16:\tlearn: 1704.9087430\ttotal: 258ms\tremaining: 45.6ms\n",
      "17:\tlearn: 1666.9989583\ttotal: 271ms\tremaining: 30.1ms\n",
      "18:\tlearn: 1633.3700001\ttotal: 284ms\tremaining: 15ms\n",
      "19:\tlearn: 1603.7734773\ttotal: 299ms\tremaining: 0us\n",
      "0:\tlearn: 3358.5142716\ttotal: 22.3ms\tremaining: 424ms\n",
      "1:\tlearn: 3137.1342094\ttotal: 44.7ms\tremaining: 402ms\n",
      "2:\tlearn: 2942.0336503\ttotal: 59.2ms\tremaining: 335ms\n",
      "3:\tlearn: 2762.6527465\ttotal: 72.5ms\tremaining: 290ms\n",
      "4:\tlearn: 2603.3693786\ttotal: 87ms\tremaining: 261ms\n",
      "5:\tlearn: 2464.4159100\ttotal: 101ms\tremaining: 237ms\n",
      "6:\tlearn: 2340.2707144\ttotal: 114ms\tremaining: 212ms\n",
      "7:\tlearn: 2224.5757614\ttotal: 128ms\tremaining: 192ms\n",
      "8:\tlearn: 2126.1477822\ttotal: 141ms\tremaining: 172ms\n",
      "9:\tlearn: 2035.8747477\ttotal: 159ms\tremaining: 159ms\n",
      "10:\tlearn: 1956.7280270\ttotal: 174ms\tremaining: 142ms\n",
      "11:\tlearn: 1885.7662284\ttotal: 187ms\tremaining: 125ms\n",
      "12:\tlearn: 1826.6335596\ttotal: 202ms\tremaining: 109ms\n",
      "13:\tlearn: 1769.9882772\ttotal: 215ms\tremaining: 92.1ms\n",
      "14:\tlearn: 1719.7687410\ttotal: 234ms\tremaining: 78ms\n",
      "15:\tlearn: 1671.9855793\ttotal: 255ms\tremaining: 63.7ms\n",
      "16:\tlearn: 1632.5923515\ttotal: 269ms\tremaining: 47.5ms\n",
      "17:\tlearn: 1596.1106679\ttotal: 282ms\tremaining: 31.4ms\n",
      "18:\tlearn: 1556.2284244\ttotal: 297ms\tremaining: 15.6ms\n",
      "19:\tlearn: 1522.5329748\ttotal: 310ms\tremaining: 0us\n",
      "0:\tlearn: 3419.5982965\ttotal: 21.5ms\tremaining: 408ms\n",
      "1:\tlearn: 3192.5432310\ttotal: 44.3ms\tremaining: 398ms\n",
      "2:\tlearn: 2994.3584207\ttotal: 60ms\tremaining: 340ms\n",
      "3:\tlearn: 2812.0356120\ttotal: 73.4ms\tremaining: 294ms\n",
      "4:\tlearn: 2654.3329782\ttotal: 86.7ms\tremaining: 260ms\n",
      "5:\tlearn: 2506.0698186\ttotal: 99.5ms\tremaining: 232ms\n",
      "6:\tlearn: 2375.7813539\ttotal: 113ms\tremaining: 210ms\n",
      "7:\tlearn: 2257.4342658\ttotal: 128ms\tremaining: 192ms\n",
      "8:\tlearn: 2156.0512237\ttotal: 143ms\tremaining: 175ms\n",
      "9:\tlearn: 2067.8567786\ttotal: 158ms\tremaining: 158ms\n",
      "10:\tlearn: 1986.2450309\ttotal: 171ms\tremaining: 140ms\n",
      "11:\tlearn: 1911.5337162\ttotal: 185ms\tremaining: 123ms\n",
      "12:\tlearn: 1846.5781327\ttotal: 198ms\tremaining: 107ms\n",
      "13:\tlearn: 1789.1564803\ttotal: 211ms\tremaining: 90.6ms\n",
      "14:\tlearn: 1735.3035859\ttotal: 230ms\tremaining: 76.5ms\n",
      "15:\tlearn: 1680.5568257\ttotal: 250ms\tremaining: 62.6ms\n",
      "16:\tlearn: 1635.3143155\ttotal: 264ms\tremaining: 46.6ms\n",
      "17:\tlearn: 1598.2763486\ttotal: 280ms\tremaining: 31.1ms\n",
      "18:\tlearn: 1561.9075461\ttotal: 294ms\tremaining: 15.5ms\n",
      "19:\tlearn: 1531.5194457\ttotal: 309ms\tremaining: 0us\n",
      "0:\tlearn: 3394.1632897\ttotal: 22.2ms\tremaining: 421ms\n",
      "1:\tlearn: 3172.6826296\ttotal: 44.9ms\tremaining: 404ms\n",
      "2:\tlearn: 2975.4038511\ttotal: 59.7ms\tremaining: 338ms\n",
      "3:\tlearn: 2795.8388253\ttotal: 74.7ms\tremaining: 299ms\n",
      "4:\tlearn: 2638.2845163\ttotal: 89.7ms\tremaining: 269ms\n",
      "5:\tlearn: 2497.7322192\ttotal: 103ms\tremaining: 241ms\n",
      "6:\tlearn: 2367.8798697\ttotal: 122ms\tremaining: 226ms\n",
      "7:\tlearn: 2253.1100274\ttotal: 135ms\tremaining: 203ms\n",
      "8:\tlearn: 2150.7213032\ttotal: 148ms\tremaining: 181ms\n",
      "9:\tlearn: 2059.9441487\ttotal: 163ms\tremaining: 163ms\n",
      "10:\tlearn: 1979.0446912\ttotal: 176ms\tremaining: 144ms\n",
      "11:\tlearn: 1907.8853249\ttotal: 191ms\tremaining: 127ms\n",
      "12:\tlearn: 1842.7443106\ttotal: 206ms\tremaining: 111ms\n",
      "13:\tlearn: 1782.7947361\ttotal: 221ms\tremaining: 94.6ms\n",
      "14:\tlearn: 1728.3448550\ttotal: 243ms\tremaining: 80.9ms\n",
      "15:\tlearn: 1681.1587775\ttotal: 261ms\tremaining: 65.3ms\n",
      "16:\tlearn: 1640.8998840\ttotal: 275ms\tremaining: 48.5ms\n",
      "17:\tlearn: 1605.7117881\ttotal: 290ms\tremaining: 32.2ms\n",
      "18:\tlearn: 1575.5925224\ttotal: 304ms\tremaining: 16ms\n",
      "19:\tlearn: 1542.6612047\ttotal: 318ms\tremaining: 0us\n",
      "0:\tlearn: 3414.9962157\ttotal: 28.2ms\tremaining: 537ms\n",
      "1:\tlearn: 3189.6416662\ttotal: 52ms\tremaining: 468ms\n",
      "2:\tlearn: 2995.0798996\ttotal: 93ms\tremaining: 527ms\n",
      "3:\tlearn: 2814.3083250\ttotal: 121ms\tremaining: 486ms\n",
      "4:\tlearn: 2657.6446201\ttotal: 147ms\tremaining: 440ms\n",
      "5:\tlearn: 2514.2071223\ttotal: 162ms\tremaining: 377ms\n",
      "6:\tlearn: 2385.3956045\ttotal: 176ms\tremaining: 327ms\n",
      "7:\tlearn: 2271.0574926\ttotal: 191ms\tremaining: 287ms\n",
      "8:\tlearn: 2168.5483720\ttotal: 205ms\tremaining: 250ms\n",
      "9:\tlearn: 2075.1457392\ttotal: 219ms\tremaining: 219ms\n",
      "10:\tlearn: 1990.4455868\ttotal: 234ms\tremaining: 191ms\n",
      "11:\tlearn: 1915.1336770\ttotal: 254ms\tremaining: 169ms\n",
      "12:\tlearn: 1852.8823537\ttotal: 279ms\tremaining: 150ms\n",
      "13:\tlearn: 1796.1011145\ttotal: 293ms\tremaining: 126ms\n",
      "14:\tlearn: 1740.3785486\ttotal: 307ms\tremaining: 102ms\n",
      "15:\tlearn: 1692.7457528\ttotal: 320ms\tremaining: 80.1ms\n",
      "16:\tlearn: 1648.0911765\ttotal: 334ms\tremaining: 58.9ms\n",
      "17:\tlearn: 1609.3312934\ttotal: 349ms\tremaining: 38.7ms\n",
      "18:\tlearn: 1575.1208580\ttotal: 362ms\tremaining: 19.1ms\n",
      "19:\tlearn: 1543.1143953\ttotal: 376ms\tremaining: 0us\n"
     ]
    },
    {
     "name": "stdout",
     "output_type": "stream",
     "text": [
      "0:\tlearn: 3421.5175738\ttotal: 20ms\tremaining: 379ms\n",
      "1:\tlearn: 3195.3667439\ttotal: 34.9ms\tremaining: 314ms\n",
      "2:\tlearn: 3000.4875340\ttotal: 50.3ms\tremaining: 285ms\n",
      "3:\tlearn: 2816.8920690\ttotal: 63.7ms\tremaining: 255ms\n",
      "4:\tlearn: 2657.6174402\ttotal: 76.7ms\tremaining: 230ms\n",
      "5:\tlearn: 2507.9327209\ttotal: 92.6ms\tremaining: 216ms\n",
      "6:\tlearn: 2377.3328085\ttotal: 109ms\tremaining: 203ms\n",
      "7:\tlearn: 2261.3720828\ttotal: 125ms\tremaining: 188ms\n",
      "8:\tlearn: 2161.0903909\ttotal: 143ms\tremaining: 174ms\n",
      "9:\tlearn: 2069.4273243\ttotal: 159ms\tremaining: 159ms\n",
      "10:\tlearn: 1996.1020315\ttotal: 176ms\tremaining: 144ms\n",
      "11:\tlearn: 1923.0189591\ttotal: 192ms\tremaining: 128ms\n",
      "12:\tlearn: 1856.5236001\ttotal: 207ms\tremaining: 111ms\n",
      "13:\tlearn: 1799.5125562\ttotal: 225ms\tremaining: 96.3ms\n",
      "14:\tlearn: 1750.5432141\ttotal: 243ms\tremaining: 80.9ms\n",
      "15:\tlearn: 1700.4870951\ttotal: 261ms\tremaining: 65.3ms\n",
      "16:\tlearn: 1655.9957730\ttotal: 280ms\tremaining: 49.5ms\n",
      "17:\tlearn: 1619.6700617\ttotal: 297ms\tremaining: 33ms\n",
      "18:\tlearn: 1589.0950539\ttotal: 315ms\tremaining: 16.6ms\n",
      "19:\tlearn: 1554.2678316\ttotal: 332ms\tremaining: 0us\n",
      "0:\tlearn: 3260.3782081\ttotal: 21.5ms\tremaining: 409ms\n",
      "1:\tlearn: 3054.5512337\ttotal: 37.1ms\tremaining: 334ms\n",
      "2:\tlearn: 2874.4091935\ttotal: 50.9ms\tremaining: 288ms\n",
      "3:\tlearn: 2709.7785760\ttotal: 64.6ms\tremaining: 259ms\n",
      "4:\tlearn: 2557.7552657\ttotal: 79.2ms\tremaining: 238ms\n",
      "5:\tlearn: 2428.7209397\ttotal: 95.8ms\tremaining: 224ms\n",
      "6:\tlearn: 2309.6128004\ttotal: 113ms\tremaining: 210ms\n",
      "7:\tlearn: 2206.0910340\ttotal: 130ms\tremaining: 195ms\n",
      "8:\tlearn: 2111.8661057\ttotal: 146ms\tremaining: 178ms\n",
      "9:\tlearn: 2028.1486579\ttotal: 161ms\tremaining: 161ms\n",
      "10:\tlearn: 1953.4937918\ttotal: 177ms\tremaining: 145ms\n",
      "11:\tlearn: 1885.0088150\ttotal: 193ms\tremaining: 129ms\n",
      "12:\tlearn: 1829.6569933\ttotal: 209ms\tremaining: 113ms\n",
      "13:\tlearn: 1774.3318716\ttotal: 225ms\tremaining: 96.6ms\n",
      "14:\tlearn: 1727.6930393\ttotal: 242ms\tremaining: 80.6ms\n",
      "15:\tlearn: 1687.2497884\ttotal: 262ms\tremaining: 65.4ms\n",
      "16:\tlearn: 1644.1351613\ttotal: 278ms\tremaining: 49ms\n",
      "17:\tlearn: 1610.0346839\ttotal: 291ms\tremaining: 32.3ms\n",
      "18:\tlearn: 1579.8207254\ttotal: 304ms\tremaining: 16ms\n",
      "19:\tlearn: 1551.6478576\ttotal: 319ms\tremaining: 0us\n"
     ]
    },
    {
     "data": {
      "text/plain": [
       "(array([-1834.35320037, -2574.99756552, -2055.22016501, -1227.16645977,\n",
       "        -2190.99714782, -1504.97795116, -1319.44438283, -1336.66749816,\n",
       "        -1445.22598242, -2083.68446623]),\n",
       " -1757.2734819283621)"
      ]
     },
     "execution_count": 167,
     "metadata": {},
     "output_type": "execute_result"
    }
   ],
   "source": [
    "scores = cross_val_score(cat_reg, xtrain2, ytrain2, scoring = 'neg_root_mean_squared_error', cv = 10)\n",
    "\n",
    "scores, np.mean(scores)"
   ]
  },
  {
   "cell_type": "code",
   "execution_count": 169,
   "metadata": {
    "scrolled": true
   },
   "outputs": [
    {
     "ename": "ValueError",
     "evalue": "'a' is not in list",
     "output_type": "error",
     "traceback": [
      "\u001b[0;31m---------------------------------------------------------------------------\u001b[0m",
      "\u001b[0;31mValueError\u001b[0m                                Traceback (most recent call last)",
      "\u001b[0;32m<ipython-input-169-d4c32b8c6a48>\u001b[0m in \u001b[0;36m<module>\u001b[0;34m\u001b[0m\n\u001b[0;32m----> 1\u001b[0;31m \u001b[0mcat_reg\u001b[0m\u001b[0;34m.\u001b[0m\u001b[0mfit\u001b[0m\u001b[0;34m(\u001b[0m\u001b[0mtrain\u001b[0m\u001b[0;34m.\u001b[0m\u001b[0mdrop\u001b[0m\u001b[0;34m(\u001b[0m\u001b[0;34m[\u001b[0m\u001b[0;34m'ID'\u001b[0m\u001b[0;34m,\u001b[0m \u001b[0;34m'Username'\u001b[0m\u001b[0;34m]\u001b[0m\u001b[0;34m,\u001b[0m \u001b[0maxis\u001b[0m \u001b[0;34m=\u001b[0m\u001b[0;36m1\u001b[0m\u001b[0;34m)\u001b[0m\u001b[0;34m,\u001b[0m \u001b[0mtrain\u001b[0m\u001b[0;34m.\u001b[0m\u001b[0mUpvotes\u001b[0m\u001b[0;34m,\u001b[0m \u001b[0mcat_features\u001b[0m\u001b[0;34m=\u001b[0m\u001b[0mtrain\u001b[0m\u001b[0;34m.\u001b[0m\u001b[0mTag\u001b[0m\u001b[0;34m,\u001b[0m \u001b[0mplot\u001b[0m\u001b[0;34m=\u001b[0m\u001b[0;32mTrue\u001b[0m\u001b[0;34m)\u001b[0m\u001b[0;34m\u001b[0m\u001b[0;34m\u001b[0m\u001b[0m\n\u001b[0m\u001b[1;32m      2\u001b[0m \u001b[0mplt\u001b[0m\u001b[0;34m.\u001b[0m\u001b[0mshow\u001b[0m\u001b[0;34m(\u001b[0m\u001b[0;34m)\u001b[0m\u001b[0;34m\u001b[0m\u001b[0;34m\u001b[0m\u001b[0m\n",
      "\u001b[0;32m/usr/local/anaconda3/lib/python3.7/site-packages/catboost/core.py\u001b[0m in \u001b[0;36mfit\u001b[0;34m(self, X, y, cat_features, sample_weight, baseline, use_best_model, eval_set, verbose, logging_level, plot, column_description, verbose_eval, metric_period, silent, early_stopping_rounds, save_snapshot, snapshot_file, snapshot_interval, init_model)\u001b[0m\n\u001b[1;32m   4660\u001b[0m                          \u001b[0muse_best_model\u001b[0m\u001b[0;34m,\u001b[0m \u001b[0meval_set\u001b[0m\u001b[0;34m,\u001b[0m \u001b[0mverbose\u001b[0m\u001b[0;34m,\u001b[0m \u001b[0mlogging_level\u001b[0m\u001b[0;34m,\u001b[0m \u001b[0mplot\u001b[0m\u001b[0;34m,\u001b[0m \u001b[0mcolumn_description\u001b[0m\u001b[0;34m,\u001b[0m\u001b[0;34m\u001b[0m\u001b[0;34m\u001b[0m\u001b[0m\n\u001b[1;32m   4661\u001b[0m                          \u001b[0mverbose_eval\u001b[0m\u001b[0;34m,\u001b[0m \u001b[0mmetric_period\u001b[0m\u001b[0;34m,\u001b[0m \u001b[0msilent\u001b[0m\u001b[0;34m,\u001b[0m \u001b[0mearly_stopping_rounds\u001b[0m\u001b[0;34m,\u001b[0m\u001b[0;34m\u001b[0m\u001b[0;34m\u001b[0m\u001b[0m\n\u001b[0;32m-> 4662\u001b[0;31m                          save_snapshot, snapshot_file, snapshot_interval, init_model)\n\u001b[0m\u001b[1;32m   4663\u001b[0m \u001b[0;34m\u001b[0m\u001b[0m\n\u001b[1;32m   4664\u001b[0m     \u001b[0;32mdef\u001b[0m \u001b[0mpredict\u001b[0m\u001b[0;34m(\u001b[0m\u001b[0mself\u001b[0m\u001b[0;34m,\u001b[0m \u001b[0mdata\u001b[0m\u001b[0;34m,\u001b[0m \u001b[0mprediction_type\u001b[0m\u001b[0;34m=\u001b[0m\u001b[0;32mNone\u001b[0m\u001b[0;34m,\u001b[0m \u001b[0mntree_start\u001b[0m\u001b[0;34m=\u001b[0m\u001b[0;36m0\u001b[0m\u001b[0;34m,\u001b[0m \u001b[0mntree_end\u001b[0m\u001b[0;34m=\u001b[0m\u001b[0;36m0\u001b[0m\u001b[0;34m,\u001b[0m \u001b[0mthread_count\u001b[0m\u001b[0;34m=\u001b[0m\u001b[0;34m-\u001b[0m\u001b[0;36m1\u001b[0m\u001b[0;34m,\u001b[0m \u001b[0mverbose\u001b[0m\u001b[0;34m=\u001b[0m\u001b[0;32mNone\u001b[0m\u001b[0;34m)\u001b[0m\u001b[0;34m:\u001b[0m\u001b[0;34m\u001b[0m\u001b[0;34m\u001b[0m\u001b[0m\n",
      "\u001b[0;32m/usr/local/anaconda3/lib/python3.7/site-packages/catboost/core.py\u001b[0m in \u001b[0;36m_fit\u001b[0;34m(self, X, y, cat_features, text_features, pairs, sample_weight, group_id, group_weight, subgroup_id, pairs_weight, baseline, use_best_model, eval_set, verbose, logging_level, plot, column_description, verbose_eval, metric_period, silent, early_stopping_rounds, save_snapshot, snapshot_file, snapshot_interval, init_model)\u001b[0m\n\u001b[1;32m   1729\u001b[0m             \u001b[0muse_best_model\u001b[0m\u001b[0;34m,\u001b[0m \u001b[0meval_set\u001b[0m\u001b[0;34m,\u001b[0m \u001b[0mverbose\u001b[0m\u001b[0;34m,\u001b[0m \u001b[0mlogging_level\u001b[0m\u001b[0;34m,\u001b[0m \u001b[0mplot\u001b[0m\u001b[0;34m,\u001b[0m\u001b[0;34m\u001b[0m\u001b[0;34m\u001b[0m\u001b[0m\n\u001b[1;32m   1730\u001b[0m             \u001b[0mcolumn_description\u001b[0m\u001b[0;34m,\u001b[0m \u001b[0mverbose_eval\u001b[0m\u001b[0;34m,\u001b[0m \u001b[0mmetric_period\u001b[0m\u001b[0;34m,\u001b[0m \u001b[0msilent\u001b[0m\u001b[0;34m,\u001b[0m \u001b[0mearly_stopping_rounds\u001b[0m\u001b[0;34m,\u001b[0m\u001b[0;34m\u001b[0m\u001b[0;34m\u001b[0m\u001b[0m\n\u001b[0;32m-> 1731\u001b[0;31m             \u001b[0msave_snapshot\u001b[0m\u001b[0;34m,\u001b[0m \u001b[0msnapshot_file\u001b[0m\u001b[0;34m,\u001b[0m \u001b[0msnapshot_interval\u001b[0m\u001b[0;34m,\u001b[0m \u001b[0minit_model\u001b[0m\u001b[0;34m\u001b[0m\u001b[0;34m\u001b[0m\u001b[0m\n\u001b[0m\u001b[1;32m   1732\u001b[0m         )\n\u001b[1;32m   1733\u001b[0m         \u001b[0mparams\u001b[0m \u001b[0;34m=\u001b[0m \u001b[0mtrain_params\u001b[0m\u001b[0;34m[\u001b[0m\u001b[0;34m\"params\"\u001b[0m\u001b[0;34m]\u001b[0m\u001b[0;34m\u001b[0m\u001b[0;34m\u001b[0m\u001b[0m\n",
      "\u001b[0;32m/usr/local/anaconda3/lib/python3.7/site-packages/catboost/core.py\u001b[0m in \u001b[0;36m_prepare_train_params\u001b[0;34m(self, X, y, cat_features, text_features, pairs, sample_weight, group_id, group_weight, subgroup_id, pairs_weight, baseline, use_best_model, eval_set, verbose, logging_level, plot, column_description, verbose_eval, metric_period, silent, early_stopping_rounds, save_snapshot, snapshot_file, snapshot_interval, init_model)\u001b[0m\n\u001b[1;32m   1617\u001b[0m \u001b[0;34m\u001b[0m\u001b[0m\n\u001b[1;32m   1618\u001b[0m         train_pool = _build_train_pool(X, y, cat_features, text_features, pairs, sample_weight, group_id,\n\u001b[0;32m-> 1619\u001b[0;31m                                        group_weight, subgroup_id, pairs_weight, baseline, column_description)\n\u001b[0m\u001b[1;32m   1620\u001b[0m         \u001b[0;32mif\u001b[0m \u001b[0mtrain_pool\u001b[0m\u001b[0;34m.\u001b[0m\u001b[0mis_empty_\u001b[0m\u001b[0;34m:\u001b[0m\u001b[0;34m\u001b[0m\u001b[0;34m\u001b[0m\u001b[0m\n\u001b[1;32m   1621\u001b[0m             \u001b[0;32mraise\u001b[0m \u001b[0mCatBoostError\u001b[0m\u001b[0;34m(\u001b[0m\u001b[0;34m\"X is empty.\"\u001b[0m\u001b[0;34m)\u001b[0m\u001b[0;34m\u001b[0m\u001b[0;34m\u001b[0m\u001b[0m\n",
      "\u001b[0;32m/usr/local/anaconda3/lib/python3.7/site-packages/catboost/core.py\u001b[0m in \u001b[0;36m_build_train_pool\u001b[0;34m(X, y, cat_features, text_features, pairs, sample_weight, group_id, group_weight, subgroup_id, pairs_weight, baseline, column_description)\u001b[0m\n\u001b[1;32m    955\u001b[0m             \u001b[0;32mraise\u001b[0m \u001b[0mCatBoostError\u001b[0m\u001b[0;34m(\u001b[0m\u001b[0;34m\"y has not initialized in fit(): X is not catboost.Pool object, y must be not None in fit().\"\u001b[0m\u001b[0;34m)\u001b[0m\u001b[0;34m\u001b[0m\u001b[0;34m\u001b[0m\u001b[0m\n\u001b[1;32m    956\u001b[0m         train_pool = Pool(X, y, cat_features=cat_features, text_features=text_features, pairs=pairs, weight=sample_weight, group_id=group_id,\n\u001b[0;32m--> 957\u001b[0;31m                           group_weight=group_weight, subgroup_id=subgroup_id, pairs_weight=pairs_weight, baseline=baseline)\n\u001b[0m\u001b[1;32m    958\u001b[0m     \u001b[0;32mreturn\u001b[0m \u001b[0mtrain_pool\u001b[0m\u001b[0;34m\u001b[0m\u001b[0;34m\u001b[0m\u001b[0m\n\u001b[1;32m    959\u001b[0m \u001b[0;34m\u001b[0m\u001b[0m\n",
      "\u001b[0;32m/usr/local/anaconda3/lib/python3.7/site-packages/catboost/core.py\u001b[0m in \u001b[0;36m__init__\u001b[0;34m(self, data, label, cat_features, text_features, column_description, pairs, delimiter, has_header, weight, group_id, group_weight, subgroup_id, pairs_weight, baseline, feature_names, thread_count)\u001b[0m\n\u001b[1;32m    432\u001b[0m                     )\n\u001b[1;32m    433\u001b[0m \u001b[0;34m\u001b[0m\u001b[0m\n\u001b[0;32m--> 434\u001b[0;31m                 \u001b[0mself\u001b[0m\u001b[0;34m.\u001b[0m\u001b[0m_init\u001b[0m\u001b[0;34m(\u001b[0m\u001b[0mdata\u001b[0m\u001b[0;34m,\u001b[0m \u001b[0mlabel\u001b[0m\u001b[0;34m,\u001b[0m \u001b[0mcat_features\u001b[0m\u001b[0;34m,\u001b[0m \u001b[0mtext_features\u001b[0m\u001b[0;34m,\u001b[0m \u001b[0mpairs\u001b[0m\u001b[0;34m,\u001b[0m \u001b[0mweight\u001b[0m\u001b[0;34m,\u001b[0m \u001b[0mgroup_id\u001b[0m\u001b[0;34m,\u001b[0m \u001b[0mgroup_weight\u001b[0m\u001b[0;34m,\u001b[0m \u001b[0msubgroup_id\u001b[0m\u001b[0;34m,\u001b[0m \u001b[0mpairs_weight\u001b[0m\u001b[0;34m,\u001b[0m \u001b[0mbaseline\u001b[0m\u001b[0;34m,\u001b[0m \u001b[0mfeature_names\u001b[0m\u001b[0;34m,\u001b[0m \u001b[0mthread_count\u001b[0m\u001b[0;34m)\u001b[0m\u001b[0;34m\u001b[0m\u001b[0;34m\u001b[0m\u001b[0m\n\u001b[0m\u001b[1;32m    435\u001b[0m         \u001b[0msuper\u001b[0m\u001b[0;34m(\u001b[0m\u001b[0mPool\u001b[0m\u001b[0;34m,\u001b[0m \u001b[0mself\u001b[0m\u001b[0;34m)\u001b[0m\u001b[0;34m.\u001b[0m\u001b[0m__init__\u001b[0m\u001b[0;34m(\u001b[0m\u001b[0;34m)\u001b[0m\u001b[0;34m\u001b[0m\u001b[0;34m\u001b[0m\u001b[0m\n\u001b[1;32m    436\u001b[0m \u001b[0;34m\u001b[0m\u001b[0m\n",
      "\u001b[0;32m/usr/local/anaconda3/lib/python3.7/site-packages/catboost/core.py\u001b[0m in \u001b[0;36m_init\u001b[0;34m(self, data, label, cat_features, text_features, pairs, weight, group_id, group_weight, subgroup_id, pairs_weight, baseline, feature_names, thread_count)\u001b[0m\n\u001b[1;32m    898\u001b[0m             \u001b[0mself\u001b[0m\u001b[0;34m.\u001b[0m\u001b[0m_check_feature_names\u001b[0m\u001b[0;34m(\u001b[0m\u001b[0mfeature_names\u001b[0m\u001b[0;34m,\u001b[0m \u001b[0mfeatures_count\u001b[0m\u001b[0;34m)\u001b[0m\u001b[0;34m\u001b[0m\u001b[0;34m\u001b[0m\u001b[0m\n\u001b[1;32m    899\u001b[0m         \u001b[0;32mif\u001b[0m \u001b[0mcat_features\u001b[0m \u001b[0;32mis\u001b[0m \u001b[0;32mnot\u001b[0m \u001b[0;32mNone\u001b[0m\u001b[0;34m:\u001b[0m\u001b[0;34m\u001b[0m\u001b[0;34m\u001b[0m\u001b[0m\n\u001b[0;32m--> 900\u001b[0;31m             \u001b[0mcat_features\u001b[0m \u001b[0;34m=\u001b[0m \u001b[0m_get_features_indices\u001b[0m\u001b[0;34m(\u001b[0m\u001b[0mcat_features\u001b[0m\u001b[0;34m,\u001b[0m \u001b[0mfeature_names\u001b[0m\u001b[0;34m)\u001b[0m\u001b[0;34m\u001b[0m\u001b[0;34m\u001b[0m\u001b[0m\n\u001b[0m\u001b[1;32m    901\u001b[0m             \u001b[0mself\u001b[0m\u001b[0;34m.\u001b[0m\u001b[0m_check_string_feature_type\u001b[0m\u001b[0;34m(\u001b[0m\u001b[0mcat_features\u001b[0m\u001b[0;34m,\u001b[0m \u001b[0;34m'cat_features'\u001b[0m\u001b[0;34m)\u001b[0m\u001b[0;34m\u001b[0m\u001b[0;34m\u001b[0m\u001b[0m\n\u001b[1;32m    902\u001b[0m             \u001b[0mself\u001b[0m\u001b[0;34m.\u001b[0m\u001b[0m_check_string_feature_value\u001b[0m\u001b[0;34m(\u001b[0m\u001b[0mcat_features\u001b[0m\u001b[0;34m,\u001b[0m \u001b[0mfeatures_count\u001b[0m\u001b[0;34m,\u001b[0m \u001b[0;34m'cat_features'\u001b[0m\u001b[0;34m)\u001b[0m\u001b[0;34m\u001b[0m\u001b[0;34m\u001b[0m\u001b[0m\n",
      "\u001b[0;32m/usr/local/anaconda3/lib/python3.7/site-packages/catboost/core.py\u001b[0m in \u001b[0;36m_get_features_indices\u001b[0;34m(features, feature_names)\u001b[0m\n\u001b[1;32m    186\u001b[0m         return [\n\u001b[1;32m    187\u001b[0m             \u001b[0mfeature_names\u001b[0m\u001b[0;34m.\u001b[0m\u001b[0mindex\u001b[0m\u001b[0;34m(\u001b[0m\u001b[0mf\u001b[0m\u001b[0;34m)\u001b[0m \u001b[0;32mif\u001b[0m \u001b[0misinstance\u001b[0m\u001b[0;34m(\u001b[0m\u001b[0mf\u001b[0m\u001b[0;34m,\u001b[0m \u001b[0mSTRING_TYPES\u001b[0m\u001b[0;34m)\u001b[0m \u001b[0;32melse\u001b[0m \u001b[0mf\u001b[0m\u001b[0;34m\u001b[0m\u001b[0;34m\u001b[0m\u001b[0m\n\u001b[0;32m--> 188\u001b[0;31m             \u001b[0;32mfor\u001b[0m \u001b[0mf\u001b[0m \u001b[0;32min\u001b[0m \u001b[0mfeatures\u001b[0m\u001b[0;34m\u001b[0m\u001b[0;34m\u001b[0m\u001b[0m\n\u001b[0m\u001b[1;32m    189\u001b[0m         ]\n\u001b[1;32m    190\u001b[0m     \u001b[0;32melse\u001b[0m\u001b[0;34m:\u001b[0m\u001b[0;34m\u001b[0m\u001b[0;34m\u001b[0m\u001b[0m\n",
      "\u001b[0;32m/usr/local/anaconda3/lib/python3.7/site-packages/catboost/core.py\u001b[0m in \u001b[0;36m<listcomp>\u001b[0;34m(.0)\u001b[0m\n\u001b[1;32m    186\u001b[0m         return [\n\u001b[1;32m    187\u001b[0m             \u001b[0mfeature_names\u001b[0m\u001b[0;34m.\u001b[0m\u001b[0mindex\u001b[0m\u001b[0;34m(\u001b[0m\u001b[0mf\u001b[0m\u001b[0;34m)\u001b[0m \u001b[0;32mif\u001b[0m \u001b[0misinstance\u001b[0m\u001b[0;34m(\u001b[0m\u001b[0mf\u001b[0m\u001b[0;34m,\u001b[0m \u001b[0mSTRING_TYPES\u001b[0m\u001b[0;34m)\u001b[0m \u001b[0;32melse\u001b[0m \u001b[0mf\u001b[0m\u001b[0;34m\u001b[0m\u001b[0;34m\u001b[0m\u001b[0m\n\u001b[0;32m--> 188\u001b[0;31m             \u001b[0;32mfor\u001b[0m \u001b[0mf\u001b[0m \u001b[0;32min\u001b[0m \u001b[0mfeatures\u001b[0m\u001b[0;34m\u001b[0m\u001b[0;34m\u001b[0m\u001b[0m\n\u001b[0m\u001b[1;32m    189\u001b[0m         ]\n\u001b[1;32m    190\u001b[0m     \u001b[0;32melse\u001b[0m\u001b[0;34m:\u001b[0m\u001b[0;34m\u001b[0m\u001b[0;34m\u001b[0m\u001b[0m\n",
      "\u001b[0;31mValueError\u001b[0m: 'a' is not in list"
     ]
    }
   ],
   "source": [
    "cat_reg.fit(train.drop(['ID', 'Username'], axis =1), train.Upvotes, cat_features=train.Tag, plot=True)\n",
    "plt.show()"
   ]
  },
  {
   "cell_type": "code",
   "execution_count": null,
   "metadata": {},
   "outputs": [],
   "source": [
    "#cat_reg.predict(xtest2)"
   ]
  },
  {
   "cell_type": "code",
   "execution_count": null,
   "metadata": {},
   "outputs": [],
   "source": []
  },
  {
   "cell_type": "code",
   "execution_count": 311,
   "metadata": {},
   "outputs": [
    {
     "data": {
      "text/plain": [
       "Pipeline(memory=None,\n",
       "         steps=[('polynomial',\n",
       "                 PolynomialFeatures(degree=3, include_bias=True,\n",
       "                                    interaction_only=False, order='C')),\n",
       "                ('modal',\n",
       "                 LinearRegression(copy_X=True, fit_intercept=True, n_jobs=None,\n",
       "                                  normalize=False))],\n",
       "         verbose=False)"
      ]
     },
     "execution_count": 311,
     "metadata": {},
     "output_type": "execute_result"
    }
   ],
   "source": [
    "# importing libraries for polynomial transform\n",
    "from sklearn.preprocessing import PolynomialFeatures\n",
    "from sklearn.linear_model import LinearRegression\n",
    "\n",
    "# for creating pipeline\n",
    "from sklearn.pipeline import Pipeline\n",
    "# creating pipeline and fitting it on data\n",
    "\n",
    "\n",
    "Input=[('polynomial',PolynomialFeatures(degree=3)),('modal',LinearRegression())]\n",
    "pipe=Pipeline(Input)\n",
    "pipe.fit(X_train,y_train)"
   ]
  },
  {
   "cell_type": "code",
   "execution_count": 315,
   "metadata": {},
   "outputs": [],
   "source": [
    "vpred = pipe.predict(xtest2)"
   ]
  },
  {
   "cell_type": "code",
   "execution_count": 316,
   "metadata": {},
   "outputs": [],
   "source": [
    "predd = pd.DataFrame({'ID': test.ID, 'Upvotes': vpred})\n",
    "predd.Upvotes = predd.Upvotes.clip(0)\n",
    "predd.to_csv(\"predd.csv\", index_label = False)"
   ]
  },
  {
   "cell_type": "code",
   "execution_count": null,
   "metadata": {},
   "outputs": [],
   "source": []
  }
 ],
 "metadata": {
  "kernelspec": {
   "display_name": "Python 3",
   "language": "python",
   "name": "python3"
  },
  "language_info": {
   "codemirror_mode": {
    "name": "ipython",
    "version": 3
   },
   "file_extension": ".py",
   "mimetype": "text/x-python",
   "name": "python",
   "nbconvert_exporter": "python",
   "pygments_lexer": "ipython3",
   "version": "3.7.6"
  }
 },
 "nbformat": 4,
 "nbformat_minor": 4
}
